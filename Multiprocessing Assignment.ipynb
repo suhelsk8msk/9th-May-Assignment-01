{
 "cells": [
  {
   "cell_type": "markdown",
   "id": "960cecbf-5bad-4b81-88ce-58398fca5144",
   "metadata": {},
   "source": [
    "Q1 -What is multiprocessing in python? Why is it useful?"
   ]
  },
  {
   "cell_type": "markdown",
   "id": "015ba800-1728-4e9b-8b6d-987b103f8aff",
   "metadata": {},
   "source": [
    "Multiprocessing in Python:\n",
    "\n",
    "Multiprocessing in Python refers to the capability of a program to create and run multiple processes concurrently, each with its own memory space."
   ]
  },
  {
   "cell_type": "markdown",
   "id": "fc21616e-0b51-4a4b-ad03-6efef2fb7510",
   "metadata": {},
   "source": [
    "Key Components of the multiprocessing Module:\n",
    "\n",
    "1 Process Class:\n",
    "\n",
    "The Process class is provided by the multiprocessing module and is used to create new processes. Each process has its own Python interpreter and memory space.\n",
    "\n",
    "2 Communication Between Processes:\n",
    "\n",
    "The module provides mechanisms for communication between processes, such as Queue and Pipe, enabling data exchange.\n",
    "\n",
    "3 Parallel Execution:\n",
    "\n",
    "Multiprocessing allows parallel execution of code on multiple CPU cores, taking advantage of multicore systems"
   ]
  },
  {
   "cell_type": "code",
   "execution_count": null,
   "id": "20d8074b-a57a-4fdd-886a-bca974518ce9",
   "metadata": {},
   "outputs": [],
   "source": []
  },
  {
   "cell_type": "markdown",
   "id": "c4dd045b-51c4-42dd-85ee-3fe3bd26f766",
   "metadata": {},
   "source": [
    "Usefulness of Multiprocessing in Python:\n",
    "\n",
    "1 Parallelism:\n",
    "\n",
    "Multiprocessing enables parallel execution of tasks by distributing them across multiple processes. This is particularly useful for computationally intensive operations that can be broken down into independent subtasks.\n",
    "\n",
    "2 Improved Performance:\n",
    "\n",
    "By utilizing multiple CPU cores, multiprocessing can lead to improved performance and faster execution of programs, especially when dealing with tasks that can be parallelized.\n",
    "\n",
    "3 Isolation of Processes:\n",
    "\n",
    "Each process runs in its own memory space, providing isolation. This helps avoid issues such as shared memory conflicts and race conditions that can arise in multithreading.\n",
    "\n",
    "4 Effective Resource Utilization:\n",
    "\n",
    "Multiprocessing makes efficient use of available system resources, as each process can run independently and take advantage of multicore architectures.\n",
    "\n",
    "5 Fault Tolerance:\n",
    "\n",
    "Since each process runs independently, if one process encounters an error or crashes, it does not necessarily affect the others. This enhances the overall fault tolerance of the system.\n",
    "\n",
    "6 Compatibility with CPU-Bound Tasks:\n",
    "\n",
    "Multiprocessing is well-suited for CPU-bound tasks where the primary bottleneck is the processing power of the CPU, as opposed to I/O-bound tasks where waiting for external resources is the limiting factor.\n",
    "\n",
    "7 Scalability:\n",
    "\n",
    "Multiprocessing can lead to improved scalability by efficiently utilizing multiple CPU cores, making it suitable for applications that need to scale across various hardware configurations."
   ]
  },
  {
   "cell_type": "code",
   "execution_count": null,
   "id": "5e40839f-bd5c-4d95-85a7-c2b2c65069e1",
   "metadata": {},
   "outputs": [],
   "source": []
  },
  {
   "cell_type": "markdown",
   "id": "0821468b-90c1-4c05-b9f5-fc348ca406f9",
   "metadata": {},
   "source": [
    "Q2. What are the differences between multiprocessing and multithreading?"
   ]
  },
  {
   "cell_type": "markdown",
   "id": "b64f489b-98d3-4308-b2e5-b5e29817c137",
   "metadata": {},
   "source": [
    "1. Memory Space:\n",
    "\n",
    "\n",
    "Multiprocessing: Each process has its own memory space, which means that processes do not share memory by default. Communication between processes is typically achieved through inter-process communication (IPC) mechanisms.\n",
    "\n",
    "\n",
    "Multithreading: Threads within the same process share the same memory space, allowing them to access shared data directly. However, this can lead to synchronization issues and the need for explicit locking mechanisms to avoid race conditions."
   ]
  },
  {
   "cell_type": "markdown",
   "id": "9146136f-5db1-4914-b138-25941235be09",
   "metadata": {},
   "source": [
    "2 Parallelism:\n",
    "\n",
    "Multiprocessing: Multiple processes can run in parallel on multiple CPU cores, providing true parallelism. Each process has its own Global Interpreter Lock (GIL), allowing Python to fully utilize multicore systems.\n",
    "\n",
    "\n",
    "Multithreading: Due to the Global Interpreter Lock (GIL) in CPython, multiple threads within the same process cannot execute Python bytecode simultaneously. Therefore, multithreading in Python is not suitable for CPU-bound tasks that require true parallelism."
   ]
  },
  {
   "cell_type": "markdown",
   "id": "796768ce-66ef-4643-843f-65621533bcc2",
   "metadata": {},
   "source": [
    "3- Isolation:\n",
    "\n",
    "Multiprocessing: Processes are isolated, and issues in one process (such as a crash or memory corruption) do not affect other processes. This enhances fault tolerance.\n",
    "\n",
    "Multithreading: Threads within the same process share resources, and issues such as race conditions or memory corruption can impact the entire process."
   ]
  },
  {
   "cell_type": "markdown",
   "id": "04a417c9-6d37-4e4b-9871-d18080fe19d7",
   "metadata": {},
   "source": [
    "4. Communication:\n",
    "\n",
    "Multiprocessing: Communication between processes is typically achieved through IPC mechanisms provided by the multiprocessing module, such as Queue and Pipe.\n",
    "\n",
    "Multithreading: Communication between threads can be done through shared data structures, but proper synchronization mechanisms (e.g., locks) are required to avoid race conditions."
   ]
  },
  {
   "cell_type": "markdown",
   "id": "daf3ccb4-0cd6-40c7-8d6d-d7a727e422a6",
   "metadata": {},
   "source": [
    "5. Complexity:\n",
    "\n",
    "Multiprocessing: Creating and managing processes can be more resource-intensive and may involve more overhead compared to threads. Inter-process communication can introduce additional complexity.\n",
    "\n",
    "Multithreading: Threads are lightweight, and the shared memory model simplifies communication. However, managing synchronization and avoiding race conditions can add complexity to multithreaded programs."
   ]
  },
  {
   "cell_type": "markdown",
   "id": "d4629013-bbd7-44c6-b2c9-d08e2b7d186b",
   "metadata": {},
   "source": [
    "6. Use Cases:\n",
    "\n",
    "Multiprocessing: Well-suited for CPU-bound tasks that can be parallelized, taking advantage of multiple CPU cores. Effective for achieving parallelism in computationally intensive operations.\n",
    "\n",
    "Multithreading: Suitable for I/O-bound tasks where threads can overlap waiting for external resources. Useful in scenarios where parallelism is not the primary concern."
   ]
  },
  {
   "cell_type": "code",
   "execution_count": null,
   "id": "de7d6ee4-a732-4c2b-aaa3-781ae60e89b3",
   "metadata": {},
   "outputs": [],
   "source": []
  },
  {
   "cell_type": "markdown",
   "id": "5ca26138-082d-4298-8666-8f477af1d6ee",
   "metadata": {},
   "source": [
    "Q3. Write a python code to create a process using the multiprocessing module."
   ]
  },
  {
   "cell_type": "code",
   "execution_count": 1,
   "id": "b0ede7e3-96fc-4ac1-8e38-426849e2572e",
   "metadata": {},
   "outputs": [
    {
     "name": "stdout",
     "output_type": "stream",
     "text": [
      "Child process ID: 5869\n",
      "Main process ID: 5585\n",
      "Main process exiting.\n"
     ]
    }
   ],
   "source": [
    "import multiprocessing\n",
    "import os\n",
    "\n",
    "def process_function():\n",
    "    # This function will be executed in the new process\n",
    "    process_id = os.getpid()\n",
    "    print(f\"Child process ID: {process_id}\")\n",
    "\n",
    "if __name__ == \"__main__\":\n",
    "    # This block ensures that the code is executed only when the script is run, not when it's imported as a module\n",
    "\n",
    "    # Creating a new process\n",
    "    my_process = multiprocessing.Process(target=process_function)\n",
    "\n",
    "    # Starting the process\n",
    "    my_process.start()\n",
    "\n",
    "    # Waiting for the process to finish (optional)\n",
    "    my_process.join()\n",
    "\n",
    "    # This code will be executed by the main process\n",
    "    main_process_id = os.getpid()\n",
    "    print(f\"Main process ID: {main_process_id}\")\n",
    "\n",
    "    print(\"Main process exiting.\")\n"
   ]
  },
  {
   "cell_type": "code",
   "execution_count": null,
   "id": "d0ea7836-d74b-429e-96b6-60276bfa77cb",
   "metadata": {},
   "outputs": [],
   "source": []
  },
  {
   "cell_type": "markdown",
   "id": "2f2bda8f-1a0e-4dd7-93df-9d333661a79b",
   "metadata": {},
   "source": [
    "Q4. What is a multiprocessing pool in python? Why is it used?"
   ]
  },
  {
   "cell_type": "markdown",
   "id": "3d47bba0-fc6d-4fa6-b03e-7a4b5ace6360",
   "metadata": {},
   "source": [
    "A multiprocessing pool in Python refers to a mechanism provided by the multiprocessing module to manage and distribute tasks across a pool of worker processes. The main purpose of using a multiprocessing pool is to parallelize the execution of a function over a large dataset or a set of tasks, taking advantage of multiple CPU cores. "
   ]
  },
  {
   "cell_type": "markdown",
   "id": "156a0dca-e6c7-42ab-9352-31c259f419da",
   "metadata": {},
   "source": [
    "Key features and characteristics of a multiprocessing pool:\n",
    "\n",
    "Parallel Execution:\n",
    "\n",
    "A multiprocessing pool enables parallel execution of a function or task across multiple processes. Each process in the pool performs a portion of the overall workload.\n",
    "\n",
    "Worker Processes:\n",
    "\n",
    "The pool consists of a specified number of worker processes. Each worker process is created and managed by the pool to execute tasks concurrently.\n",
    "\n",
    "Task Distribution:\n",
    "\n",
    "The pool distributes tasks to the available worker processes, ensuring that the workload is evenly divided among them. This is particularly useful for tasks that can be parallelized, such as independent computations on elements of a list.\n",
    "\n",
    "Simplified API:\n",
    "\n",
    "The multiprocessing pool provides a high-level and easy-to-use API, such as the map() and apply() methods, making it straightforward to parallelize functions without dealing with low-level process management details.\n",
    "\n",
    "Shared Memory Model:\n",
    "\n",
    "The pool uses a shared memory model, allowing each worker process to access shared data or resources. The pool handles the synchronization and communication between processes.\n",
    "\n",
    "Efficient Resource Utilization:\n",
    "\n",
    "Multiprocessing pools make efficient use of available system resources, especially in scenarios where CPU-bound tasks can be distributed across multiple cores."
   ]
  },
  {
   "cell_type": "code",
   "execution_count": null,
   "id": "17000400-f6d6-42a0-83e9-cf921010615b",
   "metadata": {},
   "outputs": [],
   "source": []
  },
  {
   "cell_type": "markdown",
   "id": "8d1b8893-e026-44f6-9ce2-e77d11555117",
   "metadata": {},
   "source": [
    "Q5. How can we create a pool of worker processes in python using the multiprocessing module?"
   ]
  },
  {
   "cell_type": "markdown",
   "id": "7551475c-2392-45e0-920c-51b8a1b5a37b",
   "metadata": {},
   "source": [
    "you can create a pool of worker processes using the multiprocessing module, specifically the Pool class. The Pool class simplifies the process of managing multiple worker processes and distributing tasks across them."
   ]
  },
  {
   "cell_type": "code",
   "execution_count": 3,
   "id": "5c35c66e-8cae-4cbf-8439-249dd3924113",
   "metadata": {},
   "outputs": [
    {
     "name": "stdout",
     "output_type": "stream",
     "text": [
      "Original numbers: [1, 2, 3, 4, 5]\n",
      "Squared numbers: [1, 4, 9, 16, 25]\n"
     ]
    }
   ],
   "source": [
    "import multiprocessing\n",
    "\n",
    "def square_number(x):\n",
    "    return x**2\n",
    "\n",
    "if __name__ == \"__main__\":\n",
    "    # Create a multiprocessing pool with 4 worker processes\n",
    "    with multiprocessing.Pool(processes=4) as pool:\n",
    "        # Define a list of numbers\n",
    "        numbers = [1, 2, 3, 4, 5]\n",
    "\n",
    "        # Use the map function to apply the square_number function to each element in the list\n",
    "        results = pool.map(square_number, numbers)\n",
    "\n",
    "       \n",
    "        print(\"Original numbers:\", numbers)\n",
    "        print(\"Squared numbers:\", results)\n"
   ]
  },
  {
   "cell_type": "code",
   "execution_count": null,
   "id": "139a06cf-377d-484b-a26f-e099fb57fdd5",
   "metadata": {},
   "outputs": [],
   "source": []
  },
  {
   "cell_type": "markdown",
   "id": "01e0186c-1237-4b5e-9791-e4108d14b514",
   "metadata": {},
   "source": [
    "Q6. Write a python program to create 4 processes, each process should print a different number using the\n",
    "multiprocessing module in python."
   ]
  },
  {
   "cell_type": "code",
   "execution_count": null,
   "id": "3ee8f340-e63e-4cc2-b4b9-50c11a3dd8e6",
   "metadata": {},
   "outputs": [],
   "source": []
  },
  {
   "cell_type": "code",
   "execution_count": 4,
   "id": "42db6c5b-860e-4425-80f8-9142d8899482",
   "metadata": {},
   "outputs": [
    {
     "name": "stdout",
     "output_type": "stream",
     "text": [
      "Process 1: My PID is 6148\n",
      "Process 2: My PID is 6151\n",
      "Process 3: My PID is 6158\n",
      "Process 4: My PID is 6161\n",
      "Main process exiting.\n"
     ]
    }
   ],
   "source": [
    "import multiprocessing\n",
    "\n",
    "def print_number(number):\n",
    "    print(f\"Process {number}: My PID is {multiprocessing.current_process().pid}\")\n",
    "\n",
    "if __name__ == \"__main__\":\n",
    "    # Create a list of numbers (1 to 4)\n",
    "    numbers = [1, 2, 3, 4]\n",
    "\n",
    "    # Create and start 4 processes\n",
    "    processes = []\n",
    "    for num in numbers:\n",
    "        process = multiprocessing.Process(target=print_number, args=(num,))\n",
    "        processes.append(process)\n",
    "        process.start()\n",
    "\n",
    "    # Wait for all processes to finish\n",
    "    for process in processes:\n",
    "        process.join()\n",
    "\n",
    "    print(\"Main process exiting.\")\n"
   ]
  },
  {
   "cell_type": "code",
   "execution_count": null,
   "id": "0f39339c-45b1-4775-8849-bd4baa1d266b",
   "metadata": {},
   "outputs": [],
   "source": []
  }
 ],
 "metadata": {
  "kernelspec": {
   "display_name": "Python 3 (ipykernel)",
   "language": "python",
   "name": "python3"
  },
  "language_info": {
   "codemirror_mode": {
    "name": "ipython",
    "version": 3
   },
   "file_extension": ".py",
   "mimetype": "text/x-python",
   "name": "python",
   "nbconvert_exporter": "python",
   "pygments_lexer": "ipython3",
   "version": "3.10.8"
  }
 },
 "nbformat": 4,
 "nbformat_minor": 5
}
