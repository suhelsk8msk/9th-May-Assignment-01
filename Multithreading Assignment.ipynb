{
 "cells": [
  {
   "cell_type": "markdown",
   "id": "b55d16e0-4218-41cf-86a8-99be1e2f5f2a",
   "metadata": {},
   "source": [
    "Multithreading Assignment"
   ]
  },
  {
   "cell_type": "markdown",
   "id": "aa04ef22-dfd5-4cf7-b307-2ac17d3fbc94",
   "metadata": {},
   "source": [
    "Q1 -  What is multithreading in python? Why is it used? Name the module used to handle threads in python."
   ]
  },
  {
   "cell_type": "markdown",
   "id": "fa31ba87-c768-40a9-988c-bfc73b35efb1",
   "metadata": {},
   "source": [
    "Ans - Multithreading in Python refers to the concurrent execution of multiple threads within a single process. A thread is a lightweight unit of execution, and multithreading allows multiple threads to run in parallel, sharing the same resources such as memory space but having their own separate execution paths."
   ]
  },
  {
   "cell_type": "markdown",
   "id": "1f4eb337-62c9-4a30-a1dc-8c59dce19d60",
   "metadata": {},
   "source": [
    "Why Multithreading is Used:\n",
    "\n",
    "1 Concurrency: Multithreading allows concurrent execution of tasks, making it possible to perform multiple operations simultaneously.\n",
    "\n",
    "2 Responsive User Interfaces: In graphical user interface (GUI) applications, multithreading can help maintain responsiveness by running time-consuming operations in a separate thread, preventing the main user interface from freezing.\n",
    "\n",
    "3 Parallelism for I/O-Bound Tasks: Multithreading is effective for I/O-bound tasks, such as network communication or file operations, where the threads can perform other tasks while waiting for I/O operations to complete.\n",
    "\n",
    "4 Improved Performance: Although the Global Interpreter Lock (GIL) limits true parallelism in CPython, multithreading can still provide performance benefits for certain tasks, such as parallelizing I/O-bound operations.\n",
    "\n",
    "5 Asynchronous Programming: Multithreading is often used in combination with asynchronous programming to handle concurrent tasks more efficiently."
   ]
  },
  {
   "cell_type": "markdown",
   "id": "059a968c-27cc-42a6-b73b-10021c0dee1f",
   "metadata": {},
   "source": [
    "Module for Handling Threads in Python:\n",
    "\n",
    "The threading module is used to handle threads in Python. It provides a high-level interface for creating and managing threads. With the threading module, you can create, start, join, and synchronize threads easily. "
   ]
  },
  {
   "cell_type": "code",
   "execution_count": 1,
   "id": "70e24277-73cd-405d-94c0-c3b84f7f29b8",
   "metadata": {},
   "outputs": [
    {
     "name": "stdout",
     "output_type": "stream",
     "text": [
      "0\n",
      "A\n",
      "1\n",
      "B\n",
      "2\n",
      "C\n",
      "3\n",
      "D\n",
      "4\n",
      "E\n"
     ]
    }
   ],
   "source": [
    "import threading\n",
    "import time\n",
    "\n",
    "def print_numbers():\n",
    "    for i in range(5):\n",
    "        time.sleep(1)\n",
    "        print(i)\n",
    "\n",
    "def print_letters():\n",
    "    for letter in 'ABCDE':\n",
    "        time.sleep(1)\n",
    "        print(letter)\n",
    "\n",
    "# Create two threads\n",
    "thread1 = threading.Thread(target=print_numbers)\n",
    "thread2 = threading.Thread(target=print_letters)\n",
    "\n",
    "# Start the threads\n",
    "thread1.start()\n",
    "thread2.start()\n",
    "\n",
    "# Wait for both threads to finish\n",
    "thread1.join()\n",
    "thread2.join()\n"
   ]
  },
  {
   "cell_type": "code",
   "execution_count": null,
   "id": "ee0aa325-b842-4445-9336-802bf406e255",
   "metadata": {},
   "outputs": [],
   "source": []
  },
  {
   "cell_type": "markdown",
   "id": "8563699d-fb9c-4e0b-95b2-4f0b6ed506c4",
   "metadata": {},
   "source": [
    "Q2 - Why threading module used? Write the use of the following functions:\n",
    "\n",
    "1 activeCount()\n",
    "\n",
    "2 currentThread()\n",
    "\n",
    "3 enumerate()"
   ]
  },
  {
   "cell_type": "code",
   "execution_count": null,
   "id": "5343bb0e-62a2-4d66-ab7a-55e2d2665401",
   "metadata": {},
   "outputs": [],
   "source": []
  },
  {
   "cell_type": "markdown",
   "id": "1532a594-559c-4682-8922-ca532be11e64",
   "metadata": {},
   "source": [
    "Ans - The threading module in Python is used for concurrent programming, allowing multiple threads to execute independently but share the same resources. Threads are lighter than processes and are suitable for tasks that can be parallelized. The module provides various functions and classes to work with threads."
   ]
  },
  {
   "cell_type": "markdown",
   "id": "fd06c830-0c38-4c6c-abea-1a7b420f607c",
   "metadata": {},
   "source": [
    "activeCount():\n",
    "\n",
    "Use: This function returns the number of Thread objects currently alive. A Thread object is considered alive from the moment it is created until it is terminated."
   ]
  },
  {
   "cell_type": "code",
   "execution_count": 2,
   "id": "9abf3d0b-3e41-497a-860e-70052998c9d1",
   "metadata": {},
   "outputs": [
    {
     "name": "stdout",
     "output_type": "stream",
     "text": [
      "Working...\n",
      "Working...\n",
      "Active threads: 8\n"
     ]
    },
    {
     "name": "stderr",
     "output_type": "stream",
     "text": [
      "/tmp/ipykernel_4069/3351269675.py:15: DeprecationWarning: activeCount() is deprecated, use active_count() instead\n",
      "  print(\"Active threads:\", threading.activeCount())\n"
     ]
    }
   ],
   "source": [
    "import threading\n",
    "\n",
    "def worker():\n",
    "    print(\"Working...\")\n",
    "\n",
    "# Creating threads\n",
    "thread1 = threading.Thread(target=worker)\n",
    "thread2 = threading.Thread(target=worker)\n",
    "\n",
    "# Starting threads\n",
    "thread1.start()\n",
    "thread2.start()\n",
    "\n",
    "# Getting the number of active threads\n",
    "print(\"Active threads:\", threading.activeCount())\n"
   ]
  },
  {
   "cell_type": "code",
   "execution_count": null,
   "id": "89c2bdd6-7e6d-4fc5-b59b-99a58f487cfa",
   "metadata": {},
   "outputs": [],
   "source": []
  },
  {
   "cell_type": "markdown",
   "id": "5f66862f-e0b6-4ad1-bc65-b9bf885df489",
   "metadata": {},
   "source": [
    "currentThread():"
   ]
  },
  {
   "cell_type": "markdown",
   "id": "6e286db4-00ee-44a8-ac3b-597ed9c1a53f",
   "metadata": {},
   "source": [
    "Use: Returns the current Thread object corresponding to the caller's thread of control. This allows you to obtain a reference to the current thread and perform various operations on it."
   ]
  },
  {
   "cell_type": "code",
   "execution_count": 3,
   "id": "5fe1badf-8bbd-4808-85ef-72faf746ec65",
   "metadata": {},
   "outputs": [
    {
     "name": "stdout",
     "output_type": "stream",
     "text": [
      "Current Thread: Thread-9 (print_current_thread)\n"
     ]
    },
    {
     "name": "stderr",
     "output_type": "stream",
     "text": [
      "/tmp/ipykernel_4069/427783470.py:4: DeprecationWarning: currentThread() is deprecated, use current_thread() instead\n",
      "  current_thread = threading.currentThread()\n"
     ]
    }
   ],
   "source": [
    "import threading\n",
    "\n",
    "def print_current_thread():\n",
    "    current_thread = threading.currentThread()\n",
    "    print(\"Current Thread:\", current_thread.name)\n",
    "\n",
    "# Creating and starting a thread\n",
    "thread = threading.Thread(target=print_current_thread)\n",
    "thread.start()\n"
   ]
  },
  {
   "cell_type": "markdown",
   "id": "56fd2a75-5247-4c5e-bdfc-48aa7cd60b8c",
   "metadata": {},
   "source": [
    "enumerate():\n",
    "\n",
    "Use: Returns a list of all Thread objects currently alive. Each Thread object corresponds to one active thread. This is useful for iterating over all threads and performing operations on them"
   ]
  },
  {
   "cell_type": "code",
   "execution_count": 4,
   "id": "0fc2bd01-f2e1-4855-926a-924483f166c6",
   "metadata": {},
   "outputs": [
    {
     "name": "stdout",
     "output_type": "stream",
     "text": [
      "Thread Name: MainThread\n",
      "Thread Name: IOPub\n",
      "Thread Name: Heartbeat\n",
      "Thread Name: Thread-3 (_watch_pipe_fd)\n",
      "Thread Name: Thread-4 (_watch_pipe_fd)\n",
      "Thread Name: Control\n",
      "Thread Name: IPythonHistorySavingThread\n",
      "Thread Name: Thread-2\n"
     ]
    }
   ],
   "source": [
    "import threading\n",
    "import time\n",
    "\n",
    "def worker():\n",
    "    time.sleep(2)\n",
    "\n",
    "# Creating threads\n",
    "thread1 = threading.Thread(target=worker)\n",
    "thread2 = threading.Thread(target=worker)\n",
    "\n",
    "# Starting threads\n",
    "thread1.start()\n",
    "thread2.start()\n",
    "\n",
    "# Waiting for threads to finish\n",
    "thread1.join()\n",
    "thread2.join()\n",
    "\n",
    "# Enumerating over all active threads\n",
    "for thread in threading.enumerate():\n",
    "    print(\"Thread Name:\", thread.name)\n"
   ]
  },
  {
   "cell_type": "code",
   "execution_count": null,
   "id": "a811853a-1c6b-4bb2-993c-2aad5fbd5e1e",
   "metadata": {},
   "outputs": [],
   "source": []
  },
  {
   "cell_type": "markdown",
   "id": "16fae2ba-0494-45bb-9395-1d4eedabb9f9",
   "metadata": {},
   "source": [
    "3-  Explain the following functions\n",
    " \n",
    " run()\n",
    "  \n",
    " start()\n",
    " \n",
    " join()\n",
    " \n",
    " isAlive()"
   ]
  },
  {
   "cell_type": "code",
   "execution_count": null,
   "id": "f5f3abee-938f-4ae9-8b5d-078f61ee8502",
   "metadata": {},
   "outputs": [],
   "source": []
  },
  {
   "cell_type": "markdown",
   "id": "4a908120-76de-49d4-a9c6-6c7bcbb4097f",
   "metadata": {},
   "source": [
    "Ans - run():\n",
    "\n",
    "Use: This method is called when a thread is started using the start() method. It contains the code that will be executed in the new thread."
   ]
  },
  {
   "cell_type": "code",
   "execution_count": 5,
   "id": "d3225e75-2e1c-48e2-a1d9-d4af588d4f44",
   "metadata": {},
   "outputs": [
    {
     "name": "stdout",
     "output_type": "stream",
     "text": [
      "Thread is running\n"
     ]
    }
   ],
   "source": [
    "import threading\n",
    "\n",
    "class MyThread(threading.Thread):\n",
    "    def run(self):\n",
    "        print(\"Thread is running\")\n",
    "\n",
    "# Creating and starting a thread\n",
    "my_thread = MyThread()\n",
    "my_thread.start()\n"
   ]
  },
  {
   "cell_type": "markdown",
   "id": "42656b08-1e90-488e-a37b-869ad42505b1",
   "metadata": {},
   "source": [
    "start():\n",
    "\n",
    "Use: This method is used to start the execution of the thread by invoking the run() method. It initializes the thread and then calls the run() method in a separate thread of control. "
   ]
  },
  {
   "cell_type": "code",
   "execution_count": 6,
   "id": "c27043af-61c4-4974-997e-f3453d32bfaf",
   "metadata": {},
   "outputs": [
    {
     "name": "stdout",
     "output_type": "stream",
     "text": [
      "Thread is running\n"
     ]
    }
   ],
   "source": [
    "import threading\n",
    "\n",
    "def my_function():\n",
    "    print(\"Thread is running\")\n",
    "\n",
    "# Creating and starting a thread using the target function\n",
    "my_thread = threading.Thread(target=my_function)\n",
    "my_thread.start()\n"
   ]
  },
  {
   "cell_type": "code",
   "execution_count": null,
   "id": "bc616121-d968-43a7-88f6-beeac11bb773",
   "metadata": {},
   "outputs": [],
   "source": []
  },
  {
   "cell_type": "markdown",
   "id": "3be5fea4-bd68-4f17-8973-9c99d8458fff",
   "metadata": {},
   "source": [
    "isAlive():\n",
    "\n",
    "Use: This method returns True if the thread is still alive (has not finished execution) and False otherwise. A thread is considered alive from the moment it is started until it completes its run method or is explicitly terminated"
   ]
  },
  {
   "cell_type": "code",
   "execution_count": 8,
   "id": "41dd948b-1e45-4893-a5da-ce253a162ea1",
   "metadata": {},
   "outputs": [
    {
     "ename": "AttributeError",
     "evalue": "'Thread' object has no attribute 'isAlive'",
     "output_type": "error",
     "traceback": [
      "\u001b[0;31m---------------------------------------------------------------------------\u001b[0m",
      "\u001b[0;31mAttributeError\u001b[0m                            Traceback (most recent call last)",
      "Cell \u001b[0;32mIn[8], line 12\u001b[0m\n\u001b[1;32m      9\u001b[0m my_thread\u001b[38;5;241m.\u001b[39mstart()\n\u001b[1;32m     11\u001b[0m \u001b[38;5;66;03m# Checking if the thread is alive\u001b[39;00m\n\u001b[0;32m---> 12\u001b[0m \u001b[38;5;28mprint\u001b[39m(\u001b[38;5;124m\"\u001b[39m\u001b[38;5;124mIs the thread alive?\u001b[39m\u001b[38;5;124m\"\u001b[39m, \u001b[43mmy_thread\u001b[49m\u001b[38;5;241;43m.\u001b[39;49m\u001b[43misAlive\u001b[49m())\n\u001b[1;32m     14\u001b[0m \u001b[38;5;66;03m# Waiting for the thread to finish\u001b[39;00m\n\u001b[1;32m     15\u001b[0m my_thread\u001b[38;5;241m.\u001b[39mjoin()\n",
      "\u001b[0;31mAttributeError\u001b[0m: 'Thread' object has no attribute 'isAlive'"
     ]
    }
   ],
   "source": [
    "import threading\n",
    "import time\n",
    "\n",
    "def worker():\n",
    "    time.sleep(2)\n",
    "\n",
    "# Creating and starting a thread\n",
    "my_thread = threading.Thread(target=worker)\n",
    "my_thread.start()\n",
    "\n",
    "# Checking if the thread is alive\n",
    "print(\"Is the thread alive?\", my_thread.isAlive())\n",
    "\n",
    "# Waiting for the thread to finish\n",
    "my_thread.join()\n",
    "\n",
    "# Checking again after the thread has finished\n",
    "print(\"Is the thread alive?\", my_thread.isAlive())\n"
   ]
  },
  {
   "cell_type": "code",
   "execution_count": null,
   "id": "2cb026f0-9e84-4642-93fb-dd5db5c90375",
   "metadata": {},
   "outputs": [],
   "source": []
  },
  {
   "cell_type": "markdown",
   "id": "7ee2acf2-ff57-4a26-a83e-0ec941ad0c7a",
   "metadata": {},
   "source": [
    "4- write a python program to create two threads. Thread one must print the list of squares and thread two must print the list of cubes."
   ]
  },
  {
   "cell_type": "markdown",
   "id": "bd4afac6-df1b-47b5-ae79-3941997f928f",
   "metadata": {},
   "source": [
    "Ans - One thread will print the list of squares, and the other will print the list of cubes:"
   ]
  },
  {
   "cell_type": "code",
   "execution_count": 9,
   "id": "979ca3dd-23fb-44bd-9d12-1fc143bad615",
   "metadata": {},
   "outputs": [
    {
     "name": "stdout",
     "output_type": "stream",
     "text": [
      "Square: 1 * 1 = 1\n",
      "Square: 2 * 2 = 4\n",
      "Square: 3 * 3 = 9\n",
      "Square: 4 * 4 = 16\n",
      "Square: 5 * 5 = 25\n",
      "Cube: 1 * 1 * 1 = 1\n",
      "Cube: 2 * 2 * 2 = 8\n",
      "Cube: 3 * 3 * 3 = 27\n",
      "Cube: 4 * 4 * 4 = 64\n",
      "Cube: 5 * 5 * 5 = 125\n",
      "Main thread exiting.\n"
     ]
    }
   ],
   "source": [
    "import threading\n",
    "\n",
    "def print_squares(numbers):\n",
    "    for num in numbers:\n",
    "        print(f\"Square: {num} * {num} = {num**2}\")\n",
    "\n",
    "def print_cubes(numbers):\n",
    "    for num in numbers:\n",
    "        print(f\"Cube: {num} * {num} * {num} = {num**3}\")\n",
    "\n",
    "def main():\n",
    "    # Create a list of numbers\n",
    "    numbers = [1, 2, 3, 4, 5]\n",
    "\n",
    "    # Create two threads\n",
    "    thread1 = threading.Thread(target=print_squares, args=(numbers,))\n",
    "    thread2 = threading.Thread(target=print_cubes, args=(numbers,))\n",
    "\n",
    "    # Start the threads\n",
    "    thread1.start()\n",
    "    thread2.start()\n",
    "\n",
    "    # Wait for both threads to finish\n",
    "    thread1.join()\n",
    "    thread2.join()\n",
    "\n",
    "    print(\"Main thread exiting.\")\n",
    "\n",
    "if __name__ == \"__main__\":\n",
    "    main()\n"
   ]
  },
  {
   "cell_type": "code",
   "execution_count": null,
   "id": "a96d012d-8a54-462e-8181-580990c1f5bb",
   "metadata": {},
   "outputs": [],
   "source": []
  },
  {
   "cell_type": "markdown",
   "id": "63ba14f0-5d4d-4d42-bb5e-ad0631242d21",
   "metadata": {},
   "source": [
    "Q5 - State advantages and disadvantages of multithreading"
   ]
  },
  {
   "cell_type": "markdown",
   "id": "7e961b60-a022-4860-bb24-5c4612395035",
   "metadata": {},
   "source": [
    "Ans - \n",
    "\n",
    "Advantages of Multithreading:\n",
    "\n",
    "1 Improved Performance:\n",
    "\n",
    "One of the primary advantages of multithreading is the potential for improved performance. It allows concurrent execution of tasks, utilizing multiple CPU cores simultaneously.\n",
    "\n",
    "2 Responsive User Interfaces:\n",
    "\n",
    "Multithreading is beneficial for creating responsive user interfaces. In graphical user interfaces (GUIs), background tasks can run in separate threads, ensuring that the main thread remains responsive to user interactions.\n",
    "\n",
    "3 Resource Sharing:\n",
    "\n",
    "Threads within the same process can share resources like memory space, which can lead to efficient communication and coordination between threads. This is particularly useful for complex applications with multiple components.\n",
    "\n",
    "4 Parallelism:\n",
    "\n",
    "Multithreading enables parallelism, which is essential for handling tasks that can be performed simultaneously. This is particularly relevant in scenarios such as scientific computing, data processing, and simulations.\n",
    "\n",
    "5 Simplified Code Structure:\n",
    "\n",
    "In certain cases, multithreading can simplify the code structure by allowing developers to separate different aspects of a program into distinct threads. This can lead to cleaner and more modular code."
   ]
  },
  {
   "cell_type": "code",
   "execution_count": null,
   "id": "31b23054-77d4-4b05-9272-c3581dd2e668",
   "metadata": {},
   "outputs": [],
   "source": []
  },
  {
   "cell_type": "markdown",
   "id": "3cf3857a-676e-4c4b-8cad-412814380e83",
   "metadata": {},
   "source": [
    "Disadvantages of Multithreading:\n",
    "\n",
    "1 Complexity and Debugging:\n",
    "\n",
    "Multithreading introduces complexity to program design and debugging. Synchronization issues, race conditions, and deadlocks can be challenging to identify and resolve, making the development process more complex.\n",
    "\n",
    "2 Increased Memory Overhead:\n",
    "\n",
    "Each thread has its own stack and local variables, which can contribute to increased memory usage. Additionally, the overhead associated with managing multiple threads can impact the overall memory footprint of the application.\n",
    "\n",
    "3 Difficulty in Coordination:\n",
    "\n",
    "Coordinating and synchronizing the execution of multiple threads requires careful planning. Developers need to manage shared resources effectively to avoid conflicts, leading to potential bottlenecks.\n",
    "\n",
    "4 Potential for Deadlocks:\n",
    "\n",
    "Deadlocks can occur when two or more threads are blocked indefinitely, each waiting for the other to release a resource. Avoiding and resolving deadlocks requires careful design and understanding of thread synchronization.\n",
    "\n",
    "5 Platform and Implementation Dependent:\n",
    "\n",
    "The behavior of multithreading can be platform-dependent, and different implementations may lead to variations in performance and behavior. This can make it challenging to write portable code that works consistently across different environments.\n",
    "\n",
    "6 Thread Safety Challenges:\n",
    "\n",
    "Ensuring thread safety is crucial when multiple threads access shared data simultaneously. Without proper synchronization mechanisms, data corruption and unexpected behavior can occur."
   ]
  },
  {
   "cell_type": "code",
   "execution_count": null,
   "id": "bea5e789-5dcb-440e-814d-595ec5033665",
   "metadata": {},
   "outputs": [],
   "source": []
  },
  {
   "cell_type": "markdown",
   "id": "44216469-743a-482e-be32-6fa29a207b96",
   "metadata": {},
   "source": [
    "Q6. Explain deadlocks and race conditions."
   ]
  },
  {
   "cell_type": "markdown",
   "id": "bcb86b1d-1bb0-4361-aed5-d790910291b8",
   "metadata": {},
   "source": [
    "Ans - \n",
    "\n",
    "Deadlocks:\n",
    "\n",
    "A deadlock is a situation in concurrent programming where two or more threads are blocked indefinitely, each waiting for the other to release a resource. Deadlocks typically occur when multiple threads attempt to acquire locks on resources in a circular or cyclic dependency. The conditions necessary for a deadlock to occur are:"
   ]
  },
  {
   "cell_type": "markdown",
   "id": "6bb17e33-cbc8-43c7-8b86-df4af9eda011",
   "metadata": {},
   "source": [
    "1 Mutual Exclusion:\n",
    "\n",
    "At least one resource must be held in a non-shareable mode (i.e., only one thread can use it at a time).\n",
    "\n",
    "2 Hold and Wait:\n",
    "\n",
    "A thread must hold at least one resource and be waiting to acquire additional resources held by other threads.\n",
    "\n",
    "3 No Preemption:\n",
    "\n",
    "Resources cannot be forcibly taken away from a thread; they must be released voluntarily.\n",
    "\n",
    "4 Circular Wait:\n",
    "\n",
    "There must exist a circular waiting chain of two or more threads, where each thread is waiting for a resource held by the next thread in the chain."
   ]
  },
  {
   "cell_type": "code",
   "execution_count": null,
   "id": "df10d72e-3c56-4868-ba64-f08837a1d6d9",
   "metadata": {},
   "outputs": [],
   "source": []
  },
  {
   "cell_type": "markdown",
   "id": "911ed365-bd7a-4a42-be4c-53f2fc5ab9e1",
   "metadata": {},
   "source": [
    "Race Conditions:\n",
    "\n",
    "A race condition is a situation in which the behavior of a program depends on the relative timing or interleaving of events, particularly in the context of multithreading or parallel programming. Race conditions arise when two or more threads or processes access shared data concurrently, and at least one of them modifies the data."
   ]
  },
  {
   "cell_type": "markdown",
   "id": "eb186d0f-6277-4c64-b2da-946842880a42",
   "metadata": {},
   "source": [
    "Key characteristics of race conditions:\n",
    "\n",
    "1 Shared Data Access:\n",
    "\n",
    "Multiple threads access shared data concurrently.\n",
    "\n",
    "2 At Least One Write Operation:\n",
    "\n",
    "At least one of the threads modifies the shared data.\n",
    "\n",
    "3 Unpredictable Outcome:\n",
    "\n",
    "The final state of the shared data depends on the interleaving of thread execution, leading to unpredictable results."
   ]
  },
  {
   "cell_type": "code",
   "execution_count": null,
   "id": "3e4d1016-0caf-4708-beaf-2032267094dd",
   "metadata": {},
   "outputs": [],
   "source": []
  }
 ],
 "metadata": {
  "kernelspec": {
   "display_name": "Python 3 (ipykernel)",
   "language": "python",
   "name": "python3"
  },
  "language_info": {
   "codemirror_mode": {
    "name": "ipython",
    "version": 3
   },
   "file_extension": ".py",
   "mimetype": "text/x-python",
   "name": "python",
   "nbconvert_exporter": "python",
   "pygments_lexer": "ipython3",
   "version": "3.10.8"
  }
 },
 "nbformat": 4,
 "nbformat_minor": 5
}
