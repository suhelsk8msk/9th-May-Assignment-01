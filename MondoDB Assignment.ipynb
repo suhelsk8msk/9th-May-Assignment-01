{
 "cells": [
  {
   "cell_type": "markdown",
   "id": "520b27cb-8f54-4325-a9cd-c419b3c159a7",
   "metadata": {},
   "source": [
    "MondoDB Assignment"
   ]
  },
  {
   "cell_type": "markdown",
   "id": "0ee72fcc-7b14-4f53-910e-d67af9232c86",
   "metadata": {},
   "source": [
    "Q1. What is MongoDB? Explain non-relational databases in short. In which scenarios it is preferred to use\n",
    "MongoDB over SQL databases?"
   ]
  },
  {
   "cell_type": "markdown",
   "id": "9d55de33-2bcb-4afd-a466-e5b7232cca31",
   "metadata": {},
   "source": [
    "Ans - MongoDB is a popular open-source NoSQL (non-relational) database management system. Unlike traditional relational databases, which use tables and predefined schemas to organize and store data, MongoDB is designed to handle unstructured, semi-structured, or structured data in a flexible and scalable manner."
   ]
  },
  {
   "cell_type": "markdown",
   "id": "52375ac5-c8eb-40aa-bb45-4858841fc085",
   "metadata": {},
   "source": [
    "Non-relational databases, also known as NoSQL databases, deviate from the relational model of databases and provide a more dynamic and scalable approach to data storage. They are well-suited for scenarios where the data is not well-defined or the structure may evolve over time."
   ]
  },
  {
   "cell_type": "markdown",
   "id": "f6acfdbe-1fd1-44da-9576-ecc59f91226a",
   "metadata": {},
   "source": [
    "MongoDB is preferred over SQL databases in several scenarios:\n",
    "\n",
    "1 - Flexible Schema Design: \n",
    "\n",
    "MongoDB allows for dynamic schema design, meaning that documents within a collection can have different fields and data types. This flexibility is beneficial when dealing with evolving or unpredictable data structures.\n",
    "\n",
    "2 - Scalability: \n",
    "\n",
    "MongoDB is horizontally scalable, making it easier to distribute and handle large amounts of data across multiple servers or clusters. This scalability is particularly advantageous for applications with growing data requirements.\n",
    "\n",
    "3 - Document-Oriented Storage: \n",
    "\n",
    "MongoDB stores data in BSON (Binary JSON) format, which supports nested structures and arrays. This document-oriented storage is useful for representing complex data hierarchies, making it a good fit for applications with diverse data types.\n",
    "\n",
    "4 - High Performance for Read and Write Operations: \n",
    "\n",
    "MongoDB's architecture and indexing mechanisms contribute to efficient read and write operations. This makes it suitable for applications with high-speed data access requirements.\n",
    "\n",
    "5 - Geospatial Capabilities: \n",
    "\n",
    "MongoDB provides geospatial indexing and querying features, making it a strong choice for applications that involve location-based data, such as mapping and geospatial analysis.\n",
    "\n",
    "6 - Agile and Rapid Development: \n",
    "\n",
    "The flexible nature of MongoDB allows developers to quickly adapt to changes in application requirements, making it well-suited for agile development methodologies."
   ]
  },
  {
   "cell_type": "code",
   "execution_count": null,
   "id": "73f5e4d9-3e11-438f-8fa6-bcb2f8ed87e7",
   "metadata": {},
   "outputs": [],
   "source": []
  },
  {
   "cell_type": "markdown",
   "id": "164dc7ca-2055-4c43-84e8-a235eedc39f5",
   "metadata": {},
   "source": [
    "Q2. State and Explain the features of MongoDB."
   ]
  },
  {
   "cell_type": "markdown",
   "id": "74087407-e2ad-4350-ad74-70da1ddda9dc",
   "metadata": {},
   "source": [
    "#Ans - \n",
    "\n",
    "MongoDB is a feature-rich NoSQL database management system that offers various capabilities to meet the demands of modern applications. \n",
    "\n",
    "\n",
    "Here are some key features of MongoDB:\n",
    "\n",
    "1 Document-Oriented Storage:\n",
    "\n",
    "MongoDB stores data in BSON (Binary JSON) format, allowing it to handle nested structures and complex data types within documents.\n",
    "Documents are similar to JSON objects and can include key-value pairs, arrays, and other data types.\n",
    "\n",
    "2 Flexible Schema Design:\n",
    "\n",
    "MongoDB supports dynamic schema design, allowing documents in a collection to have different fields and data types.\n",
    "This flexibility is advantageous for applications where the data structure is evolving or may vary across documents.\n",
    "\n",
    "3 Horizontal Scalability:\n",
    "\n",
    "MongoDB is designed for horizontal scaling, enabling the distribution of data across multiple servers or clusters.\n",
    "Sharding, a key feature of MongoDB, allows for the efficient distribution of data and workload across a cluster of servers.\n",
    "\n",
    "4 Indexing:\n",
    "\n",
    "MongoDB supports various types of indexes, including single-field, compound, geospatial, and text indexes.\n",
    "Efficient indexing enhances the performance of read queries and supports fast data retrieval.\n",
    "\n",
    "5 Query Language:\n",
    "\n",
    "MongoDB provides a rich query language that supports a wide range of operations, including filtering, sorting, and aggregation.\n",
    "Queries are expressed using a JSON-like syntax and are powerful for retrieving and manipulating data.\n",
    "\n",
    "6 Aggregation Framework:\n",
    "\n",
    "MongoDB's aggregation framework allows users to perform complex data transformations and computations on the server side.\n",
    "It includes a set of operators and expressions for tasks like grouping, filtering, and projecting data.\n",
    "\n",
    "7 Geospatial Capabilities:\n",
    "\n",
    "MongoDB supports geospatial indexing and queries, making it suitable for applications dealing with location-based data.\n",
    "Geospatial indexes enable efficient retrieval of data based on geographical criteria.\n",
    "\n",
    "8 Replication:\n",
    "\n",
    "MongoDB provides automatic and configurable replication, allowing data to be replicated across multiple nodes for fault tolerance and high availability.\n",
    "Replication supports automatic failover, ensuring continuity in case of server failures.\n",
    "\n",
    "9 High Availability:\n",
    "\n",
    "MongoDB offers features like automatic sharding and replica sets to ensure high availability and fault tolerance.\n",
    "Replica sets provide data redundancy by maintaining multiple copies of data across different servers.\n",
    "\n",
    "10 Security:\n",
    "\n",
    "MongoDB includes security features such as authentication, role-based access control, and encrypted communication.\n",
    "Access control mechanisms help protect the database from unauthorized access and ensure data security.\n",
    "\n",
    "11 Full-Text Search:\n",
    "\n",
    "MongoDB provides full-text search capabilities, allowing users to perform text searches on string content within documents.\n",
    "Text indexes support efficient search operations.\n",
    "\n",
    "12 Change Streams:\n",
    "\n",
    "MongoDB supports change streams, which allow applications to receive real-time notifications about changes in the database.\n",
    "Change streams are useful for building reactive and event-driven applications."
   ]
  },
  {
   "cell_type": "code",
   "execution_count": null,
   "id": "e4212d21-8172-491a-b54c-64378e8e9662",
   "metadata": {},
   "outputs": [],
   "source": []
  },
  {
   "cell_type": "markdown",
   "id": "b19adef9-93ce-4ed8-a895-f79ebfced389",
   "metadata": {},
   "source": [
    "Q3 - Write a code to connect MongoDB to Python. Also, create a database and a collection in MongoDB."
   ]
  },
  {
   "cell_type": "markdown",
   "id": "e9310d46-fb9d-44c5-9b76-5c51711c4e29",
   "metadata": {},
   "source": [
    "Ans - \n",
    "\n",
    "To connect MongoDB to Python, you can use the pymongo library, which is the official Python driver for MongoDB. First, you need to install the pymongo library if you haven't already. \n",
    "\n",
    "You can install it using the following command:"
   ]
  },
  {
   "cell_type": "code",
   "execution_count": null,
   "id": "0d5486c3-9e02-4116-ad04-4367bb603a8b",
   "metadata": {},
   "outputs": [],
   "source": [
    "pip install pymongo"
   ]
  },
  {
   "cell_type": "markdown",
   "id": "1813baea-ea31-4101-9ca0-dca33251f469",
   "metadata": {},
   "source": [
    "Now, you can use the following Python code to connect to MongoDB, create a database, and create a collection:"
   ]
  },
  {
   "cell_type": "code",
   "execution_count": null,
   "id": "faf270ad-2619-4197-a70e-02db05086a51",
   "metadata": {},
   "outputs": [],
   "source": [
    "import pymongo\n",
    "\n",
    "# Replace the following with your MongoDB connection string\n",
    "mongo_uri = \"mongodb+srv://<username>:<password>@<cluster-address>/<database-name>?retryWrites=true&w=majority\"\n",
    "\n",
    "# Create a MongoDB client\n",
    "client = pymongo.MongoClient(mongo_uri)\n",
    "\n",
    "# Specify the database name\n",
    "database_name = \"your_database_name\"\n",
    "\n",
    "# Connect to the specified database\n",
    "db = client[database_name]\n",
    "\n",
    "# Specify the collection name\n",
    "collection_name = \"your_collection_name\"\n",
    "\n",
    "# Create a collection in the database\n",
    "collection = db[collection_name]\n",
    "\n",
    "# Example: Insert a document into the collection\n",
    "data_to_insert = {\"name\": \"John Doe\", \"age\": 30, \"city\": \"Example City\"}\n",
    "result = collection.insert_one(data_to_insert)\n",
    "\n",
    "# Print the inserted document's ID\n",
    "print(\"Inserted document ID:\", result.inserted_id)\n",
    "\n",
    "# Close the MongoDB connection\n",
    "client.close()\n"
   ]
  },
  {
   "cell_type": "code",
   "execution_count": null,
   "id": "a4fcd6f7-3ea6-491c-925b-5180ee5981ca",
   "metadata": {},
   "outputs": [],
   "source": []
  },
  {
   "cell_type": "markdown",
   "id": "0edcd07b-c5fa-41cf-899b-140b241376c9",
   "metadata": {},
   "source": [
    "Q4. Using the database and the collection created in question number 3, write a code to insert one record,\n",
    "and insert many records. Use the find() and find_one() methods to print the inserted record."
   ]
  },
  {
   "cell_type": "code",
   "execution_count": null,
   "id": "e88f65fa-b16a-4bd5-b7ee-70a434e63a39",
   "metadata": {},
   "outputs": [],
   "source": [
    "import pymongo\n",
    "\n",
    "# Replace the following with your MongoDB connection string\n",
    "mongo_uri = \"mongodb+srv://<username>:<password>@<cluster-address>/<database-name>?retryWrites=true&w=majority\"\n",
    "\n",
    "# Create a MongoDB client\n",
    "client = pymongo.MongoClient(mongo_uri)\n",
    "\n",
    "# Specify the database name\n",
    "database_name = \"your_database_name\"\n",
    "\n",
    "# Connect to the specified database\n",
    "db = client[database_name]\n",
    "\n",
    "# Specify the collection name\n",
    "collection_name = \"your_collection_name\"\n",
    "\n",
    "# Create a collection in the database\n",
    "collection = db[collection_name]\n",
    "\n",
    "# Example 1: Insert one record into the collection\n",
    "record_one = {\"name\": \"Alice\", \"age\": 25, \"city\": \"Wonderland\"}\n",
    "result_one = collection.insert_one(record_one)\n",
    "\n",
    "# Print the ID of the inserted document\n",
    "print(\"Inserted document ID (one record):\", result_one.inserted_id)\n",
    "\n",
    "# Example 2: Insert multiple records into the collection\n",
    "records_many = [\n",
    "    {\"name\": \"Bob\", \"age\": 28, \"city\": \"Bobsville\"},\n",
    "    {\"name\": \"Charlie\", \"age\": 32, \"city\": \"Charlottetown\"},\n",
    "    {\"name\": \"David\", \"age\": 22, \"city\": \"Davidsburg\"}\n",
    "]\n",
    "result_many = collection.insert_many(records_many)\n",
    "\n",
    "# Print the IDs of the inserted documents\n",
    "print(\"Inserted document IDs (many records):\", result_many.inserted_ids)\n",
    "\n",
    "# Example 3: Use find_one() to retrieve and print one record\n",
    "one_record_found = collection.find_one({\"name\": \"Alice\"})\n",
    "print(\"\\nOne Record Found:\")\n",
    "print(one_record_found)\n",
    "\n",
    "# Example 4: Use find() to retrieve and print all records\n",
    "all_records_found = collection.find()\n",
    "print(\"\\nAll Records Found:\")\n",
    "for record in all_records_found:\n",
    "    print(record)\n",
    "\n",
    "# Close the MongoDB connection\n",
    "client.close()\n"
   ]
  },
  {
   "cell_type": "code",
   "execution_count": null,
   "id": "04c01ff1-8c3d-4175-bc20-553558dee5c1",
   "metadata": {},
   "outputs": [],
   "source": []
  },
  {
   "cell_type": "markdown",
   "id": "01464d18-51cc-4418-bbac-994dd2bd9dee",
   "metadata": {},
   "source": [
    "Q5. Explain how you can use the find() method to query the MongoDB database. Write a simple code to demonstrate this."
   ]
  },
  {
   "cell_type": "markdown",
   "id": "41700181-5fce-4973-9b89-27114279ff11",
   "metadata": {},
   "source": [
    "Ans - \n",
    "\n",
    "1 Basic Query:\n",
    "\n",
    "The basic syntax of the find() method is collection.find(<query>), where <query> is a document specifying the criteria for matching documents.\n",
    "The query document may contain one or more key-value pairs representing field-value conditions.\n",
    "    \n",
    "    \n"
   ]
  },
  {
   "cell_type": "markdown",
   "id": "4d00e822-0434-4193-9e0b-da2ab0851968",
   "metadata": {},
   "source": [
    "2 Projections:\n",
    "\n",
    "You can use the second parameter of the find() method to specify which fields should be included or excluded from the result set. This is known as projection.\n",
    "Use the projection document with 1 or 0 values. 1 includes the field, and 0 excludes the field."
   ]
  },
  {
   "cell_type": "markdown",
   "id": "55d2f084-a959-460d-9782-989c0284d747",
   "metadata": {},
   "source": [
    "3 Sorting:\n",
    "\n",
    "The sort() method can be chained to the find() method to specify the order in which the documents should be returned.\n",
    "Sorting is achieved by providing a document with field names as keys and the sort order (1 for ascending, -1 for descending) as values."
   ]
  },
  {
   "cell_type": "code",
   "execution_count": null,
   "id": "6c239973-334f-4773-8f02-c5f7536bdc03",
   "metadata": {},
   "outputs": [],
   "source": [
    "import pymongo\n",
    "\n",
    "# Replace the following with your MongoDB connection string\n",
    "mongo_uri = \"mongodb+srv://<username>:<password>@<cluster-address>/<database-name>?retryWrites=true&w=majority\"\n",
    "\n",
    "# Create a MongoDB client\n",
    "client = pymongo.MongoClient(mongo_uri)\n",
    "\n",
    "# Specify the database name\n",
    "database_name = \"your_database_name\"\n",
    "\n",
    "# Connect to the specified database\n",
    "db = client[database_name]\n",
    "\n",
    "# Specify the collection name\n",
    "collection_name = \"users\"\n",
    "\n",
    "# Create a collection in the database\n",
    "collection = db[collection_name]\n",
    "\n",
    "# Example: Use find() to retrieve and print documents based on a query\n",
    "# Query: Retrieve users older than 25 from the city \"Example City\"\n",
    "query = {\"age\": {\"$gt\": 25}, \"city\": \"Example City\"}\n",
    "\n",
    "# Projection: Include only the \"name\" and \"age\" fields in the result\n",
    "projection = {\"name\": 1, \"age\": 1, \"_id\": 0}\n",
    "\n",
    "# Sorting: Sort the result by age in descending order\n",
    "sort_order = [(\"age\", -1)]\n",
    "\n",
    "# Use find() with query, projection, and sorting\n",
    "result = collection.find(query, projection).sort(sort_order)\n",
    "\n",
    "# Print the result\n",
    "print(\"Filtered and Sorted Result:\")\n",
    "for document in result:\n",
    "    print(document)\n",
    "\n",
    "# Close the MongoDB connection\n",
    "client.close()\n"
   ]
  },
  {
   "cell_type": "code",
   "execution_count": null,
   "id": "8ade9258-f74a-4a06-a8e8-fcf2ef4015c7",
   "metadata": {},
   "outputs": [],
   "source": []
  },
  {
   "cell_type": "markdown",
   "id": "2b0b2e15-18fc-4d6e-a866-1f695e385327",
   "metadata": {},
   "source": [
    "Q6. Explain the sort() method. Give an example to demonstrate sorting in MongoDB."
   ]
  },
  {
   "cell_type": "markdown",
   "id": "57ae444b-c63d-4755-a0b7-c64ca1bb003e",
   "metadata": {},
   "source": [
    "Ans - \n",
    "\n",
    "\n",
    "The sort() method in MongoDB is used to specify the order in which documents should be returned by a query. It allows you to sort the result set based on one or more fields in ascending or descending order. The sort() method is typically chained to other query methods, such as find(), to influence the order in which documents are retrieved.\n",
    "\n",
    "Syntax:"
   ]
  },
  {
   "cell_type": "code",
   "execution_count": null,
   "id": "6b6e2880-b1cd-407f-a69a-3ecb0a82762d",
   "metadata": {},
   "outputs": [],
   "source": [
    "collection.find(<query>).sort(<sort_order>)"
   ]
  },
  {
   "cell_type": "code",
   "execution_count": 1,
   "id": "55385b6a-fbdd-45bf-989d-6236a91392b9",
   "metadata": {},
   "outputs": [],
   "source": [
    "# an example to demonstrate sorting in MongoDB"
   ]
  },
  {
   "cell_type": "code",
   "execution_count": null,
   "id": "511cabe4-f028-4504-b1c0-88c02476cb8d",
   "metadata": {},
   "outputs": [],
   "source": [
    "import pymongo\n",
    "\n",
    "# Replace the following with your MongoDB connection string\n",
    "mongo_uri = \"mongodb+srv://<username>:<password>@<cluster-address>/<database-name>?retryWrites=true&w=majority\"\n",
    "\n",
    "# Create a MongoDB client\n",
    "client = pymongo.MongoClient(mongo_uri)\n",
    "\n",
    "# Specify the database name\n",
    "database_name = \"your_database_name\"\n",
    "\n",
    "# Connect to the specified database\n",
    "db = client[database_name]\n",
    "\n",
    "# Specify the collection name\n",
    "collection_name = \"students\"\n",
    "\n",
    "# Create a collection in the database\n",
    "collection = db[collection_name]\n",
    "\n",
    "# Example: Use find() and sort() to retrieve and print student records sorted by score\n",
    "# Sorting: Sort by the \"score\" field in descending order\n",
    "sort_order = [(\"score\", -1)]\n",
    "\n",
    "# Use find() with sorting\n",
    "result = collection.find().sort(sort_order)\n",
    "\n",
    "# Print the result\n",
    "print(\"Sorted Result by Score (Descending):\")\n",
    "for document in result:\n",
    "    print(document)\n",
    "\n",
    "# Close the MongoDB connection\n",
    "client.close()\n"
   ]
  },
  {
   "cell_type": "code",
   "execution_count": null,
   "id": "2ac3cf8a-08fe-462c-be67-0270bd17bce8",
   "metadata": {},
   "outputs": [],
   "source": []
  },
  {
   "cell_type": "markdown",
   "id": "bf2df1b4-703f-4889-b12e-2f13020a6225",
   "metadata": {},
   "source": [
    "Q7. Explain why delete_one(), delete_many(), and drop() is used."
   ]
  },
  {
   "cell_type": "markdown",
   "id": "5ba6f4d2-ffd5-4ea9-a550-aab990e0be9e",
   "metadata": {},
   "source": [
    "Ans -\n",
    "\n",
    "delete_one(filter) Method:\n",
    "\n",
    "This method deletes a single document that matches the specified filter criteria.\n",
    "The filter parameter is a document that defines the conditions the document must meet to be deleted."
   ]
  },
  {
   "cell_type": "code",
   "execution_count": null,
   "id": "3d1b0e03-8c64-4b46-8f17-46dbf845382b",
   "metadata": {},
   "outputs": [],
   "source": [
    "# Example: Delete one document with a specific condition\n",
    "result = collection.delete_one({\"name\": \"John Doe\"})\n",
    "print(\"Deleted document count:\", result.deleted_count)\n"
   ]
  },
  {
   "cell_type": "code",
   "execution_count": null,
   "id": "b695d302-cd67-4f44-845d-da176cb46a03",
   "metadata": {},
   "outputs": [],
   "source": []
  },
  {
   "cell_type": "code",
   "execution_count": null,
   "id": "5f76d633-8a33-415c-8f6d-00e2cf9f029e",
   "metadata": {},
   "outputs": [],
   "source": []
  }
 ],
 "metadata": {
  "kernelspec": {
   "display_name": "Python 3 (ipykernel)",
   "language": "python",
   "name": "python3"
  },
  "language_info": {
   "codemirror_mode": {
    "name": "ipython",
    "version": 3
   },
   "file_extension": ".py",
   "mimetype": "text/x-python",
   "name": "python",
   "nbconvert_exporter": "python",
   "pygments_lexer": "ipython3",
   "version": "3.10.8"
  }
 },
 "nbformat": 4,
 "nbformat_minor": 5
}
