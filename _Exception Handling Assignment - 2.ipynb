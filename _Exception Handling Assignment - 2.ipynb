{
 "cells": [
  {
   "cell_type": "markdown",
   "id": "f067ce9e-b826-4085-ac79-781b6a500e56",
   "metadata": {},
   "source": [
    "Q1. Explain why we have to use the Exception class while creating a Custom Exception."
   ]
  },
  {
   "cell_type": "markdown",
   "id": "41197b48-d12d-498b-8489-c4e8871a259e",
   "metadata": {},
   "source": [
    "Ans- when creating a custom exception, it is recommended to inherit from the built-in Exception class or one of its subclasses. \n",
    "\n",
    "The reason for using the Exception class as a base for custom exceptions lies in the overall design of Python's exception hierarchy."
   ]
  },
  {
   "cell_type": "markdown",
   "id": "eaa85cab-a8e2-4942-b187-dd6f30224888",
   "metadata": {},
   "source": [
    "Here are a few reasons why it's beneficial to use the Exception class:"
   ]
  },
  {
   "cell_type": "markdown",
   "id": "555cad1f-b366-4ac4-823b-fc89a9beeb24",
   "metadata": {},
   "source": []
  },
  {
   "cell_type": "markdown",
   "id": "87a16ef1-9410-4860-b4f0-a7528e7f6b3e",
   "metadata": {},
   "source": [
    "1- Inheritance from BaseException\n",
    "\n",
    "2- Compatibility with Exception Handling Mechanisms\n",
    "\n",
    "\n",
    "3- Standard Conventions and Readability\n",
    "\n",
    "\n",
    "4- Consistency in Exception Hierarchy\n",
    "\n",
    "5- Ease of Integration with Standard Library and Frameworks\n",
    "\n"
   ]
  },
  {
   "cell_type": "code",
   "execution_count": null,
   "id": "f3d860e8-0254-4c4f-8aa0-2848673304bf",
   "metadata": {},
   "outputs": [],
   "source": []
  },
  {
   "cell_type": "markdown",
   "id": "dec82c66-cd1d-438f-872c-9ae4b03bbf58",
   "metadata": {},
   "source": [
    "Q2. Write a python program to print Python Exception Hierarchy."
   ]
  },
  {
   "cell_type": "code",
   "execution_count": 1,
   "id": "3d1bd924-07f7-4f32-9369-87d1743dfb9c",
   "metadata": {},
   "outputs": [
    {
     "name": "stdout",
     "output_type": "stream",
     "text": [
      "BaseException\n",
      "  Exception\n",
      "    TypeError\n",
      "      FloatOperation\n",
      "      MultipartConversionError\n",
      "    StopAsyncIteration\n",
      "    StopIteration\n",
      "    ImportError\n",
      "      ModuleNotFoundError\n",
      "      ZipImportError\n",
      "    OSError\n",
      "      ConnectionError\n",
      "        BrokenPipeError\n",
      "        ConnectionAbortedError\n",
      "        ConnectionRefusedError\n",
      "        ConnectionResetError\n",
      "          RemoteDisconnected\n",
      "      BlockingIOError\n",
      "      ChildProcessError\n",
      "      FileExistsError\n",
      "      FileNotFoundError\n",
      "      IsADirectoryError\n",
      "      NotADirectoryError\n",
      "      InterruptedError\n",
      "        InterruptedSystemCall\n",
      "      PermissionError\n",
      "      ProcessLookupError\n",
      "      TimeoutError\n",
      "      UnsupportedOperation\n",
      "      itimer_error\n",
      "      herror\n",
      "      gaierror\n",
      "      SSLError\n",
      "        SSLCertVerificationError\n",
      "        SSLZeroReturnError\n",
      "        SSLWantWriteError\n",
      "        SSLWantReadError\n",
      "        SSLSyscallError\n",
      "        SSLEOFError\n",
      "      Error\n",
      "        SameFileError\n",
      "      SpecialFileError\n",
      "      ExecError\n",
      "      ReadError\n",
      "      URLError\n",
      "        HTTPError\n",
      "        ContentTooShortError\n",
      "      BadGzipFile\n",
      "    EOFError\n",
      "      IncompleteReadError\n",
      "    RuntimeError\n",
      "      RecursionError\n",
      "      NotImplementedError\n",
      "        ZMQVersionError\n",
      "        StdinNotImplementedError\n",
      "      _DeadlockError\n",
      "      BrokenBarrierError\n",
      "      BrokenExecutor\n",
      "        BrokenThreadPool\n",
      "      SendfileNotAvailableError\n",
      "      ExtractionError\n",
      "      VariableError\n",
      "    NameError\n",
      "      UnboundLocalError\n",
      "    AttributeError\n",
      "      FrozenInstanceError\n",
      "    SyntaxError\n",
      "      IndentationError\n",
      "        TabError\n",
      "    LookupError\n",
      "      IndexError\n",
      "      KeyError\n",
      "        NoSuchKernel\n",
      "        UnknownBackend\n",
      "      CodecRegistryError\n",
      "    ValueError\n",
      "      UnicodeError\n",
      "        UnicodeEncodeError\n",
      "        UnicodeDecodeError\n",
      "        UnicodeTranslateError\n",
      "      UnsupportedOperation\n",
      "      JSONDecodeError\n",
      "      SSLCertVerificationError\n",
      "      Error\n",
      "      UnsupportedDigestmodError\n",
      "      IllegalMonthError\n",
      "      IllegalWeekdayError\n",
      "      ParserError\n",
      "      ClassNotFound\n",
      "      ClipboardEmpty\n",
      "      MessageDefect\n",
      "        NoBoundaryInMultipartDefect\n",
      "        StartBoundaryNotFoundDefect\n",
      "        CloseBoundaryNotFoundDefect\n",
      "        FirstHeaderLineIsContinuationDefect\n",
      "        MisplacedEnvelopeHeaderDefect\n",
      "        MissingHeaderBodySeparatorDefect\n",
      "        MultipartInvariantViolationDefect\n",
      "        InvalidMultipartContentTransferEncodingDefect\n",
      "        UndecodableBytesDefect\n",
      "        InvalidBase64PaddingDefect\n",
      "        InvalidBase64CharactersDefect\n",
      "        InvalidBase64LengthDefect\n",
      "        HeaderDefect\n",
      "          InvalidHeaderDefect\n",
      "          HeaderMissingRequiredValue\n",
      "          NonPrintableDefect\n",
      "          ObsoleteHeaderDefect\n",
      "          NonASCIILocalPartDefect\n",
      "          InvalidDateDefect\n",
      "      MacroToEdit\n",
      "      InvalidFileException\n",
      "      UnequalIterablesError\n",
      "      InvalidVersion\n",
      "      _InvalidELFFileHeader\n",
      "      InvalidWheelFilename\n",
      "      InvalidSdistFilename\n",
      "      InvalidSpecifier\n",
      "      InvalidMarker\n",
      "      UndefinedComparison\n",
      "      UndefinedEnvironmentName\n",
      "      InvalidRequirement\n",
      "        RequirementParseError\n",
      "      InvalidVersion\n",
      "    AssertionError\n",
      "    ArithmeticError\n",
      "      FloatingPointError\n",
      "      OverflowError\n",
      "      ZeroDivisionError\n",
      "        DivisionByZero\n",
      "        DivisionUndefined\n",
      "      DecimalException\n",
      "        Clamped\n",
      "        Rounded\n",
      "          Underflow\n",
      "          Overflow\n",
      "        Inexact\n",
      "          Underflow\n",
      "          Overflow\n",
      "        Subnormal\n",
      "          Underflow\n",
      "        DivisionByZero\n",
      "        FloatOperation\n",
      "        InvalidOperation\n",
      "          ConversionSyntax\n",
      "          DivisionImpossible\n",
      "          DivisionUndefined\n",
      "          InvalidContext\n",
      "    SystemError\n",
      "      CodecRegistryError\n",
      "    ReferenceError\n",
      "    MemoryError\n",
      "    BufferError\n",
      "    Warning\n",
      "      UserWarning\n",
      "        GetPassWarning\n",
      "        FormatterWarning\n",
      "      EncodingWarning\n",
      "      DeprecationWarning\n",
      "        ProvisionalWarning\n",
      "      PendingDeprecationWarning\n",
      "      SyntaxWarning\n",
      "      RuntimeWarning\n",
      "        ProactorSelectorThreadWarning\n",
      "        UnknownTimezoneWarning\n",
      "        PEP440Warning\n",
      "      FutureWarning\n",
      "        ProvisionalCompleterWarning\n",
      "      ImportWarning\n",
      "      UnicodeWarning\n",
      "      BytesWarning\n",
      "      ResourceWarning\n",
      "      DeprecatedTzFormatWarning\n",
      "      PkgResourcesDeprecationWarning\n",
      "    _OptionError\n",
      "    _Error\n",
      "    error\n",
      "    Verbose\n",
      "    Error\n",
      "    SubprocessError\n",
      "      CalledProcessError\n",
      "      TimeoutExpired\n",
      "    TokenError\n",
      "    StopTokenizing\n",
      "    ClassFoundException\n",
      "    EndOfBlock\n",
      "    TraitError\n",
      "    Error\n",
      "    Error\n",
      "      CancelledError\n",
      "      TimeoutError\n",
      "      InvalidStateError\n",
      "    _GiveupOnSendfile\n",
      "    error\n",
      "    Incomplete\n",
      "    TimeoutError\n",
      "    InvalidStateError\n",
      "    LimitOverrunError\n",
      "    QueueEmpty\n",
      "    QueueFull\n",
      "    Empty\n",
      "    Full\n",
      "    ArgumentError\n",
      "    ZMQBaseError\n",
      "      ZMQError\n",
      "        ContextTerminated\n",
      "        Again\n",
      "        InterruptedSystemCall\n",
      "      ZMQBindError\n",
      "      NotDone\n",
      "    PickleError\n",
      "      PicklingError\n",
      "      UnpicklingError\n",
      "    _Stop\n",
      "    ArgumentError\n",
      "    ArgumentTypeError\n",
      "    ConfigError\n",
      "      ConfigLoaderError\n",
      "        ArgumentError\n",
      "      ConfigFileNotFound\n",
      "    ConfigurableError\n",
      "      MultipleInstanceError\n",
      "    ApplicationError\n",
      "    error\n",
      "    TimeoutError\n",
      "    error\n",
      "    ReturnValueIgnoredError\n",
      "    KeyReuseError\n",
      "    UnknownKeyError\n",
      "    LeakedCallbackError\n",
      "    BadYieldError\n",
      "    ReturnValueIgnoredError\n",
      "    Return\n",
      "    InvalidPortNumber\n",
      "    error\n",
      "    LZMAError\n",
      "    RegistryError\n",
      "    _GiveupOnFastCopy\n",
      "    Error\n",
      "      NoSectionError\n",
      "      DuplicateSectionError\n",
      "      DuplicateOptionError\n",
      "      NoOptionError\n",
      "      InterpolationError\n",
      "        InterpolationMissingOptionError\n",
      "        InterpolationSyntaxError\n",
      "        InterpolationDepthError\n",
      "      ParsingError\n",
      "        MissingSectionHeaderError\n",
      "    NoIPAddresses\n",
      "    BadZipFile\n",
      "    LargeZipFile\n",
      "    BadEntryPoint\n",
      "    NoSuchEntryPoint\n",
      "    DuplicateKernelError\n",
      "    ErrorDuringImport\n",
      "    NotOneValueFound\n",
      "    CannotEval\n",
      "    OptionError\n",
      "    BdbQuit\n",
      "    Restart\n",
      "    ExceptionPexpect\n",
      "      EOF\n",
      "      TIMEOUT\n",
      "    PtyProcessError\n",
      "    FindCmdError\n",
      "    HomeDirError\n",
      "    ProfileDirError\n",
      "    IPythonCoreError\n",
      "      TryNext\n",
      "      UsageError\n",
      "      StdinNotImplementedError\n",
      "    InputRejected\n",
      "    GetoptError\n",
      "    ErrorToken\n",
      "    PrefilterError\n",
      "    AliasError\n",
      "      InvalidAliasError\n",
      "    Error\n",
      "      InterfaceError\n",
      "      DatabaseError\n",
      "        InternalError\n",
      "        OperationalError\n",
      "        ProgrammingError\n",
      "        IntegrityError\n",
      "        DataError\n",
      "        NotSupportedError\n",
      "    Warning\n",
      "    SpaceInInput\n",
      "    DOMException\n",
      "      IndexSizeErr\n",
      "      DomstringSizeErr\n",
      "      HierarchyRequestErr\n",
      "      WrongDocumentErr\n",
      "      InvalidCharacterErr\n",
      "      NoDataAllowedErr\n",
      "      NoModificationAllowedErr\n",
      "      NotFoundErr\n",
      "      NotSupportedErr\n",
      "      InuseAttributeErr\n",
      "      InvalidStateErr\n",
      "      SyntaxErr\n",
      "      InvalidModificationErr\n",
      "      NamespaceErr\n",
      "      InvalidAccessErr\n",
      "      ValidationErr\n",
      "    ValidationError\n",
      "    EditReadOnlyBuffer\n",
      "    _Retry\n",
      "    InvalidLayoutError\n",
      "    HeightIsUnknownError\n",
      "    ParserSyntaxError\n",
      "    InternalParseError\n",
      "    _PositionUpdatingFinished\n",
      "    SimpleGetItemNotFound\n",
      "    UncaughtAttributeError\n",
      "    HasNoContext\n",
      "    ParamIssue\n",
      "    _JediError\n",
      "      InternalError\n",
      "      WrongVersion\n",
      "      RefactoringError\n",
      "    OnErrorLeaf\n",
      "    InvalidPythonEnvironment\n",
      "    MessageError\n",
      "      MessageParseError\n",
      "        HeaderParseError\n",
      "        BoundaryError\n",
      "      MultipartConversionError\n",
      "      CharsetError\n",
      "    Error\n",
      "    HTTPException\n",
      "      NotConnected\n",
      "      InvalidURL\n",
      "      UnknownProtocol\n",
      "      UnknownTransferEncoding\n",
      "      UnimplementedFileMode\n",
      "      IncompleteRead\n",
      "      ImproperConnectionState\n",
      "        CannotSendRequest\n",
      "        CannotSendHeader\n",
      "        ResponseNotReady\n",
      "      BadStatusLine\n",
      "        RemoteDisconnected\n",
      "      LineTooLong\n",
      "    InteractivelyDefined\n",
      "    KillEmbedded\n",
      "    Error\n",
      "      NoSuchProcess\n",
      "        ZombieProcess\n",
      "      AccessDenied\n",
      "      TimeoutExpired\n",
      "    _Ipv6UnsupportedError\n",
      "    QueueEmpty\n",
      "    QueueFull\n",
      "    DebuggerInitializationError\n",
      "    ExpatError\n",
      "    Error\n",
      "      ProtocolError\n",
      "      ResponseError\n",
      "      Fault\n",
      "    ParseBaseException\n",
      "      ParseException\n",
      "      ParseFatalException\n",
      "        ParseSyntaxException\n",
      "    RecursiveGrammarException\n",
      "    ResolutionError\n",
      "      VersionConflict\n",
      "        ContextualVersionConflict\n",
      "      DistributionNotFound\n",
      "      UnknownExtra\n",
      "    _Error\n",
      "    UnableToResolveVariableException\n",
      "    InvalidTypeInArgsException\n",
      "  GeneratorExit\n",
      "  SystemExit\n",
      "  KeyboardInterrupt\n",
      "  CancelledError\n",
      "  AbortThread\n"
     ]
    }
   ],
   "source": [
    "def print_exception_hierarchy(exception_class, indent=0):\n",
    "    print('  ' * indent + exception_class.__name__)\n",
    "    for subclass in exception_class.__subclasses__():\n",
    "        print_exception_hierarchy(subclass, indent + 1)\n",
    "\n",
    "print_exception_hierarchy(BaseException)\n"
   ]
  },
  {
   "cell_type": "code",
   "execution_count": null,
   "id": "1128584e-7291-4b46-a670-597daeaac68f",
   "metadata": {},
   "outputs": [],
   "source": []
  },
  {
   "cell_type": "markdown",
   "id": "6caf3e4b-b40e-44d0-8175-f33775a54c1b",
   "metadata": {},
   "source": [
    "Q3. What errors are defined in the ArithmeticError class? Explain any two with an example."
   ]
  },
  {
   "cell_type": "markdown",
   "id": "5b9c14d6-dba2-42f9-b8c5-2b1c942f797b",
   "metadata": {},
   "source": [
    "\n",
    "The ArithmeticError class is a base class for exceptions that occur during arithmetic operations. It is a subclass of the more general Exception class. \n",
    "\n",
    "Two common errors that are defined in the ArithmeticError class are ZeroDivisionError and OverflowError."
   ]
  },
  {
   "cell_type": "markdown",
   "id": "d71b5494-aa30-45d0-87c7-e8ae35ad90e1",
   "metadata": {},
   "source": [
    "1 ZeroDivisionError:"
   ]
  },
  {
   "cell_type": "markdown",
   "id": "42fd6c96-25bd-4297-a8a6-9ebec5b63873",
   "metadata": {},
   "source": [
    "This error occurs when attempting to divide a number by zero."
   ]
  },
  {
   "cell_type": "code",
   "execution_count": 2,
   "id": "7f1e7b28-750e-4a87-bb39-0e2b0c686d13",
   "metadata": {},
   "outputs": [
    {
     "name": "stdout",
     "output_type": "stream",
     "text": [
      "Error: division by zero\n"
     ]
    }
   ],
   "source": [
    "def divide_numbers(a, b):\n",
    "    try:\n",
    "        result = a / b\n",
    "        return result\n",
    "    except ZeroDivisionError as e:\n",
    "        print(f\"Error: {e}\")\n",
    "\n",
    "result = divide_numbers(10, 0)\n"
   ]
  },
  {
   "cell_type": "code",
   "execution_count": null,
   "id": "7eb40089-5d1f-4bab-9eb0-7c3255e9ef98",
   "metadata": {},
   "outputs": [],
   "source": []
  },
  {
   "cell_type": "markdown",
   "id": "12928f1f-ae16-4cf1-a3a1-5895de228bcf",
   "metadata": {},
   "source": [
    "2 - OverflowError:"
   ]
  },
  {
   "cell_type": "markdown",
   "id": "e9e1f826-9767-478a-ad48-baf55922593b",
   "metadata": {},
   "source": [
    "This error occurs when the result of an arithmetic operation exceeds the representational limits of the data type."
   ]
  },
  {
   "cell_type": "code",
   "execution_count": 4,
   "id": "420aa817-faff-4bac-80a3-1391aa987a55",
   "metadata": {},
   "outputs": [],
   "source": [
    "def multiply_large_numbers(a, b):\n",
    "    try:\n",
    "        result = a * b\n",
    "        return result\n",
    "    except OverflowError as e:\n",
    "        print(f\"Error: {e}\")\n",
    "\n",
    "result = multiply_large_numbers(10**100, 10**100)\n"
   ]
  },
  {
   "cell_type": "code",
   "execution_count": null,
   "id": "4e6df4bf-306e-4bb9-ad3c-64530fc2da0f",
   "metadata": {},
   "outputs": [],
   "source": []
  },
  {
   "cell_type": "markdown",
   "id": "ff7becdb-e737-4fb5-8167-43217b7aedaf",
   "metadata": {},
   "source": [
    "Q4 - Why LookupError class is used? Explain with an example KeyError and IndexError."
   ]
  },
  {
   "cell_type": "markdown",
   "id": "42f4b8f7-1a0a-4ebe-a8c5-b5dc35033e90",
   "metadata": {},
   "source": [
    "Ans - \n",
    "The LookupError class is a base class for exceptions that occur when a key or index used to access an element in a collection is invalid or not found. It is a subclass of the more general Exception class. \n",
    "\n",
    "Two common subclasses of LookupError are KeyError and IndexError"
   ]
  },
  {
   "cell_type": "code",
   "execution_count": 5,
   "id": "7435fd0e-3314-49bd-9995-3e24e68a0a55",
   "metadata": {},
   "outputs": [],
   "source": [
    "# 1 KeyError:"
   ]
  },
  {
   "cell_type": "code",
   "execution_count": 6,
   "id": "d908270c-f99f-4dd0-8615-d23fd8331cf7",
   "metadata": {},
   "outputs": [
    {
     "name": "stdout",
     "output_type": "stream",
     "text": [
      "Error: 'd'\n"
     ]
    }
   ],
   "source": [
    "my_dict = {'a': 1, 'b': 2, 'c': 3}\n",
    "\n",
    "try:\n",
    "    value = my_dict['d']\n",
    "    print(value)\n",
    "except KeyError as e:\n",
    "    print(f\"Error: {e}\")\n"
   ]
  },
  {
   "cell_type": "code",
   "execution_count": 7,
   "id": "693544f3-66db-4798-a53c-02548b1c0663",
   "metadata": {},
   "outputs": [],
   "source": [
    "# IndexError:"
   ]
  },
  {
   "cell_type": "code",
   "execution_count": 8,
   "id": "78465a3e-43a5-41ce-a7cf-e8d1a063427f",
   "metadata": {},
   "outputs": [
    {
     "name": "stdout",
     "output_type": "stream",
     "text": [
      "Error: list index out of range\n"
     ]
    }
   ],
   "source": [
    "my_list = [1, 2, 3, 4, 5]\n",
    "\n",
    "try:\n",
    "    value = my_list[10]\n",
    "    print(value)\n",
    "except IndexError as e:\n",
    "    print(f\"Error: {e}\")\n"
   ]
  },
  {
   "cell_type": "code",
   "execution_count": null,
   "id": "a41f46b3-4a48-4b9a-a01d-1fa50150589c",
   "metadata": {},
   "outputs": [],
   "source": []
  },
  {
   "cell_type": "markdown",
   "id": "afda1c92-24e3-403b-a8b1-3b418296799b",
   "metadata": {},
   "source": [
    "Q5. Explain ImportError. What is ModuleNotFoundError?"
   ]
  },
  {
   "cell_type": "markdown",
   "id": "4283a896-5a76-4a30-b95c-3ea4685ff6a6",
   "metadata": {},
   "source": [
    "\n",
    "ImportError is an exception in Python that occurs when there is an issue with importing a module or a symbol from a module. \n",
    "\n",
    "It is a subclass of the more general ImportError class. This exception can be raised for various reasons, such as when the specified module or symbol is not found, or there is an issue with the import process.\n",
    "\n",
    "One specific subclass of ImportError is ModuleNotFoundError. This exception is raised when the interpreter cannot locate the module specified in the import statement."
   ]
  },
  {
   "cell_type": "code",
   "execution_count": 9,
   "id": "66bd1c39-8242-4a95-b474-977d37440379",
   "metadata": {},
   "outputs": [
    {
     "name": "stdout",
     "output_type": "stream",
     "text": [
      "ImportError: No module named 'non_existent_module'\n",
      "ModuleNotFoundError: The specified module was not found.\n"
     ]
    }
   ],
   "source": [
    "try:\n",
    "    # Attempting to import a non-existent module\n",
    "    import non_existent_module\n",
    "except ImportError as e:\n",
    "    print(f\"ImportError: {e}\")\n",
    "    if isinstance(e, ModuleNotFoundError):\n",
    "        print(\"ModuleNotFoundError: The specified module was not found.\")\n"
   ]
  },
  {
   "cell_type": "code",
   "execution_count": null,
   "id": "2716aca9-b2f2-47cf-b16e-15c13f528745",
   "metadata": {},
   "outputs": [],
   "source": []
  },
  {
   "cell_type": "markdown",
   "id": "e8a26af1-8f67-4424-814c-4d130273b995",
   "metadata": {},
   "source": [
    "Q6. List down some best practices for exception handling in python."
   ]
  },
  {
   "cell_type": "markdown",
   "id": "f49df99b-2bdb-4076-b6bc-7e079310b8f4",
   "metadata": {},
   "source": [
    "Ans - Here are some best practices for effective exception handling in Python:"
   ]
  },
  {
   "cell_type": "markdown",
   "id": "d463edff-3177-419f-b195-77210f551a11",
   "metadata": {},
   "source": [
    "1 - Use Specific Exceptions:"
   ]
  },
  {
   "cell_type": "markdown",
   "id": "7cf09b2a-0d21-45c8-9f41-64afcaa2ab9c",
   "metadata": {},
   "source": [
    "Catch specific exceptions rather than using a broad except clause. This helps in understanding and handling different types of errors more precisely."
   ]
  },
  {
   "cell_type": "code",
   "execution_count": 12,
   "id": "4d40bfaf-d76f-4165-9308-0a138ea37042",
   "metadata": {},
   "outputs": [
    {
     "ename": "IndentationError",
     "evalue": "expected an indented block after 'try' statement on line 1 (2083165377.py, line 3)",
     "output_type": "error",
     "traceback": [
      "\u001b[0;36m  Cell \u001b[0;32mIn[12], line 3\u001b[0;36m\u001b[0m\n\u001b[0;31m    except FileNotFoundError as e:\u001b[0m\n\u001b[0m    ^\u001b[0m\n\u001b[0;31mIndentationError\u001b[0m\u001b[0;31m:\u001b[0m expected an indented block after 'try' statement on line 1\n"
     ]
    }
   ],
   "source": [
    "try:\n",
    "    # Some code that may raise specific exceptions\n",
    "except FileNotFoundError as e:\n",
    "    # Handle File Not Found error\n",
    "except ValueError as e:\n",
    "    # Handle Value Error\n"
   ]
  },
  {
   "cell_type": "code",
   "execution_count": null,
   "id": "a98b9bf7-89d9-4852-b0b1-1518f50518cc",
   "metadata": {},
   "outputs": [],
   "source": []
  },
  {
   "cell_type": "markdown",
   "id": "832077c1-bddd-4f7d-9d6a-07d1825e39c8",
   "metadata": {},
   "source": [
    "2 - Avoid Bare Except Clauses:"
   ]
  },
  {
   "cell_type": "markdown",
   "id": "b0c9d0a2-13d6-4fd2-a1c2-7e8aff493d32",
   "metadata": {},
   "source": [
    "Avoid using bare except clauses, as they catch all exceptions and can make debugging challenging. Be explicit about the exceptions you are handling."
   ]
  },
  {
   "cell_type": "code",
   "execution_count": 11,
   "id": "db6033f8-c5e3-4c57-aa9c-7c8f46a647be",
   "metadata": {},
   "outputs": [
    {
     "ename": "IndentationError",
     "evalue": "expected an indented block after 'try' statement on line 2 (2170043094.py, line 4)",
     "output_type": "error",
     "traceback": [
      "\u001b[0;36m  Cell \u001b[0;32mIn[11], line 4\u001b[0;36m\u001b[0m\n\u001b[0;31m    except:\u001b[0m\n\u001b[0m    ^\u001b[0m\n\u001b[0;31mIndentationError\u001b[0m\u001b[0;31m:\u001b[0m expected an indented block after 'try' statement on line 2\n"
     ]
    }
   ],
   "source": [
    "# Avoid this:\n",
    "try:\n",
    "    # Some code\n",
    "except:\n",
    "    # Handle all exceptions\n",
    "\n",
    "# Prefer this:\n",
    "try:\n",
    "    # Some code\n",
    "except SpecificException as e:\n",
    "    # Handle SpecificException\n"
   ]
  },
  {
   "cell_type": "code",
   "execution_count": null,
   "id": "8796ac3a-3b7f-4788-b57f-aa02332970d3",
   "metadata": {},
   "outputs": [],
   "source": []
  },
  {
   "cell_type": "markdown",
   "id": "06c51d73-a410-47f2-816f-d5f876d5bfdb",
   "metadata": {},
   "source": [
    "3- Include Relevant Information in Exception Messages:"
   ]
  },
  {
   "cell_type": "code",
   "execution_count": 13,
   "id": "c3a20336-a200-4da3-aa14-5ef485e1b5ad",
   "metadata": {},
   "outputs": [
    {
     "ename": "IndentationError",
     "evalue": "expected an indented block after 'try' statement on line 1 (2177286375.py, line 3)",
     "output_type": "error",
     "traceback": [
      "\u001b[0;36m  Cell \u001b[0;32mIn[13], line 3\u001b[0;36m\u001b[0m\n\u001b[0;31m    except ValueError as e:\u001b[0m\n\u001b[0m    ^\u001b[0m\n\u001b[0;31mIndentationError\u001b[0m\u001b[0;31m:\u001b[0m expected an indented block after 'try' statement on line 1\n"
     ]
    }
   ],
   "source": [
    "try:\n",
    "    # Some code that may raise an exception\n",
    "except ValueError as e:\n",
    "    print(f\"Error: Invalid value - {e}\")\n"
   ]
  },
  {
   "cell_type": "code",
   "execution_count": null,
   "id": "df8207ce-b8c2-4f98-8682-32ca435f28f4",
   "metadata": {},
   "outputs": [],
   "source": []
  },
  {
   "cell_type": "markdown",
   "id": "fa3fbcf1-d3ef-44b0-9722-3f63bbd236a5",
   "metadata": {},
   "source": [
    "4 - Use finally for Cleanup:"
   ]
  },
  {
   "cell_type": "markdown",
   "id": "1495669f-98d5-48bf-9cf7-fb7de673d816",
   "metadata": {},
   "source": [
    "Use the finally block to ensure that cleanup code is executed, regardless of whether an exception occurs or not. Commonly used for resource release (e.g., closing files, releasing locks)."
   ]
  },
  {
   "cell_type": "code",
   "execution_count": 14,
   "id": "5afd2f02-f8b3-44aa-b6b1-93bd1ba13005",
   "metadata": {},
   "outputs": [
    {
     "ename": "IndentationError",
     "evalue": "expected an indented block after 'try' statement on line 1 (711678948.py, line 3)",
     "output_type": "error",
     "traceback": [
      "\u001b[0;36m  Cell \u001b[0;32mIn[14], line 3\u001b[0;36m\u001b[0m\n\u001b[0;31m    finally:\u001b[0m\n\u001b[0m    ^\u001b[0m\n\u001b[0;31mIndentationError\u001b[0m\u001b[0;31m:\u001b[0m expected an indented block after 'try' statement on line 1\n"
     ]
    }
   ],
   "source": [
    "try:\n",
    "    # Some code that may raise an exception\n",
    "finally:\n",
    "    # Cleanup code (executed whether an exception occurs or not)\n"
   ]
  },
  {
   "cell_type": "code",
   "execution_count": null,
   "id": "66aa88dd-bc4a-4dfa-96de-3313bd33ec01",
   "metadata": {},
   "outputs": [],
   "source": []
  },
  {
   "cell_type": "markdown",
   "id": "a4c10054-fb25-46ee-8f88-b89ce6d8dd71",
   "metadata": {},
   "source": [
    "5 - Handle Exceptions Locally:"
   ]
  },
  {
   "cell_type": "markdown",
   "id": "3691265d-4907-4ab5-b3d4-a4704c1d030d",
   "metadata": {},
   "source": [
    "Handle exceptions as locally as possible to avoid unintended consequences. This helps in isolating error-handling logic and making it easier to understand and maintain."
   ]
  },
  {
   "cell_type": "code",
   "execution_count": 16,
   "id": "b74ab779-91e2-4b09-bed5-786275c260d5",
   "metadata": {},
   "outputs": [
    {
     "ename": "IndentationError",
     "evalue": "expected an indented block after 'try' statement on line 2 (633157503.py, line 4)",
     "output_type": "error",
     "traceback": [
      "\u001b[0;36m  Cell \u001b[0;32mIn[16], line 4\u001b[0;36m\u001b[0m\n\u001b[0;31m    except SpecificException as e:\u001b[0m\n\u001b[0m    ^\u001b[0m\n\u001b[0;31mIndentationError\u001b[0m\u001b[0;31m:\u001b[0m expected an indented block after 'try' statement on line 2\n"
     ]
    }
   ],
   "source": [
    "def example_function():\n",
    "    try:\n",
    "        # Some code that may raise an exception\n",
    "    except SpecificException as e:\n",
    "        # Handle the exception locally\n"
   ]
  },
  {
   "cell_type": "code",
   "execution_count": null,
   "id": "15ac7b24-77c2-4ddd-8821-157290b8f109",
   "metadata": {},
   "outputs": [],
   "source": []
  },
  {
   "cell_type": "markdown",
   "id": "dc2866b1-aae0-4a50-87eb-ccbfbdebaa43",
   "metadata": {},
   "source": [
    "5 - Logging Exceptions:\n",
    "\n",
    "Consider logging exceptions rather than printing them directly. Logging provides a more flexible and configurable way to capture information about exceptions."
   ]
  },
  {
   "cell_type": "code",
   "execution_count": null,
   "id": "6b9ae3a2-05c2-48e8-b83c-53b3620c4f0a",
   "metadata": {},
   "outputs": [],
   "source": [
    "import logging\n",
    "\n",
    "try:\n",
    "    # Some code that may raise an exception\n",
    "except Exception as e:\n",
    "    logging.error(f\"An exception occurred: {e}\")\n"
   ]
  }
 ],
 "metadata": {
  "kernelspec": {
   "display_name": "Python 3 (ipykernel)",
   "language": "python",
   "name": "python3"
  },
  "language_info": {
   "codemirror_mode": {
    "name": "ipython",
    "version": 3
   },
   "file_extension": ".py",
   "mimetype": "text/x-python",
   "name": "python",
   "nbconvert_exporter": "python",
   "pygments_lexer": "ipython3",
   "version": "3.10.8"
  }
 },
 "nbformat": 4,
 "nbformat_minor": 5
}
