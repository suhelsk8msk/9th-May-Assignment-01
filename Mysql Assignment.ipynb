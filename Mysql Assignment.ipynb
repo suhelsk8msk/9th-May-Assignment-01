{
 "cells": [
  {
   "cell_type": "markdown",
   "id": "fdb7ea20-5157-4e6e-a2fb-499e8d25ac22",
   "metadata": {},
   "source": [
    "Mysql Assignment"
   ]
  },
  {
   "cell_type": "markdown",
   "id": "2bccd297-ccc9-467e-8872-7c4a7b768dfa",
   "metadata": {},
   "source": [
    "Q1. What is a database? Differentiate between SQL and NoSQL databases."
   ]
  },
  {
   "cell_type": "markdown",
   "id": "5293eef5-61c5-4ef2-97d1-a281234ae277",
   "metadata": {},
   "source": [
    "Ans - A database is a structured collection of data that is organized and stored in a way that allows for efficient retrieval, management, and updating of information. "
   ]
  },
  {
   "cell_type": "markdown",
   "id": "cd3d082a-950b-4af3-81bb-725cd67bedd8",
   "metadata": {},
   "source": [
    "There are two main types of databases: SQL (Structured Query Language) databases and NoSQL databases.\n",
    "\n",
    "Here's a differentiation between the two:"
   ]
  },
  {
   "cell_type": "markdown",
   "id": "ec1b68bd-f349-4741-a5d4-40f381e3b752",
   "metadata": {},
   "source": [
    "SQL Databases:\n",
    "\n",
    "Structured Query Language (SQL): SQL databases use a standardized query language called SQL to define and manipulate the data. SQL is a powerful language for managing relational databases.\n",
    "\n",
    "Schema: SQL databases are schema-based, meaning the structure of the data (tables, columns, and relationships) is defined beforehand. Changes to the schema can be complex and may require downtime.\n",
    "\n",
    "Table Structure: Data is typically organized into tables with predefined columns and data types. Relationships between tables are established using foreign keys.\n",
    "\n",
    "Scalability: SQL databases are generally vertically scalable, meaning you can increase the capacity of a single server by increasing things like CPU, RAM, or SSD.\n",
    "\n",
    "Examples: MySQL, PostgreSQL, Oracle, Microsoft SQL Server."
   ]
  },
  {
   "cell_type": "markdown",
   "id": "43c99b1f-b079-4615-90ca-0ac4a390804d",
   "metadata": {},
   "source": [
    "NoSQL Databases:\n",
    "\n",
    "Not Only SQL (NoSQL): NoSQL databases are designed to handle unstructured, semi-structured, or structured data and provide more flexibility in terms of data models.\n",
    "\n",
    "Schema-less or Dynamic Schema: NoSQL databases are schema-less or have a dynamic schema, allowing you to insert data without a predefined structure. This flexibility is beneficial for applications with evolving or unpredictable data.\n",
    "\n",
    "Data Models: NoSQL databases support various data models, such as document-oriented (like MongoDB), key-value stores (like Redis), wide-column stores (like Cassandra), and graph databases (like Neo4j).\n",
    "\n",
    "Scalability: NoSQL databases are often horizontally scalable, allowing you to add more servers to your NoSQL database to handle larger loads.\n",
    "\n",
    "Examples: MongoDB, Cassandra, Redis, Neo4j."
   ]
  },
  {
   "cell_type": "markdown",
   "id": "742a08c7-e53a-494c-9773-c783712903e7",
   "metadata": {},
   "source": [
    "Q2. What is DDL? Explain why CREATE, DROP, ALTER, and TRUNCATE are used with an example."
   ]
  },
  {
   "cell_type": "markdown",
   "id": "7ec98f0b-c163-426e-a953-88f0c1055fb3",
   "metadata": {},
   "source": [
    "Ans - DDL stands for Data Definition Language, and it is a subset of SQL (Structured Query Language) used for defining and managing the structure of a relational database."
   ]
  },
  {
   "cell_type": "markdown",
   "id": "10d88871-9eb6-47d6-9360-22b2a7d79b98",
   "metadata": {},
   "source": [
    "1 - CREATE:\n",
    "\n",
    "Purpose: The CREATE command is used to create new database objects, such as tables, indexes, or views."
   ]
  },
  {
   "cell_type": "code",
   "execution_count": null,
   "id": "2e4bdfe2-dda6-47e2-b02f-657a370521f2",
   "metadata": {},
   "outputs": [],
   "source": [
    "CREATE TABLE employees (\n",
    "    employee_id INT PRIMARY KEY,\n",
    "    first_name VARCHAR(50),\n",
    "    last_name VARCHAR(50),\n",
    "    department_id INT\n",
    ");\n"
   ]
  },
  {
   "cell_type": "markdown",
   "id": "b6f16ad2-c418-4e1c-930b-3a73f3ddd0a8",
   "metadata": {},
   "source": [
    "2 - DROP:\n",
    "\n",
    "Purpose: The DROP command is used to delete existing database objects, such as tables, indexes, or views."
   ]
  },
  {
   "cell_type": "code",
   "execution_count": null,
   "id": "2f5e9e67-2960-4a2e-bb11-b0a2cbc3228c",
   "metadata": {},
   "outputs": [],
   "source": [
    "DROP TABLE employees;\n"
   ]
  },
  {
   "cell_type": "markdown",
   "id": "09814e38-3abd-4694-a764-c46b1011baa9",
   "metadata": {},
   "source": [
    "3 - ALTER:\n",
    "\n",
    "Purpose: The ALTER command is used to modify the structure of an existing database object, such as adding, modifying, or deleting columns in a table."
   ]
  },
  {
   "cell_type": "code",
   "execution_count": null,
   "id": "d65f8121-8f22-47ea-bec2-431a4f1fcff4",
   "metadata": {},
   "outputs": [],
   "source": [
    "ALTER TABLE employees\n",
    "ADD COLUMN email VARCHAR(100);\n"
   ]
  },
  {
   "cell_type": "markdown",
   "id": "4381364d-fa6e-4752-8d2a-58c7e7d17286",
   "metadata": {},
   "source": [
    "4 - TRUNCATE:\n",
    "\n",
    "Purpose: The TRUNCATE command is used to remove all rows from a table while retaining the table structure for future use. It is faster than the DELETE command for removing all data from a table."
   ]
  },
  {
   "cell_type": "code",
   "execution_count": null,
   "id": "4ebc2d0b-5a38-4b41-99d7-80d34db60e7b",
   "metadata": {},
   "outputs": [],
   "source": [
    "TRUNCATE TABLE employees;\n"
   ]
  },
  {
   "cell_type": "code",
   "execution_count": null,
   "id": "05a4c68f-4249-4b27-b880-74a22da24c34",
   "metadata": {},
   "outputs": [],
   "source": []
  },
  {
   "cell_type": "markdown",
   "id": "798210aa-d325-4284-a1f2-48ca2e6a11c7",
   "metadata": {},
   "source": [
    "Q3. What is DML? Explain INSERT, UPDATE, and DELETE with an example."
   ]
  },
  {
   "cell_type": "markdown",
   "id": "04230054-5c17-48b8-b674-fd27fa309222",
   "metadata": {},
   "source": [
    "Ans - DML stands for Data Manipulation Language, which is a subset of SQL (Structured Query Language) used for manipulating and interacting with the data stored in a relational database. DML commands include INSERT, UPDATE, and DELETE, and they are responsible for adding, modifying, and deleting data within the database tables.\n",
    "\n",
    "Here are explanations and examples for the DML commands INSERT, UPDATE, and DELETE:"
   ]
  },
  {
   "cell_type": "markdown",
   "id": "730eca15-bb9a-41ce-8161-2f394b0ceac7",
   "metadata": {},
   "source": [
    "1 - INSERT:\n",
    "\n",
    "Purpose: The INSERT command is used to add new records (rows) into a table."
   ]
  },
  {
   "cell_type": "code",
   "execution_count": null,
   "id": "2d539289-9a69-4fa5-8aca-17aa69d940da",
   "metadata": {},
   "outputs": [],
   "source": [
    "INSERT INTO employees (employee_id, first_name, last_name, department_id)\n",
    "VALUES (1, 'John', 'Doe', 101);\n"
   ]
  },
  {
   "cell_type": "markdown",
   "id": "74c7ccf3-1d71-454c-b9ee-be0ebad1522d",
   "metadata": {},
   "source": [
    "2 - UPDATE:\n",
    "\n",
    "Purpose: The UPDATE command is used to modify existing records in a table based on a specified condition."
   ]
  },
  {
   "cell_type": "code",
   "execution_count": null,
   "id": "ce20cd1e-8bc6-4d47-9444-aaea00be6c51",
   "metadata": {},
   "outputs": [],
   "source": [
    "UPDATE employees\n",
    "SET department_id = 102\n",
    "WHERE employee_id = 1;\n"
   ]
  },
  {
   "cell_type": "markdown",
   "id": "6100ee9e-554c-4809-969d-923fbc904236",
   "metadata": {},
   "source": [
    "3 - DELETE:\n",
    "\n",
    "Purpose: The DELETE command is used to remove records from a table based on a specified condition."
   ]
  },
  {
   "cell_type": "code",
   "execution_count": null,
   "id": "2607d5d5-64a4-4bff-98e8-2aebc14e1322",
   "metadata": {},
   "outputs": [],
   "source": [
    "DELETE FROM employees\n",
    "WHERE employee_id = 1;\n"
   ]
  },
  {
   "cell_type": "code",
   "execution_count": null,
   "id": "843418e3-c2a7-4e64-b45f-45524b7b6eb3",
   "metadata": {},
   "outputs": [],
   "source": []
  },
  {
   "cell_type": "markdown",
   "id": "2d113188-f1e8-43b3-8959-2529e0c58b83",
   "metadata": {},
   "source": [
    "Q4. What is DQL? Explain SELECT with an example."
   ]
  },
  {
   "cell_type": "markdown",
   "id": "bee70862-cdfa-40f6-91df-8cfeb77a70b3",
   "metadata": {},
   "source": [
    "DQL stands for Data Query Language, and it is a subset of SQL (Structured Query Language) specifically designed for querying and retrieving data from a relational database. The primary DQL command is SELECT, which is used to retrieve data from one or more tables in a database."
   ]
  },
  {
   "cell_type": "markdown",
   "id": "98994ffe-a607-4629-ba46-8ecd5d4deee6",
   "metadata": {},
   "source": [
    "SELECT:\n",
    "\n",
    "Purpose: The SELECT command is used to retrieve data from one or more tables in a database. It allows you to specify the columns you want to retrieve, apply conditions, and sort the results.\n",
    "\n",
    "Syntax:"
   ]
  },
  {
   "cell_type": "code",
   "execution_count": null,
   "id": "3ea2920d-8d9a-4698-8bb4-353cc5eccc44",
   "metadata": {},
   "outputs": [],
   "source": [
    "SELECT column1, column2, ...\n",
    "FROM table_name\n",
    "WHERE condition;\n"
   ]
  },
  {
   "cell_type": "markdown",
   "id": "985d54d6-2a71-4f7c-9a76-1177b0ffe4c7",
   "metadata": {},
   "source": [
    "Example:"
   ]
  },
  {
   "cell_type": "code",
   "execution_count": null,
   "id": "16fd9208-3db4-49db-82c4-36270723f071",
   "metadata": {},
   "outputs": [],
   "source": [
    "SELECT employee_id, first_name, last_name, salary\n",
    "FROM employees\n",
    "WHERE salary > 50000;\n"
   ]
  },
  {
   "cell_type": "code",
   "execution_count": null,
   "id": "54325bac-f02c-4981-b2f4-2e6f7fdd744a",
   "metadata": {},
   "outputs": [],
   "source": []
  },
  {
   "cell_type": "markdown",
   "id": "df8cbff5-c888-434d-bb49-debf4e07537f",
   "metadata": {},
   "source": [
    "Q5. Explain Primary Key and Foreign Key."
   ]
  },
  {
   "cell_type": "markdown",
   "id": "c8f765bf-cdbe-4557-98cc-fa5f2d102604",
   "metadata": {},
   "source": [
    "Ans - \n",
    "\n",
    "Primary Key:\n",
    "A primary key is a field or a set of fields in a database table that uniquely identifies each record in that table. It serves as a unique identifier and must have a unique value for each record."
   ]
  },
  {
   "cell_type": "markdown",
   "id": "017e2ee2-5b43-4d05-b117-43556219952a",
   "metadata": {},
   "source": [
    "Key characteristics of a primary key:\n",
    "\n",
    "Uniqueness: Every value in the primary key column(s) must be unique within the table.\n",
    "\n",
    "Non-nullability: The primary key column(s) cannot have NULL values.\n",
    "\n",
    "Permanence: The values in the primary key should ideally be permanent and not changeable."
   ]
  },
  {
   "cell_type": "code",
   "execution_count": null,
   "id": "c9b722ad-a95c-420a-b96e-2747d435cb13",
   "metadata": {},
   "outputs": [],
   "source": [
    "CREATE TABLE students (\n",
    "    student_id INT PRIMARY KEY,\n",
    "    first_name VARCHAR(50),\n",
    "    last_name VARCHAR(50),\n",
    "    age INT\n",
    ");\n"
   ]
  },
  {
   "cell_type": "code",
   "execution_count": null,
   "id": "553ca26e-36da-40c9-9c43-eb27e4b4bcea",
   "metadata": {},
   "outputs": [],
   "source": []
  },
  {
   "cell_type": "markdown",
   "id": "27d3745d-9b16-4d1d-a18e-ad7949991c06",
   "metadata": {},
   "source": [
    "Foreign Key:\n",
    "A foreign key is a field in a relational database table that is used to establish a link between two tables. It creates a relationship between the tables by referencing the primary key of another table. \n",
    "\n",
    "The table containing the foreign key is called the referencing or child table, while the table containing the primary key being referenced is called the referenced or parent table."
   ]
  },
  {
   "cell_type": "markdown",
   "id": "62ef7726-231e-47ef-962d-040da9ecb106",
   "metadata": {},
   "source": [
    "Key characteristics of a foreign key:\n",
    "\n",
    "Referential Integrity: The foreign key establishes referential integrity between tables, ensuring that values in the foreign key column(s) correspond to existing values in the primary key column(s) of the referenced table.\n",
    "\n",
    "Relationships: Foreign keys are used to define relationships between tables, typically representing associations or dependencies.\n",
    "\n",
    "Example:"
   ]
  },
  {
   "cell_type": "code",
   "execution_count": null,
   "id": "73933408-fba2-420a-9bfa-cc832182d832",
   "metadata": {},
   "outputs": [],
   "source": [
    "CREATE TABLE customers (\n",
    "    customer_id INT PRIMARY KEY,\n",
    "    first_name VARCHAR(50),\n",
    "    last_name VARCHAR(50),\n",
    "    email VARCHAR(100)\n",
    ");\n",
    "\n",
    "CREATE TABLE orders (\n",
    "    order_id INT PRIMARY KEY,\n",
    "    order_date DATE,\n",
    "    customer_id INT,\n",
    "    FOREIGN KEY (customer_id) REFERENCES customers(customer_id)\n",
    ");\n"
   ]
  },
  {
   "cell_type": "code",
   "execution_count": null,
   "id": "b67b3baf-d9de-473e-a26a-699a3e072e00",
   "metadata": {},
   "outputs": [],
   "source": []
  },
  {
   "cell_type": "markdown",
   "id": "f6e48de8-1062-43a2-bd95-20f51ce97c61",
   "metadata": {},
   "source": [
    "Q6. Write a python code to connect MySQL to python. Explain the cursor() and execute() method."
   ]
  },
  {
   "cell_type": "markdown",
   "id": "585e7ba0-1a75-422c-8199-a024b9424d0f",
   "metadata": {},
   "source": [
    "First, you need to install the library if you haven't already:"
   ]
  },
  {
   "cell_type": "code",
   "execution_count": null,
   "id": "eccc638a-acc5-4e16-9bb6-5bb0acca751f",
   "metadata": {},
   "outputs": [],
   "source": [
    "pip install mysql-connector-python\n"
   ]
  },
  {
   "cell_type": "markdown",
   "id": "1086d789-3615-4974-bd28-dd435581d7f1",
   "metadata": {},
   "source": [
    "Now, you can use the following Python code to connect to MySQL and execute a simple query:\n",
    "\n"
   ]
  },
  {
   "cell_type": "code",
   "execution_count": null,
   "id": "093f50fc-42e7-4ac2-b53f-dc44dac2eb44",
   "metadata": {},
   "outputs": [],
   "source": [
    "import mysql.connector\n",
    "\n",
    "# Replace the placeholder values with your MySQL server details\n",
    "host = \"your_mysql_host\"\n",
    "user = \"your_username\"\n",
    "password = \"your_password\"\n",
    "database = \"your_database_name\"\n",
    "\n",
    "# Establish a connection to the MySQL server\n",
    "connection = mysql.connector.connect(\n",
    "    host=host,\n",
    "    user=user,\n",
    "    password=password,\n",
    "    database=database\n",
    ")\n",
    "\n",
    "# Create a cursor object to interact with the MySQL database\n",
    "cursor = connection.cursor()\n",
    "\n",
    "# Example query: Create a table\n",
    "create_table_query = \"\"\"\n",
    "CREATE TABLE IF NOT EXISTS example_table (\n",
    "    id INT AUTO_INCREMENT PRIMARY KEY,\n",
    "    name VARCHAR(255),\n",
    "    age INT\n",
    ")\n",
    "\"\"\"\n",
    "\n",
    "# Execute the query\n",
    "cursor.execute(create_table_query)\n",
    "\n",
    "# Commit the changes to the database\n",
    "connection.commit()\n",
    "\n",
    "# Close the cursor and connection\n",
    "cursor.close()\n",
    "connection.close()\n"
   ]
  },
  {
   "cell_type": "code",
   "execution_count": null,
   "id": "be541158-c657-45b4-9ce4-4703f428ba38",
   "metadata": {},
   "outputs": [],
   "source": []
  },
  {
   "cell_type": "markdown",
   "id": "3c215467-ba7a-4379-9205-a453086622fe",
   "metadata": {},
   "source": [
    "1 - cursor() Method:\n",
    "\n",
    "The cursor() method creates a cursor object, which is used to interact with the MySQL database. The cursor allows you to execute SQL queries and fetch results."
   ]
  },
  {
   "cell_type": "code",
   "execution_count": null,
   "id": "886029b8-bd98-462c-a99b-10be772143c8",
   "metadata": {},
   "outputs": [],
   "source": [
    "cursor = connection.cursor()\n"
   ]
  },
  {
   "cell_type": "code",
   "execution_count": null,
   "id": "0b10f9ac-9ab3-4855-b0b0-5061ad077de7",
   "metadata": {},
   "outputs": [],
   "source": []
  },
  {
   "cell_type": "markdown",
   "id": "736be956-8138-4a04-8ba8-edd01b461fa7",
   "metadata": {},
   "source": [
    "2 - execute() Method:\n",
    "\n",
    "The execute() method is used to execute a SQL query. It takes a SQL query as a parameter and executes it."
   ]
  },
  {
   "cell_type": "code",
   "execution_count": null,
   "id": "b5c5f038-5156-48cf-a405-5cbaeb953dcc",
   "metadata": {},
   "outputs": [],
   "source": [
    "cursor.execute(create_table_query)\n"
   ]
  },
  {
   "cell_type": "code",
   "execution_count": null,
   "id": "2ba68ee6-3da3-4aed-85da-de7e9059f4e0",
   "metadata": {},
   "outputs": [],
   "source": []
  },
  {
   "cell_type": "markdown",
   "id": "4dee0ee4-360f-4987-b1e6-4558ee3fe0a3",
   "metadata": {},
   "source": [
    "Q7. Give the order of execution of SQL clauses in an SQL query."
   ]
  },
  {
   "cell_type": "markdown",
   "id": "dfbb37ab-5063-41c2-a8e2-e95923d8d5b2",
   "metadata": {},
   "source": [
    "Ans - In a typical SQL query, the clauses are executed in the following order:\n",
    "\n",
    "1 - SELECT: The SELECT clause is used to specify the columns that should be retrieved in the result set. It is the first clause to be executed.\n",
    "\n",
    "2 - FROM: The FROM clause specifies the table or tables from which the data should be retrieved. After the SELECT clause, the database engine determines the source of the data.\n",
    "\n",
    "3 - JOIN: If the query involves multiple tables, the JOIN clause is used to combine rows from different tables based on a related column between them.\n",
    "\n",
    "WHERE: The WHERE clause is used to filter the rows that satisfy a given condition. It is applied after the data is retrieved from the tables specified in the FROM clause.\n",
    "\n",
    "GROUP BY: The GROUP BY clause is used to group rows based on the values in one or more columns. It is often used in conjunction with aggregate functions like SUM, COUNT, AVG, etc.\n",
    "\n",
    "HAVING: The HAVING clause filters the results of the GROUP BY clause based on a specified condition. It is similar to the WHERE clause but is used specifically with aggregated data.\n",
    "\n",
    "SELECT (again): Additional columns or expressions can be selected after the initial SELECT clause. This can include calculated values, aliases, or other expressions.\n",
    "\n",
    "ORDER BY: The ORDER BY clause is used to sort the result set based on one or more columns, either in ascending (ASC) or descending (DESC) order.\n",
    "\n",
    "LIMIT/OFFSET (optional): The LIMIT clause is used to restrict the number of rows in the result set, and the OFFSET clause is used to skip a specific number of rows. These are often used for pagination or to limit the amount of data returned."
   ]
  }
 ],
 "metadata": {
  "kernelspec": {
   "display_name": "Python 3 (ipykernel)",
   "language": "python",
   "name": "python3"
  },
  "language_info": {
   "codemirror_mode": {
    "name": "ipython",
    "version": 3
   },
   "file_extension": ".py",
   "mimetype": "text/x-python",
   "name": "python",
   "nbconvert_exporter": "python",
   "pygments_lexer": "ipython3",
   "version": "3.10.8"
  }
 },
 "nbformat": 4,
 "nbformat_minor": 5
}
