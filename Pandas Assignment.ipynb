{
 "cells": [
  {
   "cell_type": "markdown",
   "id": "dba8214e-b435-4f36-bcc9-395427286297",
   "metadata": {},
   "source": [
    "# Pandas Assignment"
   ]
  },
  {
   "cell_type": "code",
   "execution_count": 2,
   "id": "11f4cad4-0a66-42bb-a252-16a1c32f95a6",
   "metadata": {},
   "outputs": [],
   "source": [
    "import pandas as pd\n",
    "course_name = ['Data Science', 'Machine Learning', 'Big Data', 'Data Engineer']\n",
    "duration = [2,3,6,4]\n",
    "df = pd.DataFrame(data = {'course_name' : course_name, 'duration' : duration})"
   ]
  },
  {
   "cell_type": "code",
   "execution_count": 3,
   "id": "4af5a860-a28c-4979-bce4-10c73f131055",
   "metadata": {},
   "outputs": [
    {
     "data": {
      "text/html": [
       "<div>\n",
       "<style scoped>\n",
       "    .dataframe tbody tr th:only-of-type {\n",
       "        vertical-align: middle;\n",
       "    }\n",
       "\n",
       "    .dataframe tbody tr th {\n",
       "        vertical-align: top;\n",
       "    }\n",
       "\n",
       "    .dataframe thead th {\n",
       "        text-align: right;\n",
       "    }\n",
       "</style>\n",
       "<table border=\"1\" class=\"dataframe\">\n",
       "  <thead>\n",
       "    <tr style=\"text-align: right;\">\n",
       "      <th></th>\n",
       "      <th>course_name</th>\n",
       "      <th>duration</th>\n",
       "    </tr>\n",
       "  </thead>\n",
       "  <tbody>\n",
       "    <tr>\n",
       "      <th>0</th>\n",
       "      <td>Data Science</td>\n",
       "      <td>2</td>\n",
       "    </tr>\n",
       "    <tr>\n",
       "      <th>1</th>\n",
       "      <td>Machine Learning</td>\n",
       "      <td>3</td>\n",
       "    </tr>\n",
       "    <tr>\n",
       "      <th>2</th>\n",
       "      <td>Big Data</td>\n",
       "      <td>6</td>\n",
       "    </tr>\n",
       "    <tr>\n",
       "      <th>3</th>\n",
       "      <td>Data Engineer</td>\n",
       "      <td>4</td>\n",
       "    </tr>\n",
       "  </tbody>\n",
       "</table>\n",
       "</div>"
      ],
      "text/plain": [
       "        course_name  duration\n",
       "0      Data Science         2\n",
       "1  Machine Learning         3\n",
       "2          Big Data         6\n",
       "3     Data Engineer         4"
      ]
     },
     "execution_count": 3,
     "metadata": {},
     "output_type": "execute_result"
    }
   ],
   "source": [
    "df"
   ]
  },
  {
   "cell_type": "markdown",
   "id": "db4c1152-eb4a-4144-b0bc-2dd9bb64b9fc",
   "metadata": {},
   "source": [
    "Q1. Write a code to print the data present in the second row of the dataframe, df."
   ]
  },
  {
   "cell_type": "code",
   "execution_count": 6,
   "id": "83dccb2d-7041-420d-8aa5-ef3cb2200db4",
   "metadata": {},
   "outputs": [
    {
     "name": "stdout",
     "output_type": "stream",
     "text": [
      "course_name    Machine Learning\n",
      "duration                      3\n",
      "Name: 1, dtype: object\n"
     ]
    }
   ],
   "source": [
    "print(df.iloc[1])"
   ]
  },
  {
   "cell_type": "markdown",
   "id": "bf1a2c55-88bc-4b1e-8c77-f90b9fdabb4f",
   "metadata": {},
   "source": []
  },
  {
   "cell_type": "markdown",
   "id": "aa287da2-805e-4dc0-8c15-48ff4bd9c5d1",
   "metadata": {},
   "source": [
    "Q2. What is the difference between the functions loc and iloc in pandas.DataFrame?"
   ]
  },
  {
   "cell_type": "markdown",
   "id": "5cdafdcd-6bf5-4ece-a3f6-96b1508d5e98",
   "metadata": {},
   "source": [
    "Ans  - \n",
    "\n",
    "In pandas, both loc and iloc are used for indexing and selecting data from a DataFrame, but they operate differently:\n",
    "\n",
    "1)  'iloc' : This is integer-location based indexing. It is used when you want to access elements in the DataFrame by their integer index position. You specify row and column positions by integers.\n",
    "\n",
    "Example:"
   ]
  },
  {
   "cell_type": "code",
   "execution_count": 8,
   "id": "92d39eaa-6b5b-431b-be07-3fd50d4b6c91",
   "metadata": {},
   "outputs": [
    {
     "data": {
      "text/plain": [
       "course_name    Machine Learning\n",
       "duration                      3\n",
       "Name: 1, dtype: object"
      ]
     },
     "execution_count": 8,
     "metadata": {},
     "output_type": "execute_result"
    }
   ],
   "source": [
    "df.iloc[1]  # Accesses the second row of the DataFrame\n"
   ]
  },
  {
   "cell_type": "markdown",
   "id": "dc65d91f-6eaa-43e5-83cf-0bcc1db9472a",
   "metadata": {},
   "source": [
    "2) 'loc' : This is label-based indexing. It is used when you want to access elements in the DataFrame using labels (row or column names). You specify row and column labels.\n",
    "\n",
    "Example:"
   ]
  },
  {
   "cell_type": "code",
   "execution_count": 7,
   "id": "fb2298e7-1d9d-4fd6-9398-d4c72af55dcd",
   "metadata": {},
   "outputs": [
    {
     "data": {
      "text/plain": [
       "course_name    Machine Learning\n",
       "duration                      3\n",
       "Name: 1, dtype: object"
      ]
     },
     "execution_count": 7,
     "metadata": {},
     "output_type": "execute_result"
    }
   ],
   "source": [
    "df.loc[1]  # Accesses the row with label '1' (if '1' is a label, not an integer index)\n"
   ]
  },
  {
   "cell_type": "markdown",
   "id": "312807c0-77e9-4db4-ad44-38a14c63b07c",
   "metadata": {},
   "source": [
    "# In summary:\n",
    "\n",
    "Use 'iloc' when you want to access data by integer position.\n",
    "\n",
    "Use 'loc' when you want to access data by lab."
   ]
  },
  {
   "cell_type": "code",
   "execution_count": null,
   "id": "cd550d1a-bbb2-4a51-8269-eba467785dc6",
   "metadata": {},
   "outputs": [],
   "source": []
  },
  {
   "cell_type": "markdown",
   "id": "7d780a45-ae54-4c3d-8551-63db5f2a7932",
   "metadata": {},
   "source": [
    "Q3. Reindex the given dataframe using a variable, reindex = [3,0,1,2] and store it in the variable, new_df\n",
    "then find the output for both new_df.loc[2] and new_df.iloc[2].\n",
    "\n",
    "Did you observe any difference in both the outputs? If so then explain it."
   ]
  },
  {
   "cell_type": "code",
   "execution_count": 9,
   "id": "ad50598c-13dd-46dc-ac49-ec77f883bfde",
   "metadata": {},
   "outputs": [
    {
     "name": "stdout",
     "output_type": "stream",
     "text": [
      "Output for new_df.loc[2]:\n",
      " course_name    Big Data\n",
      "duration              6\n",
      "Name: 2, dtype: object\n",
      "\n",
      "Output for new_df.iloc[2]:\n",
      " course_name    Machine Learning\n",
      "duration                      3\n",
      "Name: 1, dtype: object\n"
     ]
    }
   ],
   "source": [
    "import pandas as pd\n",
    "\n",
    "course_name = ['Data Science', 'Machine Learning', 'Big Data', 'Data Engineer']\n",
    "duration = [2, 3, 6, 4]\n",
    "df = pd.DataFrame(data={'course_name': course_name, 'duration': duration})\n",
    "\n",
    "# Reindexing the DataFrame\n",
    "reindex = [3, 0, 1, 2]\n",
    "new_df = df.reindex(reindex)\n",
    "\n",
    "# Finding the output for new_df.loc[2] and new_df.iloc[2]\n",
    "output_loc = new_df.loc[2]\n",
    "output_iloc = new_df.iloc[2]\n",
    "\n",
    "print(\"Output for new_df.loc[2]:\\n\", output_loc)\n",
    "print(\"\\nOutput for new_df.iloc[2]:\\n\", output_iloc)\n"
   ]
  },
  {
   "cell_type": "markdown",
   "id": "c007d5bb-a125-4082-a6d7-fbe8dea3819c",
   "metadata": {},
   "source": [
    "# Explanation :\n",
    "\n",
    "new_df.loc[2] returns the row with the label '2' after reindexing, which corresponds to the row with the label '1' in the original DataFrame.\n",
    "\n",
    "\n",
    "new_df.iloc[2] returns the third row after reindexing, which corresponds to the row with the label '2' in the original DataFrame.\n",
    "\n",
    "\n",
    "\n",
    "\n"
   ]
  },
  {
   "cell_type": "code",
   "execution_count": null,
   "id": "b52c7d3a-f268-4835-acb5-08f37a58d040",
   "metadata": {},
   "outputs": [],
   "source": []
  },
  {
   "cell_type": "markdown",
   "id": "3d6ed2ee-e749-4ac6-9593-ab547dd80042",
   "metadata": {},
   "source": []
  },
  {
   "cell_type": "code",
   "execution_count": 12,
   "id": "5bf3ddff-f6d8-4b3d-abe9-65cfe6d8f329",
   "metadata": {},
   "outputs": [],
   "source": [
    "import pandas as pd\n",
    "import numpy as np\n",
    "columns = ['column_1', 'column_2', 'column_3', 'column_4', 'column_5', 'column_6']\n",
    "indices = [1,2,3,4,5,6]\n",
    "#Creating a dataframe:\n",
    "df1 = pd.DataFrame(np.random.rand(6,6), columns = columns, index = indices)"
   ]
  },
  {
   "cell_type": "code",
   "execution_count": 13,
   "id": "09a59302-3eed-4e09-97cc-fb2d503214da",
   "metadata": {},
   "outputs": [
    {
     "data": {
      "text/html": [
       "<div>\n",
       "<style scoped>\n",
       "    .dataframe tbody tr th:only-of-type {\n",
       "        vertical-align: middle;\n",
       "    }\n",
       "\n",
       "    .dataframe tbody tr th {\n",
       "        vertical-align: top;\n",
       "    }\n",
       "\n",
       "    .dataframe thead th {\n",
       "        text-align: right;\n",
       "    }\n",
       "</style>\n",
       "<table border=\"1\" class=\"dataframe\">\n",
       "  <thead>\n",
       "    <tr style=\"text-align: right;\">\n",
       "      <th></th>\n",
       "      <th>column_1</th>\n",
       "      <th>column_2</th>\n",
       "      <th>column_3</th>\n",
       "      <th>column_4</th>\n",
       "      <th>column_5</th>\n",
       "      <th>column_6</th>\n",
       "    </tr>\n",
       "  </thead>\n",
       "  <tbody>\n",
       "    <tr>\n",
       "      <th>1</th>\n",
       "      <td>0.686886</td>\n",
       "      <td>0.094716</td>\n",
       "      <td>0.402434</td>\n",
       "      <td>0.577472</td>\n",
       "      <td>0.960514</td>\n",
       "      <td>0.859015</td>\n",
       "    </tr>\n",
       "    <tr>\n",
       "      <th>2</th>\n",
       "      <td>0.106215</td>\n",
       "      <td>0.396810</td>\n",
       "      <td>0.830206</td>\n",
       "      <td>0.289648</td>\n",
       "      <td>0.645479</td>\n",
       "      <td>0.216544</td>\n",
       "    </tr>\n",
       "    <tr>\n",
       "      <th>3</th>\n",
       "      <td>0.853741</td>\n",
       "      <td>0.772758</td>\n",
       "      <td>0.389801</td>\n",
       "      <td>0.078194</td>\n",
       "      <td>0.487857</td>\n",
       "      <td>0.047570</td>\n",
       "    </tr>\n",
       "    <tr>\n",
       "      <th>4</th>\n",
       "      <td>0.798157</td>\n",
       "      <td>0.818589</td>\n",
       "      <td>0.116163</td>\n",
       "      <td>0.626571</td>\n",
       "      <td>0.226400</td>\n",
       "      <td>0.413636</td>\n",
       "    </tr>\n",
       "    <tr>\n",
       "      <th>5</th>\n",
       "      <td>0.808298</td>\n",
       "      <td>0.936634</td>\n",
       "      <td>0.213001</td>\n",
       "      <td>0.439226</td>\n",
       "      <td>0.449969</td>\n",
       "      <td>0.033060</td>\n",
       "    </tr>\n",
       "    <tr>\n",
       "      <th>6</th>\n",
       "      <td>0.250605</td>\n",
       "      <td>0.315517</td>\n",
       "      <td>0.303283</td>\n",
       "      <td>0.138280</td>\n",
       "      <td>0.072246</td>\n",
       "      <td>0.167113</td>\n",
       "    </tr>\n",
       "  </tbody>\n",
       "</table>\n",
       "</div>"
      ],
      "text/plain": [
       "   column_1  column_2  column_3  column_4  column_5  column_6\n",
       "1  0.686886  0.094716  0.402434  0.577472  0.960514  0.859015\n",
       "2  0.106215  0.396810  0.830206  0.289648  0.645479  0.216544\n",
       "3  0.853741  0.772758  0.389801  0.078194  0.487857  0.047570\n",
       "4  0.798157  0.818589  0.116163  0.626571  0.226400  0.413636\n",
       "5  0.808298  0.936634  0.213001  0.439226  0.449969  0.033060\n",
       "6  0.250605  0.315517  0.303283  0.138280  0.072246  0.167113"
      ]
     },
     "execution_count": 13,
     "metadata": {},
     "output_type": "execute_result"
    }
   ],
   "source": [
    "df1"
   ]
  },
  {
   "cell_type": "markdown",
   "id": "c2a4e786-1c80-4b3c-ada8-1184919a3573",
   "metadata": {},
   "source": [
    "Q4. Write a code to find the following statistical measurements for the above dataframe df1:\n",
    "\n",
    "(i) mean of each and every column present in the dataframe.\n",
    "\n",
    "(ii) standard deviation of column, ‘column_2’"
   ]
  },
  {
   "cell_type": "code",
   "execution_count": 16,
   "id": "b5d52162-4a66-4294-a916-8be7ab2cb901",
   "metadata": {},
   "outputs": [
    {
     "name": "stdout",
     "output_type": "stream",
     "text": [
      "Mean of each column:\n",
      "column_1    0.533509\n",
      "column_2    0.395959\n",
      "column_3    0.735575\n",
      "column_4    0.569776\n",
      "column_5    0.275939\n",
      "column_6    0.586976\n",
      "dtype: float64\n",
      "\n",
      "Standard deviation of column 'column_2': 0.3584447078634718\n"
     ]
    }
   ],
   "source": [
    "import pandas as pd\n",
    "\n",
    "\n",
    "columns = ['column_1', 'column_2', 'column_3', 'column_4', 'column_5', 'column_6']\n",
    "indices = [1, 2, 3, 4, 5, 6]\n",
    "# Creating a dataframe\n",
    "df1 = pd.DataFrame(np.random.rand(6, 6), columns=columns, index=indices)\n",
    "\n",
    "# (i) Mean of each and every column\n",
    "mean_of_columns = df1.mean()\n",
    "print(\"Mean of each column:\")\n",
    "print(mean_of_columns)\n",
    "\n",
    "# (ii) Standard deviation of column 'column_2'\n",
    "std_dev_column_2 = df1['column_2'].std()\n",
    "print(\"\\nStandard deviation of column 'column_2':\", std_dev_column_2)\n"
   ]
  },
  {
   "cell_type": "code",
   "execution_count": null,
   "id": "15b2b725-9643-40ad-8102-0357391b4166",
   "metadata": {},
   "outputs": [],
   "source": []
  },
  {
   "cell_type": "markdown",
   "id": "c48bd46e-88de-4835-a2d3-7ec14fb7be29",
   "metadata": {},
   "source": [
    "Q5. Replace the data present in the second row of column, ‘column_2’ by a string variable then find the\n",
    "mean of column, column_2.\n",
    "If you are getting errors in executing it then explain why.\n",
    "[Hint: To replace the data use df1.loc[] and equate this to string data of your choice.]"
   ]
  },
  {
   "cell_type": "code",
   "execution_count": null,
   "id": "d5691ae3-923a-4733-a1c6-d00ce82aa7dd",
   "metadata": {},
   "outputs": [],
   "source": [
    "mport pandas as pd\n",
    "import numpy as np\n",
    "\n",
    "columns = ['column_1', 'column_2', 'column_3', 'column_4', 'column_5', 'column_6']\n",
    "indices = [1, 2, 3, 4, 5, 6]\n",
    "\n",
    "# Creating a dataframe\n",
    "df1 = pd.DataFrame(np.random.rand(6, 6), columns=columns, index=indices)\n",
    "\n",
    "# Replace the data in the second row of 'column_2' with a string variable\n",
    "df1.loc[2, 'column_2'] = 'some_string_data'\n",
    "\n",
    "# Find the mean of column 'column_2'\n",
    "# This will throw an error because the column contains mixed data types (numeric and string)\n",
    "mean_column_2 = df1['column_2'].mean()\n",
    "\n",
    "print(\"Mean of column 'column_2':\", mean_column_2)"
   ]
  },
  {
   "cell_type": "markdown",
   "id": "e197abf4-fb5c-47b7-b4a9-36819fa9e772",
   "metadata": {},
   "source": [
    "\n",
    "When you replace the data in a numeric column with a string value, you'll likely encounter errors because pandas DataFrame columns typically contain data of a consistent data type (such as numeric or string), and mixing data types within a single column can cause unexpected behavior."
   ]
  },
  {
   "cell_type": "code",
   "execution_count": null,
   "id": "db2cc4ab-a141-4647-9250-31c9390afdc3",
   "metadata": {},
   "outputs": [],
   "source": []
  },
  {
   "cell_type": "markdown",
   "id": "2620751a-6695-4687-baa0-4c4869ef567a",
   "metadata": {},
   "source": [
    "Q6. What do you understand about the windows function in pandas and list the types of windows\n",
    "functions?"
   ]
  },
  {
   "cell_type": "markdown",
   "id": "b0a4ff35-2a8f-4f13-adb4-681c0e312ea5",
   "metadata": {},
   "source": [
    "In pandas, window functions are used for calculating aggregate statistics (like mean, sum, min, max, etc.) over a specified window of data points. These functions operate on a sliding window of data, where the window can be defined by various parameters such as size, alignment, and offset."
   ]
  },
  {
   "cell_type": "markdown",
   "id": "7c00bc59-5f8f-4de0-b52b-02cf44b4a745",
   "metadata": {},
   "source": [
    "Window functions are particularly useful for time series data analysis, but they can also be applied to other types of data."
   ]
  },
  {
   "cell_type": "markdown",
   "id": "59abdc65-9bf7-4ea8-b6da-f6a8617050e6",
   "metadata": {},
   "source": [
    "Types of window functions in pandas include:\n",
    "\n",
    "1) Rolling Window Functions: These functions calculate statistics over a rolling window of a fixed size. The window moves along the data, and for each step, the statistic is calculated over the data points within the window.\n",
    "\n",
    "2) Expanding Window Functions: Expanding window functions calculate statistics for all data points up to the current point. The size of the window grows with the number of data points, starting from the beginning of the data.\n",
    "\n",
    "3) Exponential Weighted Moving Average (EWMA): This is a type of rolling window function that assigns exponentially decreasing weights to older data points. It is useful for smoothing noisy data or detecting trends.\n",
    "\n",
    "4) Window Aggregation Functions: These functions aggregate data within a window using custom aggregation functions defined by the user.\n",
    "\n",
    "5) GroupBy with Window Functions: These are window functions applied within each group of a grouped DataFrame, allowing for calculations within subsets of the data."
   ]
  },
  {
   "cell_type": "code",
   "execution_count": null,
   "id": "f06e8463-2153-4ae2-8c4f-275b151ede42",
   "metadata": {},
   "outputs": [],
   "source": []
  },
  {
   "cell_type": "markdown",
   "id": "98b543c0-6f4b-4db9-a9f4-88233bce8a3a",
   "metadata": {},
   "source": [
    "Q7. Write a code to print only the current month and year at the time of answering this question."
   ]
  },
  {
   "cell_type": "code",
   "execution_count": 18,
   "id": "f45a9e8e-ab2c-41ae-91fe-fe678c212678",
   "metadata": {},
   "outputs": [
    {
     "name": "stdout",
     "output_type": "stream",
     "text": [
      "Current month: March\n",
      "Current year: 2024\n"
     ]
    }
   ],
   "source": [
    "from datetime import datetime\n",
    "\n",
    "# Get the current date\n",
    "current_date = datetime.now()\n",
    "\n",
    "# Extract the month and year from the current date\n",
    "current_month = current_date.strftime(\"%B\")  # %B gives full month name (e.g., January)\n",
    "current_year = current_date.strftime(\"%Y\")   # %Y gives the year (e.g., 2024)\n",
    "\n",
    "# Print the current month and year\n",
    "print(\"Current month:\", current_month)\n",
    "print(\"Current year:\", current_year)\n"
   ]
  },
  {
   "cell_type": "code",
   "execution_count": null,
   "id": "1118993e-156e-4b92-85d5-c978f3d8530d",
   "metadata": {},
   "outputs": [],
   "source": []
  },
  {
   "cell_type": "markdown",
   "id": "bf371c21-2013-4b6c-a348-28cf01cb64d0",
   "metadata": {},
   "source": [
    "Q8. Write a Python program that takes in two dates as input (in the format YYYY-MM-DD) and\n",
    "calculates the difference between them in days, hours, and minutes using Pandas time delta. The\n",
    "program should prompt the user to enter the dates and display the result."
   ]
  },
  {
   "cell_type": "code",
   "execution_count": 19,
   "id": "98fd516a-f139-4a5c-836d-829220239f79",
   "metadata": {},
   "outputs": [
    {
     "name": "stdin",
     "output_type": "stream",
     "text": [
      "Enter the first date (YYYY-MM-DD):  2024-03-22\n",
      "Enter the second date (YYYY-MM-DD):  2023-10-10\n"
     ]
    },
    {
     "name": "stdout",
     "output_type": "stream",
     "text": [
      "Time difference between 2024-03-22 and 2023-10-10 is:\n",
      "Days: -164\n",
      "Hours: 0\n",
      "Minutes: 0\n"
     ]
    }
   ],
   "source": [
    "import pandas as pd\n",
    "\n",
    "# Function to calculate the difference between two dates\n",
    "def calculate_time_difference(date1, date2):\n",
    "    # Convert input dates to pandas datetime objects\n",
    "    date1 = pd.to_datetime(date1)\n",
    "    date2 = pd.to_datetime(date2)\n",
    "    \n",
    "    # Calculate the time difference\n",
    "    time_diff = date2 - date1\n",
    "    \n",
    "    # Extract days, hours, and minutes\n",
    "    days = time_diff.days\n",
    "    hours = time_diff.seconds // 3600\n",
    "    minutes = (time_diff.seconds % 3600) // 60\n",
    "    \n",
    "    return days, hours, minutes\n",
    "\n",
    "# Prompt the user to enter the dates\n",
    "date1 = input(\"Enter the first date (YYYY-MM-DD): \")\n",
    "date2 = input(\"Enter the second date (YYYY-MM-DD): \")\n",
    "\n",
    "# Calculate the time difference\n",
    "days_diff, hours_diff, minutes_diff = calculate_time_difference(date1, date2)\n",
    "\n",
    "# Display the result\n",
    "print(\"Time difference between\", date1, \"and\", date2, \"is:\")\n",
    "print(\"Days:\", days_diff)\n",
    "print(\"Hours:\", hours_diff)\n",
    "print(\"Minutes:\", minutes_diff)\n"
   ]
  },
  {
   "cell_type": "code",
   "execution_count": null,
   "id": "07049a6b-637e-4e2c-810a-8d3cc346833f",
   "metadata": {},
   "outputs": [],
   "source": []
  },
  {
   "cell_type": "markdown",
   "id": "4584e277-99e6-42f0-99a1-1e66920fb05b",
   "metadata": {},
   "source": [
    "Q9. Write a Python program that reads a CSV file containing categorical data and converts a specified\n",
    "column to a categorical data type. The program should prompt the user to enter the file path, column\n",
    "name, and category order, and then display the sorted data."
   ]
  },
  {
   "cell_type": "code",
   "execution_count": null,
   "id": "cddfb87d-c1d6-4194-8e69-bd2d09b152b0",
   "metadata": {},
   "outputs": [],
   "source": [
    "import pandas as pd\n",
    "\n",
    "# Function to read CSV file and convert specified column to categorical data type\n",
    "def convert_to_categorical(file_path, column_name, category_order):\n",
    "    # Read CSV file\n",
    "    df = pd.read_csv(file_path)\n",
    "    \n",
    "    # Convert specified column to categorical data type\n",
    "    df[column_name] = pd.Categorical(df[column_name], categories=category_order, ordered=True)\n",
    "    \n",
    "    # Display sorted data\n",
    "    sorted_data = df.sort_values(by=column_name)\n",
    "    print(\"Sorted data:\")\n",
    "    print(sorted_data)\n",
    "\n",
    "# Prompt the user to enter file path, column name, and category order\n",
    "file_path = input(\"Enter the file path of the CSV file: \")\n",
    "column_name = input(\"Enter the name of the column to convert to categorical data type: \")\n",
    "category_order = input(\"Enter the category order (comma-separated): \").split(',')\n",
    "\n",
    "# Call the function to convert and display sorted data\n",
    "convert_to_categorical(file_path, column_name, category_order)\n"
   ]
  },
  {
   "cell_type": "code",
   "execution_count": null,
   "id": "1a6ee3da-d41e-4fc9-8924-418df8ed368f",
   "metadata": {},
   "outputs": [],
   "source": []
  },
  {
   "cell_type": "markdown",
   "id": "98614ca3-7237-4bd1-a331-c840da1d816c",
   "metadata": {},
   "source": [
    "Q10. Write a Python program that reads a CSV file containing sales data for different products and\n",
    "visualizes the data using a stacked bar chart to show the sales of each product category over time. The\n",
    "program should prompt the user to enter the file path and display the chart."
   ]
  },
  {
   "cell_type": "code",
   "execution_count": null,
   "id": "2397cbac-4720-4d96-8d29-a31931e55bc5",
   "metadata": {},
   "outputs": [],
   "source": [
    "import pandas as pd\n",
    "import matplotlib.pyplot as plt\n",
    "\n",
    "# Function to read CSV file and visualize sales data using stacked bar chart\n",
    "def visualize_sales_data(file_path):\n",
    "    # Read CSV file\n",
    "    df = pd.read_csv(file_path)\n",
    "    \n",
    "    # Convert the 'Date' column to datetime format\n",
    "    df['Date'] = pd.to_datetime(df['Date'])\n",
    "    \n",
    "    # Set 'Date' column as index\n",
    "    df.set_index('Date', inplace=True)\n",
    "    \n",
    "    # Group by product category and resample by month, summing the sales\n",
    "    sales_data = df.groupby('Product Category').resample('M').sum()\n",
    "    \n",
    "    # Pivot the data to prepare for stacked bar chart\n",
    "    sales_pivot = sales_data.reset_index().pivot(index='Date', columns='Product Category', values='Sales')\n",
    "    \n",
    "    # Plot the stacked bar chart\n",
    "    sales_pivot.plot(kind='bar', stacked=True, figsize=(10, 6))\n",
    "    \n",
    "    # Add labels and title\n",
    "    plt.xlabel('Date')\n",
    "    plt.ylabel('Sales')\n",
    "    plt.title('Sales of Each Product Category Over Time')\n",
    "    \n",
    "    # Show the chart\n",
    "    plt.show()\n",
    "\n",
    "# Prompt the user to enter the file path\n",
    "file_path = input(\"Enter the file path of the CSV file: \")\n",
    "\n",
    "# Call the function to visualize sales data\n",
    "visualize_sales_data(file_path)\n"
   ]
  },
  {
   "cell_type": "code",
   "execution_count": null,
   "id": "49b80c29-0fed-4d84-9482-f888ef99da69",
   "metadata": {},
   "outputs": [],
   "source": []
  }
 ],
 "metadata": {
  "kernelspec": {
   "display_name": "Python 3 (ipykernel)",
   "language": "python",
   "name": "python3"
  },
  "language_info": {
   "codemirror_mode": {
    "name": "ipython",
    "version": 3
   },
   "file_extension": ".py",
   "mimetype": "text/x-python",
   "name": "python",
   "nbconvert_exporter": "python",
   "pygments_lexer": "ipython3",
   "version": "3.10.8"
  }
 },
 "nbformat": 4,
 "nbformat_minor": 5
}
