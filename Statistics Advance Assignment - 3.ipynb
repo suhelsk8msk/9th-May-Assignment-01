{
 "cells": [
  {
   "cell_type": "markdown",
   "id": "b9b5d701-0771-4c1c-bf6e-dec33347094e",
   "metadata": {},
   "source": [
    "# Statistics Advance Assignment - 3"
   ]
  },
  {
   "cell_type": "markdown",
   "id": "fdf8eedb-7d43-4984-bb41-6a48a58a75e2",
   "metadata": {},
   "source": [
    "# Q1: What is Estimation Statistics? Explain point estimate and interval estimate."
   ]
  },
  {
   "cell_type": "markdown",
   "id": "7029b7f5-8805-4942-9ade-592ebf92c158",
   "metadata": {},
   "source": [
    "Estimation Statistics:\n",
    "\n",
    "Estimation statistics is a branch of statistics concerned with estimating population parameters based on sample data. In estimation statistics, we use information from a sample to make inferences about unknown parameters of the population from which the sample was drawn. The two main types of estimation in statistics are point estimation and interval estimation."
   ]
  },
  {
   "cell_type": "markdown",
   "id": "44a97ee1-3730-471f-9286-e52411534496",
   "metadata": {},
   "source": [
    "Point Estimate:\n",
    "\n",
    "A point estimate is a single value that serves as the best guess or approximation of an unknown population parameter. It is obtained by using a statistic calculated from sample data to estimate the value of the parameter of interest."
   ]
  },
  {
   "cell_type": "markdown",
   "id": "9a6f9e7f-8960-46e6-958d-6f302c276ffa",
   "metadata": {},
   "source": [
    "# Q2. Write a Python function to estimate the population mean using a sample mean and standard deviation."
   ]
  },
  {
   "cell_type": "code",
   "execution_count": 1,
   "id": "64c9b1bf-a3d2-485a-b0a7-e98e47636549",
   "metadata": {},
   "outputs": [
    {
     "name": "stdout",
     "output_type": "stream",
     "text": [
      "Estimated population mean lies between 48.04 and 51.96 with 95.0% confidence.\n"
     ]
    }
   ],
   "source": [
    "import scipy.stats as stats\n",
    "\n",
    "def estimate_population_mean(sample_mean, sample_std, sample_size, confidence_level=0.95):\n",
    " \n",
    "    # Calculate the standard error (standard deviation of the sampling distribution)\n",
    "    standard_error = sample_std / (sample_size ** 0.5)\n",
    "    \n",
    "    # Calculate the margin of error using the Z-score for the desired confidence level\n",
    "    z_score = stats.norm.ppf(1 - (1 - confidence_level) / 2)\n",
    "    margin_of_error = z_score * standard_error\n",
    "    \n",
    "    # Calculate the lower and upper bounds of the confidence interval\n",
    "    lower_bound = sample_mean - margin_of_error\n",
    "    upper_bound = sample_mean + margin_of_error\n",
    "    \n",
    "    return lower_bound, upper_bound\n",
    "\n",
    "# Example usage:\n",
    "sample_mean = 50\n",
    "sample_std = 10\n",
    "sample_size = 100\n",
    "confidence_level = 0.95\n",
    "\n",
    "lower_bound, upper_bound = estimate_population_mean(sample_mean, sample_std, sample_size, confidence_level)\n",
    "print(f\"Estimated population mean lies between {lower_bound:.2f} and {upper_bound:.2f} with {confidence_level*100}% confidence.\")\n"
   ]
  },
  {
   "cell_type": "markdown",
   "id": "e0445375-04e1-435e-ad43-572a9b7e521e",
   "metadata": {},
   "source": [
    "# Q3: What is Hypothesis testing? Why is it used? State the importance of Hypothesis testing."
   ]
  },
  {
   "cell_type": "markdown",
   "id": "fa691343-befb-4890-87d4-e603536e3fad",
   "metadata": {},
   "source": [
    "Hypothesis Testing:\n",
    "\n",
    "Hypothesis testing is a statistical method used to make inferences or decisions about population parameters based on sample data. It involves formulating a hypothesis about the population parameter of interest and then using sample data to assess the plausibility of the hypothesis. Hypothesis testing is widely used in scientific research, quality control, business decision-making, and various other fields to test theories, validate assumptions, and make evidence-based decisions.\n",
    "\n",
    "Importance of Hypothesis Testing:\n",
    "\n",
    "Scientific Research: \n",
    "\n",
    "Hypothesis testing is essential in scientific research to evaluate theories, hypotheses, and research questions. It allows researchers to determine whether observed differences or relationships in data are statistically significant or simply due to chance.\n",
    "\n",
    "Quality Control and Process Improvement: \n",
    "\n",
    "In industries such as manufacturing, healthcare, and finance, hypothesis testing is used to assess the effectiveness of process improvements, product enhancements, or quality control measures. It helps organizations identify areas for improvement and make data-driven decisions to enhance efficiency and quality.\n",
    "\n",
    "Business Decision-Making: \n",
    "\n",
    "Hypothesis testing is valuable in business decision-making to evaluate marketing strategies, product launches, pricing changes, and other business initiatives. It enables organizations to assess the impact of interventions and make informed decisions to optimize performance and profitability.\n",
    "\n",
    "Policy Evaluation: \n",
    "\n",
    "In public policy and social sciences, hypothesis testing is used to evaluate the effectiveness of policies, programs, and interventions. It helps policymakers and researchers determine whether interventions have the intended effects and whether resources are being allocated efficiently.\n",
    "\n",
    "Medical and Healthcare Research:\n",
    "\n",
    "Hypothesis testing plays a crucial role in medical and healthcare research to assess the efficacy of treatments, interventions, and diagnostic procedures. It helps healthcare professionals make evidence-based decisions and improve patient outcomes.\n",
    "\n",
    "Legal and Regulatory Compliance:\n",
    "\n",
    "In legal and regulatory contexts, hypothesis testing is used to assess compliance with laws, regulations, and standards. It helps ensure fairness, accountability, and transparency in various domains, such as environmental protection, consumer safety, and financial regulation.\n",
    "\n",
    "Educational Assessment: \n",
    "\n",
    "Hypothesis testing is employed in educational research and assessment to evaluate teaching methods, curriculum changes, and educational interventions. It helps educators and policymakers identify effective educational practices and improve student outcomes.\n",
    "\n",
    "In summary, hypothesis testing is a fundamental statistical method used to evaluate hypotheses, make decisions, and draw conclusions based on sample data. Its importance lies in its wide-ranging applications across various fields, enabling researchers, practitioners, and decision-makers to make informed decisions, solve problems, and advance knowledge."
   ]
  },
  {
   "cell_type": "markdown",
   "id": "3fe8ddb9-17da-4e94-8c25-9bddd583a0da",
   "metadata": {},
   "source": [
    "# Q4. Create a hypothesis that states whether the average weight of male college students is greater than the average weight of female college students."
   ]
  },
  {
   "cell_type": "markdown",
   "id": "7e20f6c1-1314-4086-83e3-0d9862d8ff2d",
   "metadata": {},
   "source": [
    "Null Hypothesis (H0):\n",
    "The average weight of male college students is equal to or less than the average weight of female college students.\n",
    "\n",
    "Alternative Hypothesis (H1):\n",
    "The average weight of male college students is greater than the average weight of female college students."
   ]
  },
  {
   "cell_type": "markdown",
   "id": "edc6842e-0efe-4614-9ff4-bec8ad781e74",
   "metadata": {},
   "source": [
    "# Q5. Write a Python script to conduct a hypothesis test on the difference between two population means, given a sample from each population."
   ]
  },
  {
   "cell_type": "code",
   "execution_count": null,
   "id": "1cc363d4-68e9-4c81-abd6-a611a78935d1",
   "metadata": {},
   "outputs": [],
   "source": [
    "from scipy import stats\n",
    "\n",
    "def independent_t_test(sample1, sample2, alpha=0.05):\n",
    "   \n",
    "    t_statistic, p_value = stats.ttest_ind(sample1, sample2)\n",
    "    return t_statistic, p_value\n",
    "\n",
    "# Example usage:\n",
    "sample1 = [65, 68, 70, 72, 71]  # Sample from population 1\n",
    "sample2 = [60, 62, 64, 63, 66]  # Sample from population 2\n",
    "\n",
    "t_statistic, p_value = independent_t_test(sample1, sample2)\n",
    "\n",
    "print(\"Independent Samples t-Test Results:\")\n",
    "print(\"t-statistic:\", t_statistic)\n",
    "print(\"p-value:\", p_value)\n",
    "\n",
    "# Interpret the results based on the p-value and chosen significance level\n",
    "if p_value < alpha:\n",
    "    print(\"Reject the null hypothesis; there is a significant difference between the population means.\")\n",
    "else:\n",
    "    print(\"Fail to reject the null hypothesis; there is no significant difference between the population means.\")\n"
   ]
  },
  {
   "cell_type": "markdown",
   "id": "341066e5-8951-42e8-8c83-f1d8f9a371ee",
   "metadata": {},
   "source": [
    "# Q6: What is a null and alternative hypothesis? Give some examples."
   ]
  },
  {
   "cell_type": "markdown",
   "id": "eaacf35c-4878-4928-9c6b-79f7067d97a6",
   "metadata": {},
   "source": [
    "In statistical hypothesis testing, the null hypothesis (denoted as H0) and the alternative hypothesis (denoted as H1 or Ha) are two complementary statements that are used to assess the validity of a claim about a population parameter based on sample data.\n",
    "\n",
    "Null Hypothesis (H0):\n",
    "The null hypothesis is a statement that represents the default or status quo assumption. It assumes that there is no significant effect, no difference, or no relationship between variables. In other words, the null hypothesis proposes that any observed difference or effect in the sample data is due to random chance or sampling variability. The null hypothesis is typically what we want to test against in hypothesis testing.\n",
    "\n",
    "Alternative Hypothesis (H1 or Ha):\n",
    "The alternative hypothesis is a statement that contradicts the null hypothesis. It represents the claim, effect, or difference that the researcher is interested in investigating. The alternative hypothesis suggests that there is a significant effect, difference, or relationship between variables beyond what would be expected by chance alone.\n",
    "\n",
    "Examples:\n",
    "\n",
    "Example 1 - Mean Comparison:\n",
    "\n",
    "Null Hypothesis (H0): The average height of male and female students in a school is the same.\n",
    "Alternative Hypothesis (H1): The average height of male students is different from the average height of female students.\n",
    "Example 2 - Proportion Comparison:\n",
    "\n",
    "Null Hypothesis (H0): The proportion of defective products produced by Machine A is equal to the proportion of defective products produced by Machine B.\n",
    "Alternative Hypothesis (H1): The proportion of defective products produced by Machine A is different from the proportion of defective products produced by Machine B.\n",
    "Example 3 - Correlation Analysis:\n",
    "\n",
    "Null Hypothesis (H0): There is no correlation between hours of study and exam scores.\n",
    "Alternative Hypothesis (H1): There is a significant correlation between hours of study and exam scores.\n",
    "Example 4 - Treatment Effect:\n",
    "\n",
    "Null Hypothesis (H0): The mean blood pressure of patients before and after treatment is the same.\n",
    "Alternative Hypothesis (H1): The mean blood pressure of patients after treatment is different from the mean blood pressure before treatment."
   ]
  },
  {
   "cell_type": "markdown",
   "id": "ad8407d0-d8d0-4411-94b1-1360090600a9",
   "metadata": {},
   "source": [
    "# Q7: Write down the steps involved in hypothesis testing."
   ]
  },
  {
   "cell_type": "code",
   "execution_count": null,
   "id": "c184bb97-ec92-4d68-9fe6-241b97bcc1c2",
   "metadata": {},
   "outputs": [],
   "source": []
  }
 ],
 "metadata": {
  "kernelspec": {
   "display_name": "Python 3 (ipykernel)",
   "language": "python",
   "name": "python3"
  },
  "language_info": {
   "codemirror_mode": {
    "name": "ipython",
    "version": 3
   },
   "file_extension": ".py",
   "mimetype": "text/x-python",
   "name": "python",
   "nbconvert_exporter": "python",
   "pygments_lexer": "ipython3",
   "version": "3.10.8"
  }
 },
 "nbformat": 4,
 "nbformat_minor": 5
}
