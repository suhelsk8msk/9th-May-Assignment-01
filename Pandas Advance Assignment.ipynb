{
 "cells": [
  {
   "cell_type": "markdown",
   "id": "0d5bf012-253f-4cd7-a1de-4aa3120d57bf",
   "metadata": {},
   "source": [
    "# Assignment : Pandas Advance Assignment"
   ]
  },
  {
   "cell_type": "markdown",
   "id": "ed913933-b6e9-4cb7-96f3-6ed996dd99c6",
   "metadata": {},
   "source": [
    "Q1. List any five functions of the pandas library with execution."
   ]
  },
  {
   "cell_type": "markdown",
   "id": "d185537b-843f-4b46-af2f-bb63d60908ac",
   "metadata": {},
   "source": [
    "Ans - here are five common functions from the Pandas library along with their execution :"
   ]
  },
  {
   "cell_type": "markdown",
   "id": "ba9f5229-d73b-47de-b481-2a6c2f505903",
   "metadata": {},
   "source": [
    "1 head(): This function is used to display the first n rows of the DataFrame. By default, it displays the first 5 rows."
   ]
  },
  {
   "cell_type": "code",
   "execution_count": 2,
   "id": "3e079b49-f995-40fd-9797-4a13e1d20a6f",
   "metadata": {},
   "outputs": [
    {
     "name": "stdout",
     "output_type": "stream",
     "text": [
      "      Name  Age\n",
      "0    Alice   25\n",
      "1      Bob   30\n",
      "2  Charlie   35\n"
     ]
    }
   ],
   "source": [
    "import pandas as pd\n",
    "\n",
    "# Creating a DataFrame\n",
    "data = {'Name': ['Alice', 'Bob', 'Charlie', 'David', 'Eve'],\n",
    "        'Age': [25, 30, 35, 40, 45]}\n",
    "df = pd.DataFrame(data)\n",
    "\n",
    "# Displaying the first 3 rows of the DataFrame\n",
    "print(df.head(3))\n"
   ]
  },
  {
   "cell_type": "markdown",
   "id": "a0d5e26c-7a22-423b-bf72-2efccbc82d06",
   "metadata": {},
   "source": [
    "2 read_csv(): This function is used to read data from a CSV file into a DataFrame."
   ]
  },
  {
   "cell_type": "code",
   "execution_count": null,
   "id": "0a4562c4-60dc-4abc-8a1b-b6a7738adb7d",
   "metadata": {},
   "outputs": [],
   "source": [
    "import pandas as pd\n",
    "\n",
    "# Reading a CSV file into a DataFrame\n",
    "df = pd.read_csv('data.csv')\n",
    "print(df.head())\n"
   ]
  },
  {
   "cell_type": "markdown",
   "id": "cdffd0b9-bc02-47fd-9e32-9bf3093fcc9a",
   "metadata": {},
   "source": [
    "3 info(): This function provides a concise summary of the DataFrame including the index dtype and column dtypes, non-null values, and memory usage."
   ]
  },
  {
   "cell_type": "code",
   "execution_count": 6,
   "id": "44b19a91-80b3-4781-8624-6946c01b72b9",
   "metadata": {},
   "outputs": [
    {
     "name": "stdout",
     "output_type": "stream",
     "text": [
      "<class 'pandas.core.frame.DataFrame'>\n",
      "RangeIndex: 5 entries, 0 to 4\n",
      "Data columns (total 2 columns):\n",
      " #   Column  Non-Null Count  Dtype \n",
      "---  ------  --------------  ----- \n",
      " 0   Name    5 non-null      object\n",
      " 1   Age     5 non-null      int64 \n",
      "dtypes: int64(1), object(1)\n",
      "memory usage: 208.0+ bytes\n",
      "None\n"
     ]
    }
   ],
   "source": [
    "import pandas as pd\n",
    "\n",
    "# Creating a DataFrame\n",
    "data = {'Name': ['Alice', 'Bob', 'Charlie', 'David', 'Eve'],\n",
    "        'Age': [25, 30, 35, 40, 45]}\n",
    "df = pd.DataFrame(data)\n",
    "\n",
    "# Displaying information about the DataFrame\n",
    "print(df.info())\n"
   ]
  },
  {
   "cell_type": "markdown",
   "id": "de4a48eb-379b-45db-9756-6a8ba4ab85c8",
   "metadata": {},
   "source": [
    "4 describe(): This function generates descriptive statistics of the DataFrame's numerical columns, such as count, mean, std (standard deviation), min, quartiles, and max."
   ]
  },
  {
   "cell_type": "code",
   "execution_count": 7,
   "id": "e5d82864-b110-490f-9585-4a0383187b60",
   "metadata": {},
   "outputs": [
    {
     "name": "stdout",
     "output_type": "stream",
     "text": [
      "              A         B\n",
      "count  5.000000  5.000000\n",
      "mean   3.000000  3.000000\n",
      "std    1.581139  1.581139\n",
      "min    1.000000  1.000000\n",
      "25%    2.000000  2.000000\n",
      "50%    3.000000  3.000000\n",
      "75%    4.000000  4.000000\n",
      "max    5.000000  5.000000\n"
     ]
    }
   ],
   "source": [
    "import pandas as pd\n",
    "\n",
    "# Creating a DataFrame\n",
    "data = {'A': [1, 2, 3, 4, 5],\n",
    "        'B': [5, 4, 3, 2, 1]}\n",
    "df = pd.DataFrame(data)\n",
    "\n",
    "# Generating descriptive statistics of the DataFrame\n",
    "print(df.describe())\n"
   ]
  },
  {
   "cell_type": "markdown",
   "id": "08556a75-f7ff-4a2a-9844-6c447ba834a9",
   "metadata": {},
   "source": [
    "5 - fillna(): This function is used to fill NA/NaN values in the DataFrame with a specified value or method."
   ]
  },
  {
   "cell_type": "code",
   "execution_count": 8,
   "id": "16b9e804-dc57-40da-a36a-b7533a35e987",
   "metadata": {},
   "outputs": [
    {
     "name": "stdout",
     "output_type": "stream",
     "text": [
      "     A    B\n",
      "0  1.0  0.0\n",
      "1  0.0  2.0\n",
      "2  3.0  0.0\n",
      "3  0.0  4.0\n",
      "4  5.0  0.0\n"
     ]
    }
   ],
   "source": [
    "import pandas as pd\n",
    "import numpy as np\n",
    "\n",
    "# Creating a DataFrame with NaN values\n",
    "data = {'A': [1, np.nan, 3, np.nan, 5],\n",
    "        'B': [np.nan, 2, np.nan, 4, np.nan]}\n",
    "df = pd.DataFrame(data)\n",
    "\n",
    "# Filling NaN values with 0\n",
    "df_filled = df.fillna(0)\n",
    "print(df_filled)\n"
   ]
  },
  {
   "cell_type": "code",
   "execution_count": null,
   "id": "ee3d85e3-475d-475a-bc50-09fa87f37a26",
   "metadata": {},
   "outputs": [],
   "source": []
  },
  {
   "cell_type": "markdown",
   "id": "b3de7106-867a-4caa-9bb1-77f3a9607471",
   "metadata": {},
   "source": [
    "Q2. Given a Pandas DataFrame df with columns 'A', 'B', and 'C', write a Python function to re-index the\n",
    "DataFrame with a new index that starts from 1 and increments by 2 for each row."
   ]
  },
  {
   "cell_type": "code",
   "execution_count": 10,
   "id": "5d5b171f-1927-48d0-b8c2-acbd45066426",
   "metadata": {},
   "outputs": [
    {
     "name": "stdout",
     "output_type": "stream",
     "text": [
      "   A  B  C\n",
      "1  1  4  7\n",
      "3  2  5  8\n",
      "5  3  6  9\n"
     ]
    }
   ],
   "source": [
    "import pandas as pd\n",
    "\n",
    "def reindex_dataframe(df):\n",
    "    # Create a new index starting from 1 and incrementing by 2 for each row\n",
    "    new_index = pd.Index(range(1, len(df) * 2, 2))\n",
    "    \n",
    "    # Re-index the DataFrame\n",
    "    df_reindexed = df.set_index(new_index)\n",
    "    \n",
    "    return df_reindexed\n",
    "\n",
    "\n",
    "# Assuming df is your DataFrame with columns 'A', 'B', and 'C'\n",
    "df = pd.DataFrame({'A': [1, 2, 3], 'B': [4, 5, 6], 'C': [7, 8, 9]})\n",
    "\n",
    "# Re-index the DataFrame\n",
    "df_reindexed = reindex_dataframe(df)\n",
    "print(df_reindexed)\n"
   ]
  },
  {
   "cell_type": "code",
   "execution_count": null,
   "id": "b42eab80-9058-4588-ac5d-754cf0a1b35e",
   "metadata": {},
   "outputs": [],
   "source": []
  },
  {
   "cell_type": "markdown",
   "id": "7aef8b69-21a7-435e-b96a-d07bd2857f24",
   "metadata": {},
   "source": [
    "Q3. You have a Pandas DataFrame df with a column named 'Values'. Write a Python function that\n",
    "iterates over the DataFrame and calculates the sum of the first three values in the 'Values' column. The\n",
    "function should print the sum to the console."
   ]
  },
  {
   "cell_type": "markdown",
   "id": "f4c28e8a-9851-4ca3-98b7-af6b09569777",
   "metadata": {},
   "source": [
    "A Python function that iterates over the DataFrame and calculates the sum of the first three values in the 'Values' column:"
   ]
  },
  {
   "cell_type": "code",
   "execution_count": 12,
   "id": "279d3993-393c-4fad-89ea-a71aa649a209",
   "metadata": {},
   "outputs": [
    {
     "name": "stdout",
     "output_type": "stream",
     "text": [
      "Sum of the first three values: 60\n"
     ]
    }
   ],
   "source": [
    "import pandas as pd\n",
    "\n",
    "def calculate_sum_of_first_three(df):\n",
    "    # Initialize sum\n",
    "    total_sum = 0\n",
    "    \n",
    "    # Iterate over the first three values in the 'Values' column\n",
    "    for value in df['Values'].head(3):\n",
    "        total_sum += value\n",
    "    \n",
    "    # Print the sum to the console\n",
    "    print(\"Sum of the first three values:\", total_sum)\n",
    "\n",
    "\n",
    "# Assuming df is your DataFrame with a column named 'Values'\n",
    "df = pd.DataFrame({'Values': [10, 20, 30, 40, 50]})\n",
    "\n",
    "# Calculate the sum of the first three values\n",
    "calculate_sum_of_first_three(df)\n"
   ]
  },
  {
   "cell_type": "code",
   "execution_count": null,
   "id": "03108bf0-0954-4b77-ba5e-c77ea46c90ef",
   "metadata": {},
   "outputs": [],
   "source": []
  },
  {
   "cell_type": "markdown",
   "id": "ff259477-ee76-4469-b52d-d11cf1191ec5",
   "metadata": {},
   "source": [
    "Q4. Given a Pandas DataFrame df with a column 'Text', write a Python function to create a new column\n",
    "'Word_Count' that contains the number of words in each row of the 'Text' column."
   ]
  },
  {
   "cell_type": "code",
   "execution_count": 14,
   "id": "81e833cc-5081-4a24-900d-0be3ad1214f9",
   "metadata": {},
   "outputs": [
    {
     "name": "stdout",
     "output_type": "stream",
     "text": [
      "                     Text  Word_Count\n",
      "0  This is a sample text.           5\n",
      "1    Another example text           3\n",
      "2        Yet another text           3\n"
     ]
    }
   ],
   "source": [
    "import pandas as pd\n",
    "\n",
    "def count_words(text):\n",
    "    # Split the text by whitespace to get individual words\n",
    "    words = text.split()\n",
    "    # Return the count of words\n",
    "    return len(words)\n",
    "\n",
    "def add_word_count_column(df):\n",
    "    # Apply the count_words function to each row of the 'Text' column\n",
    "    df['Word_Count'] = df['Text'].apply(count_words)\n",
    "    return df\n",
    "\n",
    "# Example usage:\n",
    "# Assuming df is your DataFrame with a column named 'Text'\n",
    "df = pd.DataFrame({'Text': [\"This is a sample text.\", \"Another example text\", \"Yet another text\"]})\n",
    "\n",
    "# Create a new column 'Word_Count' containing the number of words in each row of the 'Text' column\n",
    "df_with_word_count = add_word_count_column(df)\n",
    "print(df_with_word_count)\n"
   ]
  },
  {
   "cell_type": "code",
   "execution_count": null,
   "id": "4af88a93-e5ff-4b85-8294-7263712978e2",
   "metadata": {},
   "outputs": [],
   "source": []
  },
  {
   "cell_type": "markdown",
   "id": "133bbe63-d941-44af-8457-80e0dc9e79c4",
   "metadata": {},
   "source": [
    "Q5. How are DataFrame.size() and DataFrame.shape() different?"
   ]
  },
  {
   "cell_type": "markdown",
   "id": "a6b5a61c-ae13-4e76-8cd6-e879eff5327e",
   "metadata": {},
   "source": [
    "DataFrame.size: \n",
    "\n",
    "This attribute returns the total number of elements in the DataFrame. It gives you the total number of cells in the DataFrame, calculated by multiplying the number of rows by the number of columns."
   ]
  },
  {
   "cell_type": "code",
   "execution_count": 15,
   "id": "d03ef96d-9229-4214-9b06-c117cf070bb1",
   "metadata": {},
   "outputs": [
    {
     "name": "stdout",
     "output_type": "stream",
     "text": [
      "DataFrame size: 6\n"
     ]
    }
   ],
   "source": [
    "import pandas as pd\n",
    "\n",
    "# Creating a DataFrame\n",
    "data = {'A': [1, 2, 3],\n",
    "        'B': [4, 5, 6]}\n",
    "df = pd.DataFrame(data)\n",
    "\n",
    "# Getting the size of the DataFrame\n",
    "size = df.size\n",
    "print(\"DataFrame size:\", size)  # Output will be 6 (3 rows * 2 columns = 6 elements)\n"
   ]
  },
  {
   "cell_type": "markdown",
   "id": "baa4b122-fc0f-4174-821c-0e19caa5705e",
   "metadata": {},
   "source": [
    "DataFrame.shape: \n",
    "\n",
    "This attribute returns a tuple representing the dimensions of the DataFrame. It returns a tuple containing the number of rows and the number of columns in the DataFrame."
   ]
  },
  {
   "cell_type": "code",
   "execution_count": 16,
   "id": "722583a2-a605-4bbe-a020-1ca88e8182c6",
   "metadata": {},
   "outputs": [
    {
     "name": "stdout",
     "output_type": "stream",
     "text": [
      "DataFrame shape: (3, 2)\n"
     ]
    }
   ],
   "source": [
    "import pandas as pd\n",
    "\n",
    "# Creating a DataFrame\n",
    "data = {'A': [1, 2, 3],\n",
    "        'B': [4, 5, 6]}\n",
    "df = pd.DataFrame(data)\n",
    "\n",
    "# Getting the shape of the DataFrame\n",
    "shape = df.shape\n",
    "print(\"DataFrame shape:\", shape)  # Output will be (3, 2) indicating 3 rows and 2 columns\n"
   ]
  },
  {
   "cell_type": "code",
   "execution_count": null,
   "id": "948273ac-ce4e-4615-80bd-e4d834f9961f",
   "metadata": {},
   "outputs": [],
   "source": []
  },
  {
   "cell_type": "markdown",
   "id": "7e1351ca-23d2-4379-8826-dd7a3dd0d6e4",
   "metadata": {},
   "source": [
    "Q6. Which function of pandas do we use to read an excel file?"
   ]
  },
  {
   "cell_type": "markdown",
   "id": "a20acf2b-2856-42a8-94ba-ba3bf93c680d",
   "metadata": {},
   "source": [
    "Ans - \n",
    "\n",
    "To read an Excel file in Pandas, you would typically use the read_excel() function. Here's how you can use it:\n",
    "\n"
   ]
  },
  {
   "cell_type": "code",
   "execution_count": null,
   "id": "adfadcb5-931e-42a6-a1a0-3450a47b3fd5",
   "metadata": {},
   "outputs": [],
   "source": [
    "import pandas as pd\n",
    "\n",
    "# Reading an Excel file into a DataFrame\n",
    "df = pd.read_excel('your_file.xlsx')\n",
    "\n",
    "# Now you can work with the DataFrame 'df'\n",
    "print(df.head())"
   ]
  },
  {
   "cell_type": "code",
   "execution_count": null,
   "id": "e734095e-440e-4ce2-88eb-29676f86ee34",
   "metadata": {},
   "outputs": [],
   "source": []
  },
  {
   "cell_type": "markdown",
   "id": "10d1a7ab-e9d0-4fbc-a476-cb50b2085914",
   "metadata": {},
   "source": [
    "Q7. You have a Pandas DataFrame df that contains a column named 'Email' that contains email\n",
    "addresses in the format 'username@domain.com'. Write a Python function that creates a new column\n",
    "'Username' in df that contains only the username part of each email address."
   ]
  },
  {
   "cell_type": "code",
   "execution_count": 21,
   "id": "912fa19c-65c3-483d-b32e-121f7bd4c399",
   "metadata": {},
   "outputs": [
    {
     "name": "stdout",
     "output_type": "stream",
     "text": [
      "               Email Username\n",
      "0  user1@example.com    user1\n",
      "1  user2@example.com    user2\n"
     ]
    }
   ],
   "source": [
    "import pandas as pd\n",
    "\n",
    "def extract_username(email):\n",
    "    # Split the email address on '@' symbol and return the first part\n",
    "    return email.split('@')[0]\n",
    "\n",
    "def add_username_column(df):\n",
    "    # Apply the extract_username function to each element of the 'Email' column\n",
    "    df['Username'] = df['Email'].apply(extract_username)\n",
    "    return df\n",
    "\n",
    "# Example usage:\n",
    "# Assuming df is your DataFrame with a column named 'Email'\n",
    "df = pd.DataFrame({'Email': ['user1@example.com', 'user2@example.com']})\n",
    "\n",
    "# Create a new column 'Username' containing only the username part of each email address\n",
    "df_with_username = add_username_column(df)\n",
    "print(df_with_username)\n"
   ]
  },
  {
   "cell_type": "markdown",
   "id": "ea837d33-831b-46df-9f40-47bd9de1d692",
   "metadata": {},
   "source": [
    "The username is the part of the email address that appears before the '@' symbol. For example, if the\n",
    "email address is 'john.doe@example.com', the 'Username' column should contain 'john.doe'. Your\n",
    "function should extract the username from each email address and store it in the new 'Username'\n",
    "column."
   ]
  },
  {
   "cell_type": "code",
   "execution_count": 20,
   "id": "b4b64d19-c8ad-4550-9913-04f0a52f061d",
   "metadata": {},
   "outputs": [
    {
     "name": "stdout",
     "output_type": "stream",
     "text": [
      "                  Email  Username\n",
      "0  john.doe@example.com  john.doe\n",
      "1  jane.doe@example.com  jane.doe\n"
     ]
    }
   ],
   "source": [
    "import pandas as pd\n",
    "\n",
    "def extract_username(email):\n",
    "    # Split the email address on '@' symbol and return the first part\n",
    "    return email.split('@')[0]\n",
    "\n",
    "def add_username_column(df):\n",
    "    # Create a new column 'Username' containing the username part of each email address\n",
    "    df['Username'] = df['Email'].apply(extract_username)\n",
    "    return df\n",
    "\n",
    "\n",
    "# Assuming df is your DataFrame with a column named 'Email'\n",
    "df = pd.DataFrame({'Email': ['john.doe@example.com', 'jane.doe@example.com']})\n",
    "\n",
    "# Create a new column 'Username' containing only the username part of each email address\n",
    "df_with_username = add_username_column(df)\n",
    "print(df_with_username)\n"
   ]
  },
  {
   "cell_type": "code",
   "execution_count": null,
   "id": "f91b0c51-62a0-4637-8375-2345d3b6edd9",
   "metadata": {},
   "outputs": [],
   "source": []
  },
  {
   "cell_type": "markdown",
   "id": "037ccbde-2cc9-456a-b708-2833e77fcf0f",
   "metadata": {},
   "source": [
    "Q8. You have a Pandas DataFrame df with columns 'A', 'B', and 'C'. Write a Python function that selects\n",
    "all rows where the value in column 'A' is greater than 5 and the value in column 'B' is less than 10. The\n",
    "function should return a new DataFrame that contains only the selected rows."
   ]
  },
  {
   "cell_type": "code",
   "execution_count": 25,
   "id": "4606f545-9cb1-4146-8a98-0428ed67effc",
   "metadata": {},
   "outputs": [
    {
     "name": "stdout",
     "output_type": "stream",
     "text": [
      "   A  B  C\n",
      "1  8  2  7\n",
      "2  6  9  4\n",
      "4  9  1  2\n"
     ]
    }
   ],
   "source": [
    "import pandas as pd\n",
    "\n",
    "def select_rows(df):\n",
    "    # Select rows where value in column 'A' is greater than 5 and value in column 'B' is less than 10\n",
    "    selected_rows = df[(df['A'] > 5) & (df['B'] < 10)]\n",
    "    return selected_rows\n",
    "\n",
    "\n",
    "# Assuming df is your DataFrame with columns 'A', 'B', and 'C'\n",
    "df = pd.DataFrame({'A': [3, 8, 6, 2, 9], 'B': [5, 2, 9, 3, 1], 'C': [1, 7, 4, 5, 2]})\n",
    "\n",
    "# Select rows where value in column 'A' is greater than 5 and value in column 'B' is less than 10\n",
    "selected_df = select_rows(df)\n",
    "print(selected_df)\n"
   ]
  },
  {
   "cell_type": "code",
   "execution_count": null,
   "id": "8d4fecd8-8ba4-4704-b8c4-9347114e2548",
   "metadata": {},
   "outputs": [],
   "source": []
  },
  {
   "cell_type": "markdown",
   "id": "c941db53-f13f-4953-9b29-4b941bad814d",
   "metadata": {},
   "source": [
    "Q9. Given a Pandas DataFrame df with a column 'Values', write a Python function to calculate the mean,\n",
    "median, and standard deviation of the values in the 'Values' column."
   ]
  },
  {
   "cell_type": "code",
   "execution_count": 26,
   "id": "d44e741b-75e1-4481-8c7f-a702e5e4f66c",
   "metadata": {},
   "outputs": [
    {
     "name": "stdout",
     "output_type": "stream",
     "text": [
      "Mean: 30.0\n",
      "Median: 30.0\n",
      "Standard Deviation: 15.811388300841896\n"
     ]
    }
   ],
   "source": [
    "import pandas as pd\n",
    "\n",
    "def calculate_statistics(df):\n",
    "    # Calculate mean, median, and standard deviation of the values in the 'Values' column\n",
    "    mean_value = df['Values'].mean()\n",
    "    median_value = df['Values'].median()\n",
    "    std_deviation = df['Values'].std()\n",
    "    \n",
    "    return mean_value, median_value, std_deviation\n",
    "\n",
    "\n",
    "# Assuming df is your DataFrame with a column named 'Values'\n",
    "df = pd.DataFrame({'Values': [10, 20, 30, 40, 50]})\n",
    "\n",
    "# Calculate mean, median, and standard deviation of the values in the 'Values' column\n",
    "mean, median, std = calculate_statistics(df)\n",
    "print(\"Mean:\", mean)\n",
    "print(\"Median:\", median)\n",
    "print(\"Standard Deviation:\", std)\n"
   ]
  },
  {
   "cell_type": "code",
   "execution_count": null,
   "id": "4b13d19e-84c9-414e-b474-efea3a6477ab",
   "metadata": {},
   "outputs": [],
   "source": []
  },
  {
   "cell_type": "markdown",
   "id": "63f53284-2fcf-4d1f-9213-18b2f8842215",
   "metadata": {},
   "source": [
    "Q11. You have a Pandas DataFrame df with a column 'Date'. Write a Python function that creates a new\n",
    "column 'Weekday' in the DataFrame. The 'Weekday' column should contain the weekday name (e.g.\n",
    "Monday, Tuesday) corresponding to each date in the 'Date' column."
   ]
  },
  {
   "cell_type": "code",
   "execution_count": null,
   "id": "7c7c4044-5f8e-4895-a174-bc77416cf2b7",
   "metadata": {},
   "outputs": [],
   "source": []
  },
  {
   "cell_type": "markdown",
   "id": "06902a86-5d69-46e4-bf00-f0d275ec80d3",
   "metadata": {},
   "source": [
    "Q12. Given a Pandas DataFrame df with a column 'Date' that contains timestamps, write a Python\n",
    "function to select all rows where the date is between '2023-01-01' and '2023-01-31'."
   ]
  },
  {
   "cell_type": "code",
   "execution_count": 27,
   "id": "7842e034-1158-47a2-96ea-f769c56a9bfc",
   "metadata": {},
   "outputs": [
    {
     "name": "stdout",
     "output_type": "stream",
     "text": [
      "        Date\n",
      "0 2023-01-05\n",
      "1 2023-01-15\n"
     ]
    }
   ],
   "source": [
    "import pandas as pd\n",
    "\n",
    "def select_rows_in_date_range(df):\n",
    "    # Convert the 'Date' column to datetime dtype if it's not already\n",
    "    df['Date'] = pd.to_datetime(df['Date'])\n",
    "    \n",
    "    # Define the start and end dates of the range\n",
    "    start_date = '2023-01-01'\n",
    "    end_date = '2023-01-31'\n",
    "    \n",
    "    # Select rows where the date is between '2023-01-01' and '2023-01-31'\n",
    "    selected_rows = df[(df['Date'] >= start_date) & (df['Date'] <= end_date)]\n",
    "    \n",
    "    return selected_rows\n",
    "\n",
    "\n",
    "# Assuming df is your DataFrame with a column named 'Date'\n",
    "df = pd.DataFrame({'Date': ['2023-01-05', '2023-01-15', '2023-02-10']})\n",
    "\n",
    "# Select rows where the date is between '2023-01-01' and '2023-01-31'\n",
    "selected_df = select_rows_in_date_range(df)\n",
    "print(selected_df)\n"
   ]
  },
  {
   "cell_type": "code",
   "execution_count": null,
   "id": "2c14b98e-d252-4890-98e4-ce85343af74b",
   "metadata": {},
   "outputs": [],
   "source": []
  },
  {
   "cell_type": "markdown",
   "id": "ad4b590a-3c6e-4367-9d30-228d9732bb75",
   "metadata": {},
   "source": [
    "Q13. To use the basic functions of pandas, what is the first and foremost necessary library that needs to\n",
    "be imported?"
   ]
  },
  {
   "cell_type": "markdown",
   "id": "934d2a21-3c0b-4dad-945f-fee590a581d7",
   "metadata": {},
   "source": [
    "Ans - you need to import the Pandas library itself. You typically import it using the alias pd. Here's how you import Pandas:"
   ]
  },
  {
   "cell_type": "code",
   "execution_count": null,
   "id": "e1082ccc-588e-49fd-abf5-e6c995a5c99e",
   "metadata": {},
   "outputs": [],
   "source": [
    "import pandas as pd"
   ]
  },
  {
   "cell_type": "code",
   "execution_count": null,
   "id": "a3b32625-b5c5-41ae-afc5-61ceff6c639b",
   "metadata": {},
   "outputs": [],
   "source": []
  }
 ],
 "metadata": {
  "kernelspec": {
   "display_name": "Python 3 (ipykernel)",
   "language": "python",
   "name": "python3"
  },
  "language_info": {
   "codemirror_mode": {
    "name": "ipython",
    "version": 3
   },
   "file_extension": ".py",
   "mimetype": "text/x-python",
   "name": "python",
   "nbconvert_exporter": "python",
   "pygments_lexer": "ipython3",
   "version": "3.10.8"
  }
 },
 "nbformat": 4,
 "nbformat_minor": 5
}
