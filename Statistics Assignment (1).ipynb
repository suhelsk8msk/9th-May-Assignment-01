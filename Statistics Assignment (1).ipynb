{
 "cells": [
  {
   "cell_type": "markdown",
   "id": "1aafc575-c19d-4f6d-8225-92d210c79566",
   "metadata": {},
   "source": [
    "# Statistics Assignment"
   ]
  },
  {
   "cell_type": "markdown",
   "id": "1d217057-70f2-46d4-a27d-8d6f2cf4cc98",
   "metadata": {},
   "source": [
    "# Q1. What are the three measures of central tendency?"
   ]
  },
  {
   "cell_type": "markdown",
   "id": "6a736417-b2ec-4514-87f8-86a53efc338e",
   "metadata": {},
   "source": [
    "Ans - The three measures of central tendency are:\n",
    "\n",
    "Mean: The mean is the average of a set of numbers. It is calculated by adding up all the values in the dataset and dividing by the total number of values. The mean is sensitive to outliers.\n",
    "\n",
    "Median: The median is the middle value in a dataset when the values are arranged in ascending or descending order. If there is an even number of values, the median is the average of the two middle values. The median is less affected by outliers compared to the mean.\n",
    "\n",
    "Mode: The mode is the value that appears most frequently in a dataset. A dataset can have one mode (unimodal), two modes (bimodal), or more than two modes (multimodal). Unlike the mean and median, the mode can be applied to both numerical and categorical data."
   ]
  },
  {
   "cell_type": "markdown",
   "id": "bcd4deb0-8324-4c1d-bb82-4937d62a357a",
   "metadata": {},
   "source": [
    "# Q2. What is the difference between the mean, median, and mode? How are they used to measure the central tendency of a dataset?"
   ]
  },
  {
   "cell_type": "markdown",
   "id": "f14fcba3-d7e5-4d94-8f11-36a7ffdba710",
   "metadata": {},
   "source": [
    "The mean, median, and mode are all measures of central tendency, but they have different methods of calculation and interpretations:\n",
    "\n",
    "# Mean:\n",
    "\n",
    "Calculation: The mean is calculated by summing up all the values in a dataset and then dividing by the total number of values.\n",
    "\n",
    "Interpretation: The mean represents the \"average\" value of the dataset. It is sensitive to extreme values, also known as outliers, which can skew its value.\n",
    "\n",
    "# Median:\n",
    "\n",
    "Calculation: The median is the middle value of a dataset when the values are arranged in ascending or descending order. If there is an even number of values, the median is the average of the two middle values.\n",
    "\n",
    "Interpretation: The median represents the value that divides the dataset into two equal halves. It is less affected by extreme values or outliers compared to the mean.\n",
    "\n",
    "# Mode:\n",
    "\n",
    "Calculation: The mode is the value that appears most frequently in a dataset.\n",
    "Interpretation: The mode represents the most common value(s) in the dataset. Unlike the mean and median, the mode can be used with categorical data as well as numerical data."
   ]
  },
  {
   "cell_type": "markdown",
   "id": "30310bd9-4380-431a-b7d9-e5ecf028b169",
   "metadata": {},
   "source": [
    "Each measure of central tendency has its own strengths and weaknesses, and they are used in different contexts:\n",
    "\n",
    "Mean: Often used when the data is normally distributed and there are no extreme outliers. It provides a balanced representation of the dataset.\n",
    "\n",
    "Median: Useful when the dataset contains outliers or when the data is skewed. It provides a more robust measure of central tendency in such cases.\n",
    "\n",
    "Mode: Useful for categorical data or when identifying the most common value(s) in a dataset. It can also be used alongside the mean and median to provide a more comprehensive understanding of the dataset."
   ]
  },
  {
   "cell_type": "markdown",
   "id": "2c473829-d658-4a3f-97f8-ce412c6b1b68",
   "metadata": {},
   "source": [
    "# Q3. Measure the three measures of central tendency for the given height data:\n",
    "# [178,177,176,177,178.2,178,175,179,180,175,178.9,176.2,177,172.5,178,176.5]"
   ]
  },
  {
   "cell_type": "code",
   "execution_count": 4,
   "id": "62b3678f-a05e-41be-b34f-b72f2d2430d5",
   "metadata": {},
   "outputs": [],
   "source": [
    "height_data = [178,177,176,177,178.2,178,175,179,180,175,178.9,176.2,177,172.5,178,176.5]"
   ]
  },
  {
   "cell_type": "code",
   "execution_count": 5,
   "id": "a6d55866-a504-4f31-b659-887f31b48c3b",
   "metadata": {},
   "outputs": [],
   "source": [
    "import numpy as np"
   ]
  },
  {
   "cell_type": "code",
   "execution_count": 6,
   "id": "953f2445-2e02-4b94-bf28-2d3a5f7f7658",
   "metadata": {},
   "outputs": [
    {
     "data": {
      "text/plain": [
       "177.01875"
      ]
     },
     "execution_count": 6,
     "metadata": {},
     "output_type": "execute_result"
    }
   ],
   "source": [
    "np.mean(height_data)"
   ]
  },
  {
   "cell_type": "code",
   "execution_count": 7,
   "id": "bd2dbfbb-36e5-41f7-aaaf-84cb81c5c430",
   "metadata": {},
   "outputs": [
    {
     "data": {
      "text/plain": [
       "177.0"
      ]
     },
     "execution_count": 7,
     "metadata": {},
     "output_type": "execute_result"
    }
   ],
   "source": [
    "np.median(height_data)"
   ]
  },
  {
   "cell_type": "code",
   "execution_count": 9,
   "id": "51fbd3fa-3dcf-4827-9fd5-74b0252fa0c0",
   "metadata": {},
   "outputs": [],
   "source": [
    "from scipy import stats"
   ]
  },
  {
   "cell_type": "code",
   "execution_count": 10,
   "id": "7b2233c6-dbec-4fd3-b228-b4609ebdfb39",
   "metadata": {},
   "outputs": [
    {
     "name": "stderr",
     "output_type": "stream",
     "text": [
      "/tmp/ipykernel_2330/2661021712.py:1: FutureWarning: Unlike other reduction functions (e.g. `skew`, `kurtosis`), the default behavior of `mode` typically preserves the axis it acts along. In SciPy 1.11.0, this behavior will change: the default value of `keepdims` will become False, the `axis` over which the statistic is taken will be eliminated, and the value None will no longer be accepted. Set `keepdims` to True or False to avoid this warning.\n",
      "  stats.mode(height_data)\n"
     ]
    },
    {
     "data": {
      "text/plain": [
       "ModeResult(mode=array([177.]), count=array([3]))"
      ]
     },
     "execution_count": 10,
     "metadata": {},
     "output_type": "execute_result"
    }
   ],
   "source": [
    "stats.mode(height_data)"
   ]
  },
  {
   "cell_type": "code",
   "execution_count": null,
   "id": "36f0db5c-99ea-4396-addb-bfe984c31f61",
   "metadata": {},
   "outputs": [],
   "source": []
  },
  {
   "cell_type": "markdown",
   "id": "661a475d-55a3-4ee2-a25d-37f1c5640ef2",
   "metadata": {},
   "source": [
    "# Q4. Find the standard deviation for the given data:\n",
    "# [178,177,176,177,178.2,178,175,179,180,175,178.9,176.2,177,172.5,178,176.5]"
   ]
  },
  {
   "cell_type": "code",
   "execution_count": 11,
   "id": "84dbce5c-2672-48d9-8d74-91dfd32ad67b",
   "metadata": {},
   "outputs": [],
   "source": [
    "data = [178,177,176,177,178.2,178,175,179,180,175,178.9,176.2,177,172.5,178,176.5]"
   ]
  },
  {
   "cell_type": "code",
   "execution_count": 14,
   "id": "198196ed-2d64-4950-9dff-6c2d7b3d13b6",
   "metadata": {},
   "outputs": [],
   "source": [
    "import numpy as np"
   ]
  },
  {
   "cell_type": "code",
   "execution_count": 15,
   "id": "792b2cd3-9ea0-497b-a55c-21b351d5876c",
   "metadata": {},
   "outputs": [
    {
     "data": {
      "text/plain": [
       "1.7885814036548633"
      ]
     },
     "execution_count": 15,
     "metadata": {},
     "output_type": "execute_result"
    }
   ],
   "source": [
    "np.std(data)"
   ]
  },
  {
   "cell_type": "markdown",
   "id": "03da6c21-a892-4d6c-b1c9-7d49df9d0092",
   "metadata": {},
   "source": [
    "# Q5. How are measures of dispersion such as range, variance, and standard deviation used to describe the spread of a dataset? Provide an example."
   ]
  },
  {
   "cell_type": "markdown",
   "id": "53707628-9c36-440b-a471-2d36fc1f4673",
   "metadata": {},
   "source": [
    "Measures of dispersion, such as range, variance, and standard deviation, are used to describe the spread or variability of a dataset. They provide insight into how the data points are distributed around the central tendency measures (mean, median, or mode). Here's how each of these measures is used:\n",
    "\n",
    "# Range:\n",
    "\n",
    "Range is the simplest measure of dispersion and is calculated as the difference between the maximum and minimum values in the dataset.\n",
    "It gives a rough idea of how spread out the data points are.\n",
    "\n",
    "Example: If you have a dataset of test scores ranging from 60 to 90, the range would be 90 - 60 = 30, indicating that the scores vary by 30 points.\n",
    "\n",
    "# Variance:\n",
    "\n",
    "Variance measures how much each data point in a dataset differs from the mean of the dataset.\n",
    "It's calculated by taking the average of the squared differences between each data point and the mean.\n",
    "Variance gives a more precise measure of dispersion compared to range.\n",
    "However, it's in squared units, which might not be intuitive for interpretation.\n",
    "\n",
    "Example: If you have a dataset of exam scores with a mean of 75, and the variance is calculated to be 100, it means that, on average, each score deviates from the mean by approximately 10 points squared.\n",
    "\n",
    "# Standard Deviation:\n",
    "\n",
    "Standard deviation is the square root of the variance and provides a measure of dispersion in the same units as the original data.\n",
    "It indicates how much the data points deviate from the mean.\n",
    "Standard deviation is widely used because it's more interpretable than variance.\n",
    "\n",
    "Example: If the standard deviation of a set of IQ scores is calculated to be 15, it means that, on average, IQ scores deviate from the mean IQ score by approximately 15 points."
   ]
  },
  {
   "cell_type": "markdown",
   "id": "aefbab6c-2ea1-4aa6-8b31-a2ac571c8f7e",
   "metadata": {},
   "source": [
    "# Q6. What is a Venn diagram?"
   ]
  },
  {
   "cell_type": "markdown",
   "id": "a3c52065-bed7-4a2c-9251-7c16653abfca",
   "metadata": {},
   "source": [
    "A Venn diagram is a graphical representation of the relationships between different sets of data. It consists of overlapping circles (or other shapes) that represent different sets, with the overlapping areas representing the elements that are common to those sets. Venn diagrams are often used to visually illustrate the similarities and differences between various groups or categories of data.\n",
    "\n",
    "The key features of a Venn diagram include:\n",
    "\n",
    "# Sets: \n",
    "Each circle or shape in the diagram represents a different set of data. The elements or members of each set are represented within the boundaries of the corresponding circle.\n",
    "\n",
    "# Overlap: \n",
    "The overlapping areas of the circles represent elements that are common to the sets they intersect. The extent of the overlap indicates the degree of similarity or intersection between the sets.\n",
    "\n",
    "# Non-overlapping regions: \n",
    "The regions outside of the overlapping areas represent elements that are unique to each set and do not intersect with any other sets."
   ]
  },
  {
   "cell_type": "markdown",
   "id": "92a7c7d5-2402-4a98-bcca-246ca3db1c07",
   "metadata": {},
   "source": [
    "# Q7. For the two given sets A = (2,3,4,5,6,7)  & B = (0,2,6,8,10). Find:\n",
    "# (i) A intersection B\n",
    "# (ii) A ⋃ B"
   ]
  },
  {
   "cell_type": "code",
   "execution_count": 16,
   "id": "113c6816-7722-4ec8-a955-63d5558a72c9",
   "metadata": {},
   "outputs": [
    {
     "name": "stdout",
     "output_type": "stream",
     "text": [
      "A ∩ B (Intersection): [2 6]\n",
      "A ⋃ B (Union): [ 0  2  3  4  5  6  7  8 10]\n"
     ]
    }
   ],
   "source": [
    "import numpy as np\n",
    "\n",
    "# Define the sets A and B\n",
    "A = np.array([2, 3, 4, 5, 6, 7])\n",
    "B = np.array([0, 2, 6, 8, 10])\n",
    "\n",
    "# (i) Intersection of A and B\n",
    "intersection = np.intersect1d(A, B)\n",
    "print(\"A ∩ B (Intersection):\", intersection)\n",
    "\n",
    "# (ii) Union of A and B\n",
    "union = np.union1d(A, B)\n",
    "print(\"A ⋃ B (Union):\", union)\n"
   ]
  },
  {
   "cell_type": "code",
   "execution_count": null,
   "id": "123dd330-b0a3-4721-9369-d993de53930c",
   "metadata": {},
   "outputs": [],
   "source": []
  },
  {
   "cell_type": "markdown",
   "id": "259bf6f3-02cc-4f85-8c04-7bb2babcddf6",
   "metadata": {},
   "source": [
    "# Q8. What do you understand about skewness in data?"
   ]
  },
  {
   "cell_type": "markdown",
   "id": "db9a1f70-df19-4c93-bc80-9dd166e8fff2",
   "metadata": {},
   "source": [
    "Skewness in data refers to the lack of symmetry in the distribution of data points. In a symmetric distribution, the data points are evenly distributed around the mean, and the distribution's left and right tails are balanced. However, in skewed distributions, the data points cluster more towards one side of the distribution than the other, causing the distribution to be asymmetrical.\n",
    "\n",
    "There are two main types of skewness:\n",
    "\n",
    "# 1 Positive skewness (right-skewed):\n",
    "\n",
    "In a positively skewed distribution, the tail on the right side of the distribution is longer or fatter than the left tail. This indicates that there are more extreme values (higher values) on the right side of the distribution.\n",
    "\n",
    "The mean is typically greater than the median in a positively skewed distribution because the presence of extreme values pulls the mean towards the higher end of the distribution.\n",
    "\n",
    "# 2 Negative skewness (left-skewed):\n",
    "\n",
    "In a negatively skewed distribution, the tail on the left side of the distribution is longer or fatter than the right tail. This indicates that there are more extreme values (lower values) on the left side of the distribution.\n",
    "\n",
    "The mean is typically less than the median in a negatively skewed distribution because the presence of extreme values pulls the mean towards the lower end of the distribution.\n",
    "\n",
    " Understanding skewness in data is essential for various analytical purposes:\n",
    "\n",
    "Skewness affects the interpretation of central tendency measures such as the mean, median, and mode. For example, in a positively skewed distribution, the mean is greater than the median, while in a negatively skewed distribution, the mean is less than the median.\n",
    "\n",
    "Skewed distributions can impact statistical analyses and inferential procedures. For instance, parametric tests may assume normality, and skewed data may violate this assumption, leading to biased results.\n",
    "\n",
    "Skewness can also influence decision-making processes in fields such as finance, economics, and risk management, where understanding the distributional properties of data is critical."
   ]
  },
  {
   "cell_type": "code",
   "execution_count": null,
   "id": "43c460a7-13dd-40b6-8407-12066e830994",
   "metadata": {},
   "outputs": [],
   "source": []
  },
  {
   "cell_type": "markdown",
   "id": "e1dc2ef0-54e7-457c-bb44-ec6294043df6",
   "metadata": {},
   "source": [
    "# Q9. If a data is right skewed then what will be the position of median with respect to mean?"
   ]
  },
  {
   "cell_type": "markdown",
   "id": "19c93f19-c9fd-48b6-be9b-027d2f325a96",
   "metadata": {},
   "source": [
    "# Mean: \n",
    "The mean is influenced by extreme values (outliers). In a right-skewed distribution, there are typically some very large values (outliers) on the right side, which pull the mean towards them, making it larger.\n",
    "\n",
    "# Median: \n",
    "The median, on the other hand, is the value that divides the dataset into two equal halves. Since the tail of a right-skewed distribution extends towards higher values, the median, being the middle value, will be closer to the lower end of the distribution. As a result, the median will be less than the mean."
   ]
  },
  {
   "cell_type": "code",
   "execution_count": null,
   "id": "2f79de55-ad24-4475-8e68-031baaf72111",
   "metadata": {},
   "outputs": [],
   "source": []
  },
  {
   "cell_type": "markdown",
   "id": "0c79e605-f604-4790-a2cb-c9135fb7781f",
   "metadata": {},
   "source": [
    "# Q10. Explain the difference between covariance and correlation. How are these measures used in statistical analysis?"
   ]
  },
  {
   "cell_type": "markdown",
   "id": "d43ba3ac-9d69-4cae-b3f7-af6b58e9e600",
   "metadata": {},
   "source": [
    "Covariance and correlation are both measures that describe the relationship between two variables in a dataset. However, they differ in terms of their scale and interpretation:\n",
    "\n",
    "# 1 Covariance:\n",
    "\n",
    "Covariance measures the extent to which two variables change together. It indicates the direction of the linear relationship between variables.\n",
    "\n",
    "It can take on any value, positive or negative, depending on the direction of the relationship. A positive covariance indicates a direct (positive) relationship, while a negative covariance indicates an inverse (negative) relationship.\n",
    "\n",
    "However, covariance does not provide a standardized measure of the strength of the relationship, making it difficult to compare covariances across different datasets.\n",
    "\n",
    "Formula: Cov(X, Y) = Σ[(X - μ_X) * (Y - μ_Y)] / N, where X and Y are variables, μ_X and μ_Y are their respective means, and N is the number of data points.\n",
    "\n",
    "# 2 Correlation:\n",
    "\n",
    "Correlation is a standardized measure of the strength and direction of the linear relationship between two variables. It ranges from -1 to 1.\n",
    "\n",
    "A correlation of +1 indicates a perfect positive linear relationship, a correlation of -1 indicates a perfect negative linear relationship, and a correlation of 0 indicates no linear relationship.\n",
    "\n",
    "Correlation adjusts for differences in scale between variables, making it easier to interpret and compare across different datasets.\n",
    "\n",
    "Pearson correlation coefficient is commonly used, especially for linear relationships. It is calculated as the covariance of the two variables divided by the product of their standard deviations.\n",
    "\n",
    "Formula: Corr(X, Y) = Cov(X, Y) / (σ_X * σ_Y), where Cov(X, Y) is the covariance of X and Y, and σ_X and σ_Y are the standard deviations of X and Y, respectively.\n",
    "\n",
    "# In statistical analysis:\n",
    "\n",
    "Covariance is used to understand the direction of the relationship between two variables and whether they tend to move together or in opposite directions. However, due to its scale dependency, it is not suitable for comparing relationships across different datasets.\n",
    "\n",
    "Correlation is used to quantify the strength and direction of the linear relationship between two variables. It provides a standardized measure that allows for comparison across datasets and is widely used in fields such as finance, economics, and social sciences for understanding relationships between variables."
   ]
  },
  {
   "cell_type": "code",
   "execution_count": null,
   "id": "fc401b6a-ed3c-4df5-8ddb-761db50fc782",
   "metadata": {},
   "outputs": [],
   "source": []
  },
  {
   "cell_type": "markdown",
   "id": "c55f3e17-466a-4b4f-b1c5-4bb702cfd839",
   "metadata": {},
   "source": [
    "Q11. What is the formula for calculating the sample mean? Provide an example calculation for a dataset."
   ]
  },
  {
   "cell_type": "markdown",
   "id": "780ce053-3e6f-4cec-a5f2-b0d46a59b681",
   "metadata": {},
   "source": [
    "# Q12. For a normal distribution data what is the relationship between its measure of central tendency?"
   ]
  },
  {
   "cell_type": "markdown",
   "id": "6447d426-b5d7-43e4-959c-1d6e79789c45",
   "metadata": {},
   "source": [
    "For a normal distribution, the mean, median, and mode are all equal. This is a characteristic property of the normal distribution and is often referred to as symmetry.\n",
    "\n",
    "\n",
    "# Mean: \n",
    "In a normal distribution, the mean represents the center of the distribution. Since the normal distribution is symmetric about its mean, the mean is also the midpoint of the distribution. Therefore, the mean is equal to the median.\n",
    "\n",
    "# Median: \n",
    "In a symmetric distribution, the median is the same as the mean. This is because half of the data points fall on either side of the median, and in a symmetric distribution, these halves are equal.\n",
    "\n",
    "# Mode: \n",
    "In a normal distribution, the highest point (peak) of the distribution occurs at the mean, making the mode equal to the mean and median as well.\n",
    "\n",
    "In summary, for a normal distribution:\n",
    "\n",
    "# Mean = Median = Mode\n",
    "\n",
    "\n",
    "This relationship holds true regardless of the specific parameters (mean and standard deviation) of the normal distribution."
   ]
  },
  {
   "cell_type": "markdown",
   "id": "ba1bffea-0f25-4def-84cb-ade6418a64de",
   "metadata": {},
   "source": [
    "# Q13. How is covariance different from correlation?"
   ]
  },
  {
   "cell_type": "markdown",
   "id": "3ff8cb26-cda2-45eb-9879-47ab09a2ce15",
   "metadata": {},
   "source": [
    "Covariance and correlation are both measures used to describe the relationship between two variables, but they differ in their interpretation, scale, and ability to compare relationships between different datasets.\n",
    "\n",
    "# 1 Interpretation:\n",
    "\n",
    "Covariance measures the degree to which two variables change together. A positive covariance indicates that the variables tend to increase or decrease together, while a negative covariance indicates that one variable tends to increase as the other decreases.\n",
    "Correlation, on the other hand, measures both the strength and direction of the linear relationship between two variables. It ranges from -1 to 1, where +1 indicates a perfect positive linear relationship, -1 indicates a perfect negative linear relationship, and 0 indicates no linear relationship.\n",
    "\n",
    "# 2 Scale:\n",
    "\n",
    "Covariance is not standardized and is affected by the scales of the variables. Therefore, it is not easily interpretable, and comparing covariances across different datasets is difficult.\n",
    "Correlation is a standardized measure, which means it does not depend on the scales of the variables. It provides a standardized way to measure the strength and direction of the relationship, making it easier to interpret and compare across different datasets.\n",
    "\n",
    "# 3 Range:\n",
    "\n",
    "Covariance can take on any value, positive, negative, or zero, depending on the relationship between the variables.\n",
    "Correlation ranges from -1 to 1, providing a clearer indication of the strength and direction of the relationship.\n",
    "\n",
    "# 4 Units:\n",
    "\n",
    "Covariance is in the units of the product of the units of the two variables.\n",
    "Correlation is a dimensionless measure, as it is calculated by standardizing the covariance by the product of the standard deviations of the variables.\n",
    "\n",
    "In summary, while covariance and correlation both describe the relationship between two variables, correlation provides a more interpretable and standardized measure of the strength and direction of this relationship, making it more commonly used in statistical analysis."
   ]
  },
  {
   "cell_type": "markdown",
   "id": "9ae670cc-4c4c-44ce-b2f6-d11c36948f7e",
   "metadata": {},
   "source": [
    "# Q14. How do outliers affect measures of central tendency and dispersion? Provide an example. "
   ]
  },
  {
   "cell_type": "markdown",
   "id": "12618e83-168e-45af-a13c-4546be88b9bc",
   "metadata": {},
   "source": [
    "Outliers can significantly affect measures of central tendency and dispersion, often skewing the results and providing a misleading representation of the data. Here's how outliers impact these measures:\n",
    "\n",
    "# 1 Measures of Central Tendency:\n",
    "\n",
    " ## Mean:\n",
    " Outliers can disproportionately influence the mean because it considers every value in the dataset. If there are extreme values, particularly those that are significantly higher or lower than the rest of the data, the mean will be pulled towards them. This can lead to an overestimation or underestimation of the typical value in the dataset.\n",
    "\n",
    "## Median:\n",
    "The median is less affected by outliers compared to the mean because it only considers the middle value(s) of the dataset. Therefore, a few extreme values will have minimal impact on the median.\n",
    "\n",
    "## Mode:\n",
    "Outliers typically have little effect on the mode, as it represents the most frequently occurring value(s) in the dataset. However, if there are outliers that occur with high frequency, they could potentially influence the mode.\n",
    "\n",
    "# 2 Measures of Dispersion:\n",
    "\n",
    "Range: Outliers can greatly affect the range because it is the difference between the maximum and minimum values in the dataset. If there are outliers, particularly extreme values, they will increase the range.\n",
    "\n",
    "Variance and Standard Deviation: Outliers can inflate the variance and standard deviation because these measures calculate the dispersion of data points around the mean. Outliers increase the deviation of data points from the mean, resulting in higher variance and standard deviation.\n",
    "\n",
    "Interquartile Range (IQR): The IQR, which measures the spread of the middle 50% of the data, is less influenced by outliers compared to the range, variance, and standard deviation. Outliers affect only the extremes of the dataset, so the IQR provides a more robust measure of dispersion in the presence of outliers.\n",
    "\n",
    "# Example:\n",
    "Consider a dataset of exam scores: {75, 80, 85, 90, 95, 100, 105}. If an outlier of 200 is added to the dataset, the impact on measures of central tendency and dispersion would be as follows:\n",
    "\n",
    "# Mean:\n",
    "The mean would increase significantly due to the large outlier.\n",
    "\n",
    "# Median: \n",
    "The median would remain largely unaffected as it only considers the middle value.\n",
    "\n",
    "# Range: \n",
    "The range would increase substantially due to the outlier's influence on the maximum value.\n",
    "\n",
    "# Variance and Standard Deviation:\n",
    "Both measures would increase due to the outlier's effect on the deviation of data points from the mean.\n",
    "\n",
    "# Interquartile Range (IQR): \n",
    "The IQR would remain relatively stable since it focuses on the middle 50% of the data and is less influenced by extreme values."
   ]
  },
  {
   "cell_type": "code",
   "execution_count": null,
   "id": "8fc57837-6a4b-4a69-8c58-46d3310e11d0",
   "metadata": {},
   "outputs": [],
   "source": []
  }
 ],
 "metadata": {
  "kernelspec": {
   "display_name": "Python 3 (ipykernel)",
   "language": "python",
   "name": "python3"
  },
  "language_info": {
   "codemirror_mode": {
    "name": "ipython",
    "version": 3
   },
   "file_extension": ".py",
   "mimetype": "text/x-python",
   "name": "python",
   "nbconvert_exporter": "python",
   "pygments_lexer": "ipython3",
   "version": "3.10.8"
  }
 },
 "nbformat": 4,
 "nbformat_minor": 5
}
