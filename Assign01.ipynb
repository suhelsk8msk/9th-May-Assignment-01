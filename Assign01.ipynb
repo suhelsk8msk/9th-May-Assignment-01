{
 "cells": [
  {
   "cell_type": "code",
   "execution_count": 1,
   "id": "c545a0bb-3870-4932-a094-f28ce823c79e",
   "metadata": {},
   "outputs": [],
   "source": [
    "s=\"PW Skills\""
   ]
  },
  {
   "cell_type": "code",
   "execution_count": 2,
   "id": "61eb3879-e74c-4f85-9ca0-96c8cc85b49e",
   "metadata": {},
   "outputs": [
    {
     "data": {
      "text/plain": [
       "str"
      ]
     },
     "execution_count": 2,
     "metadata": {},
     "output_type": "execute_result"
    }
   ],
   "source": [
    "type(s)"
   ]
  },
  {
   "cell_type": "code",
   "execution_count": 3,
   "id": "af0e6852-1353-4fb9-96ce-7068bb9aa59e",
   "metadata": {},
   "outputs": [],
   "source": [
    "mylist = [\"MANGO\",\"LICHI\",\"BANANA\",\"APPLE\"]"
   ]
  },
  {
   "cell_type": "code",
   "execution_count": 4,
   "id": "102c2f52-519d-4cc1-82f9-3909bc321e19",
   "metadata": {},
   "outputs": [
    {
     "data": {
      "text/plain": [
       "list"
      ]
     },
     "execution_count": 4,
     "metadata": {},
     "output_type": "execute_result"
    }
   ],
   "source": [
    "type(mylist)"
   ]
  },
  {
   "cell_type": "code",
   "execution_count": 5,
   "id": "8377d350-48c5-427a-ada7-bbe6c576ac5b",
   "metadata": {},
   "outputs": [],
   "source": [
    "f=55.43"
   ]
  },
  {
   "cell_type": "code",
   "execution_count": 6,
   "id": "7b183903-a5d5-4f21-9374-6909591bc0a3",
   "metadata": {},
   "outputs": [
    {
     "data": {
      "text/plain": [
       "float"
      ]
     },
     "execution_count": 6,
     "metadata": {},
     "output_type": "execute_result"
    }
   ],
   "source": [
    "type(f)"
   ]
  },
  {
   "cell_type": "code",
   "execution_count": 7,
   "id": "f5da3b73-51b3-413a-a9be-cc44096c7c88",
   "metadata": {},
   "outputs": [],
   "source": [
    "# A tuple is a collection which is ordered and unchangeable"
   ]
  },
  {
   "cell_type": "code",
   "execution_count": 8,
   "id": "c3f547f5-5966-4ee3-8f4d-0c342bbbe6f2",
   "metadata": {},
   "outputs": [],
   "source": [
    "mytuple = (\"apple\", \"banana\", \"cherry\")"
   ]
  },
  {
   "cell_type": "code",
   "execution_count": 9,
   "id": "be4abf6a-da85-439e-96e6-669b8f014f51",
   "metadata": {},
   "outputs": [
    {
     "data": {
      "text/plain": [
       "tuple"
      ]
     },
     "execution_count": 9,
     "metadata": {},
     "output_type": "execute_result"
    }
   ],
   "source": [
    "type(mytuple)"
   ]
  },
  {
   "cell_type": "code",
   "execution_count": 11,
   "id": "1ab8433a-388f-4bc5-992c-faebcafa0ed2",
   "metadata": {},
   "outputs": [],
   "source": [
    "#Q2. Given are some following variables containing data:\n",
    "\n",
    "#(i)\tvar1 = ‘ ‘\n",
    "\n",
    "#(ii)\tvar2 = ‘[ DS , ML , Python]’\n",
    "\n",
    "#(iii)\tvar3 = [ ‘DS’ , ’ML’ , ‘Python’ ]\n",
    "\n",
    "#(iv)\tvar4 = 1.\n",
    "#What will be the data type of the above given variable."
   ]
  },
  {
   "cell_type": "code",
   "execution_count": 12,
   "id": "e2ca4ff6-f979-4d04-9a62-f1350d2c5248",
   "metadata": {},
   "outputs": [],
   "source": [
    "#(i)"
   ]
  },
  {
   "cell_type": "code",
   "execution_count": 13,
   "id": "e5e14e78-c36f-4a92-ae88-16829f4e8378",
   "metadata": {},
   "outputs": [],
   "source": [
    "var1 = ''"
   ]
  },
  {
   "cell_type": "code",
   "execution_count": 14,
   "id": "886a7e9c-68a9-4766-9bc2-94d798577050",
   "metadata": {},
   "outputs": [
    {
     "data": {
      "text/plain": [
       "str"
      ]
     },
     "execution_count": 14,
     "metadata": {},
     "output_type": "execute_result"
    }
   ],
   "source": [
    "type(var1)"
   ]
  },
  {
   "cell_type": "code",
   "execution_count": 15,
   "id": "558780b6-3b52-484d-99be-f3f0e7e294eb",
   "metadata": {},
   "outputs": [],
   "source": [
    "var2 = '[ DS , ML , Python]'"
   ]
  },
  {
   "cell_type": "code",
   "execution_count": 16,
   "id": "ed06aee9-a9e8-4984-a103-4bbc5d5ade99",
   "metadata": {},
   "outputs": [
    {
     "data": {
      "text/plain": [
       "str"
      ]
     },
     "execution_count": 16,
     "metadata": {},
     "output_type": "execute_result"
    }
   ],
   "source": [
    "type(var2)"
   ]
  },
  {
   "cell_type": "code",
   "execution_count": 19,
   "id": "98f4b7d8-3914-44f3-8130-c84a5532249f",
   "metadata": {},
   "outputs": [],
   "source": [
    "var3 = [ 'DS' , 'ML' , 'Python']"
   ]
  },
  {
   "cell_type": "code",
   "execution_count": 18,
   "id": "89b67a04-e0b3-48ed-a1e6-a6a457596ba3",
   "metadata": {},
   "outputs": [
    {
     "data": {
      "text/plain": [
       "list"
      ]
     },
     "execution_count": 18,
     "metadata": {},
     "output_type": "execute_result"
    }
   ],
   "source": [
    "type(var3)"
   ]
  },
  {
   "cell_type": "code",
   "execution_count": 22,
   "id": "4ecba5b0-e411-4079-9d74-eb970d00e1c7",
   "metadata": {},
   "outputs": [],
   "source": [
    "var4 = 1."
   ]
  },
  {
   "cell_type": "code",
   "execution_count": 23,
   "id": "8ea27307-a915-4c21-b551-58f576aa857a",
   "metadata": {},
   "outputs": [
    {
     "data": {
      "text/plain": [
       "float"
      ]
     },
     "execution_count": 23,
     "metadata": {},
     "output_type": "execute_result"
    }
   ],
   "source": [
    "type(var4)"
   ]
  },
  {
   "cell_type": "code",
   "execution_count": 24,
   "id": "10ac0767-8c94-4050-af39-10d0a865d5ec",
   "metadata": {},
   "outputs": [],
   "source": [
    "#Q3. Explain the use of the following operators using an example:\n",
    "\n",
    "#(i)\t/\n",
    "\n",
    "#(ii)\t% \n",
    "\n",
    "#(iii)\t//\n",
    "\n",
    "#(iv)\t**"
   ]
  },
  {
   "cell_type": "code",
   "execution_count": 25,
   "id": "9f7c7285-e1c5-479f-b23c-bffea3312c3a",
   "metadata": {},
   "outputs": [],
   "source": [
    "#(i) Use of this operator\t/"
   ]
  },
  {
   "cell_type": "code",
   "execution_count": 26,
   "id": "facedf26-4e63-4b75-a949-b7cb891dbe9a",
   "metadata": {},
   "outputs": [],
   "source": [
    "d = 44 / 4"
   ]
  },
  {
   "cell_type": "code",
   "execution_count": 27,
   "id": "46049da8-1685-4a9a-910d-60efb3c116ce",
   "metadata": {},
   "outputs": [
    {
     "data": {
      "text/plain": [
       "11.0"
      ]
     },
     "execution_count": 27,
     "metadata": {},
     "output_type": "execute_result"
    }
   ],
   "source": [
    "d"
   ]
  },
  {
   "cell_type": "code",
   "execution_count": 28,
   "id": "3803defc-8f73-4afa-b455-b7c4f6d63c5c",
   "metadata": {},
   "outputs": [],
   "source": [
    "# /\ta / b\tDivision\tQuotient when a is divided by b.\n",
    "#The result always has type float."
   ]
  },
  {
   "cell_type": "code",
   "execution_count": 29,
   "id": "719753c1-6aff-48e2-a864-dd5ba8fb7aaf",
   "metadata": {},
   "outputs": [],
   "source": [
    "#(ii) Use of this operator\t%"
   ]
  },
  {
   "cell_type": "code",
   "execution_count": 30,
   "id": "ef24458d-b63d-4bcb-bd08-573eeb2ba58b",
   "metadata": {},
   "outputs": [],
   "source": [
    "#%\ta % b\tModulo\tRemainder when a is divided by b"
   ]
  },
  {
   "cell_type": "code",
   "execution_count": 31,
   "id": "ca569136-763c-4a61-a2aa-f64d1ed0fc7d",
   "metadata": {},
   "outputs": [],
   "source": [
    "m = 44 % 5"
   ]
  },
  {
   "cell_type": "code",
   "execution_count": 32,
   "id": "cc08bf2b-244d-46e7-bcea-937798f53083",
   "metadata": {},
   "outputs": [
    {
     "data": {
      "text/plain": [
       "4"
      ]
     },
     "execution_count": 32,
     "metadata": {},
     "output_type": "execute_result"
    }
   ],
   "source": [
    "m"
   ]
  },
  {
   "cell_type": "code",
   "execution_count": 33,
   "id": "f3ec6860-9218-45a1-9d97-1539cecbe081",
   "metadata": {},
   "outputs": [],
   "source": [
    "#(iii) Use of this operator\t//"
   ]
  },
  {
   "cell_type": "code",
   "execution_count": 34,
   "id": "13dd7d28-34cb-48a1-b0d9-1b325f29e589",
   "metadata": {},
   "outputs": [],
   "source": [
    "#//\ta // b\tFloor Division (also called Integer Division)\tQuotient when a is divided by b, rounded to the next smallest whole number"
   ]
  },
  {
   "cell_type": "code",
   "execution_count": 37,
   "id": "1001ddc9-069a-4a2b-95de-d28382686d92",
   "metadata": {},
   "outputs": [],
   "source": [
    "d = 10 / 4"
   ]
  },
  {
   "cell_type": "code",
   "execution_count": 38,
   "id": "3d1cfd81-d908-4634-a54b-e305cda45456",
   "metadata": {},
   "outputs": [
    {
     "data": {
      "text/plain": [
       "2.5"
      ]
     },
     "execution_count": 38,
     "metadata": {},
     "output_type": "execute_result"
    }
   ],
   "source": [
    "d"
   ]
  },
  {
   "cell_type": "code",
   "execution_count": 41,
   "id": "8a1435a1-4d92-471d-8bbb-cb46b2b94901",
   "metadata": {},
   "outputs": [],
   "source": [
    "r = 10 // 4"
   ]
  },
  {
   "cell_type": "code",
   "execution_count": 42,
   "id": "ab3f9a22-cf9b-4380-95da-d1801f0d3c25",
   "metadata": {},
   "outputs": [
    {
     "data": {
      "text/plain": [
       "2"
      ]
     },
     "execution_count": 42,
     "metadata": {},
     "output_type": "execute_result"
    }
   ],
   "source": [
    "r"
   ]
  },
  {
   "cell_type": "code",
   "execution_count": 43,
   "id": "b9bf42d1-d005-42af-bf9c-7f098f0474ca",
   "metadata": {},
   "outputs": [],
   "source": [
    "#(iv) Use of this operator\t**"
   ]
  },
  {
   "cell_type": "code",
   "execution_count": 44,
   "id": "cbe41ddf-def0-4354-b537-27338402e551",
   "metadata": {},
   "outputs": [],
   "source": [
    "#**\ta ** b\tExponentiation\ta raised to the power of b"
   ]
  },
  {
   "cell_type": "code",
   "execution_count": 45,
   "id": "1c62d671-8a40-4c6e-a2d9-fd84d5f554c0",
   "metadata": {},
   "outputs": [],
   "source": [
    "e = 3 ** 2"
   ]
  },
  {
   "cell_type": "code",
   "execution_count": 46,
   "id": "5a4c067b-5a3f-444f-972a-dd817337d170",
   "metadata": {},
   "outputs": [
    {
     "data": {
      "text/plain": [
       "9"
      ]
     },
     "execution_count": 46,
     "metadata": {},
     "output_type": "execute_result"
    }
   ],
   "source": [
    "e"
   ]
  },
  {
   "cell_type": "code",
   "execution_count": 47,
   "id": "f0f009fd-66ec-40f2-9e07-a768f08f342c",
   "metadata": {},
   "outputs": [],
   "source": [
    "#Q4. Create a list of length 10 of your choice containing multiple types of data. Using for loop print the element and its data type."
   ]
  },
  {
   "cell_type": "code",
   "execution_count": 94,
   "id": "5a2e9f5f-6442-4fe0-b190-5b898f1a5540",
   "metadata": {},
   "outputs": [
    {
     "name": "stdout",
     "output_type": "stream",
     "text": [
      "42: <class 'int'>\n",
      "Hello: <class 'str'>\n",
      "3.14: <class 'float'>\n",
      "True: <class 'bool'>\n",
      "[1, 2, 3]: <class 'list'>\n",
      "{'name': 'John', 'age': 30}: <class 'dict'>\n",
      "None: <class 'NoneType'>\n",
      "(1, 2, 3): <class 'tuple'>\n",
      "False: <class 'bool'>\n",
      "7.77: <class 'float'>\n"
     ]
    }
   ],
   "source": [
    "my_list = [42, \"Hello\", 3.14, True, [1, 2, 3], {\"name\": \"John\", \"age\": 30}, None, (1, 2, 3), False, 7.77]\n",
    "\n",
    "# Using a for loop to print each element and its data type\n",
    "for element in my_list:\n",
    "    print(f\"{element}: {type(element)}\")"
   ]
  },
  {
   "cell_type": "code",
   "execution_count": 95,
   "id": "013856e2-39ca-4297-8e1b-bbd9063b8e78",
   "metadata": {},
   "outputs": [],
   "source": [
    "#Q5. Using a while loop, verify if the number A is purely divisible by number B and if so then how many times it can be divisible."
   ]
  },
  {
   "cell_type": "code",
   "execution_count": 110,
   "id": "e38a7768-0b91-4071-8135-a2b225f06fb5",
   "metadata": {},
   "outputs": [
    {
     "name": "stdout",
     "output_type": "stream",
     "text": [
      "42 is purely divisible by 7.\n",
      "It can be divided 6 times.\n"
     ]
    }
   ],
   "source": [
    "def find_divisions(A, B):\n",
    "    count = 0\n",
    "    while A >= B:\n",
    "        A -= B\n",
    "        count += 1\n",
    "    return count\n",
    "\n",
    "# Test values\n",
    "number_A = 42\n",
    "number_B = 7\n",
    "\n",
    "# Check if number A is purely divisible by number B\n",
    "if number_A % number_B == 0:\n",
    "    times_divisible = find_divisions(number_A, number_B)\n",
    "    print(f\"{number_A} is purely divisible by {number_B}.\")\n",
    "    print(f\"It can be divided {times_divisible} times.\")\n",
    "else:\n",
    "    print(f\"{number_A} is not purely divisible by {number_B}.\")\n"
   ]
  },
  {
   "cell_type": "code",
   "execution_count": 97,
   "id": "1855cefe-b8c6-49e2-8a32-4899f64cfc67",
   "metadata": {},
   "outputs": [],
   "source": [
    "#Q6. Create a list containing 25 int type data. Using for loop and if-else condition print if the element is divisible by 3 or not"
   ]
  },
  {
   "cell_type": "code",
   "execution_count": 109,
   "id": "f39cead6-cbdb-47b3-90b4-b3083df97925",
   "metadata": {},
   "outputs": [
    {
     "name": "stdout",
     "output_type": "stream",
     "text": [
      "9 is divisible by 3.\n",
      "12 is divisible by 3.\n",
      "7 is not divisible by 3.\n",
      "36 is divisible by 3.\n",
      "15 is divisible by 3.\n",
      "20 is not divisible by 3.\n",
      "30 is divisible by 3.\n",
      "42 is divisible by 3.\n",
      "18 is divisible by 3.\n",
      "21 is divisible by 3.\n",
      "8 is not divisible by 3.\n",
      "25 is not divisible by 3.\n",
      "33 is divisible by 3.\n",
      "27 is divisible by 3.\n",
      "14 is not divisible by 3.\n",
      "16 is not divisible by 3.\n",
      "22 is not divisible by 3.\n",
      "6 is divisible by 3.\n",
      "10 is not divisible by 3.\n",
      "39 is divisible by 3.\n",
      "4 is not divisible by 3.\n",
      "28 is not divisible by 3.\n",
      "31 is not divisible by 3.\n",
      "45 is divisible by 3.\n",
      "17 is not divisible by 3.\n"
     ]
    }
   ],
   "source": [
    "my_list = [9, 12, 7, 36, 15, 20, 30, 42, 18, 21, 8, 25, 33, 27, 14, 16, 22, 6, 10, 39, 4, 28, 31, 45, 17]\n",
    "\n",
    "# Using a for loop and if-else condition to check divisibility by 3\n",
    "for num in my_list:\n",
    "    if num % 3 == 0:\n",
    "        print(f\"{num} is divisible by 3.\")\n",
    "    else:\n",
    "        print(f\"{num} is not divisible by 3.\")"
   ]
  },
  {
   "cell_type": "code",
   "execution_count": 99,
   "id": "165305b9-75d5-4aa7-bf45-fe758b592bc1",
   "metadata": {},
   "outputs": [],
   "source": [
    "#Q7. What do you understand about mutable and immutable data types? Give examples for both showing this property."
   ]
  },
  {
   "cell_type": "code",
   "execution_count": 100,
   "id": "2807b197-5a38-480f-a5ed-7d2c1fef84b0",
   "metadata": {},
   "outputs": [],
   "source": [
    "#Mutable and immutable are two fundamental concepts related to data types in programming languages. These concepts refer to whether the values of a data type can be changed after they are created."
   ]
  },
  {
   "cell_type": "code",
   "execution_count": 101,
   "id": "44d7b139-9fe5-4bdb-91dd-e4299e250749",
   "metadata": {},
   "outputs": [],
   "source": [
    "#Immutable Data Types:\n",
    "#Immutable data types are those whose values cannot be modified after they are created. \n",
    "#Any operation that appears to modify an immutable object actually creates a new object with the updated value. \n",
    "#Immutable objects are typically more reliable and safe to use in multithreaded environments because they cannot be changed by multiple threads simultaneously.\n",
    "#Examples of immutable data types in Python:\n",
    "\n",
    "#int (integer)\n",
    "#float (floating-point number)\n",
    "#str (string)\n",
    "#tuple"
   ]
  },
  {
   "cell_type": "code",
   "execution_count": 108,
   "id": "8aa852fe-306a-4475-b457-ab70b81f7d66",
   "metadata": {},
   "outputs": [
    {
     "name": "stdout",
     "output_type": "stream",
     "text": [
      "10\n",
      "Hello World\n",
      "(1, 2, 3, 4)\n"
     ]
    }
   ],
   "source": [
    "a = 5\n",
    "b = \"Hello\"\n",
    "c = (1, 2, 3)\n",
    "\n",
    "# Trying to modify the immutable objects\n",
    "a = 10  \n",
    "b = b + \" World\"  \n",
    "c = c + (4,)  \n",
    "\n",
    "print(a) \n",
    "print(b) \n",
    "print(c)  \n"
   ]
  },
  {
   "cell_type": "code",
   "execution_count": 103,
   "id": "03cf4451-1f05-45cb-a3f3-8f10adbaace6",
   "metadata": {},
   "outputs": [],
   "source": [
    "#Mutable Data Types:\n",
    "#Mutable data types are those whose values can be modified after they are created. \n",
    "#This means you can change the content or elements of a mutable object without creating a new object with each modification. \n",
    "#However, keep in mind that changes to mutable objects can lead to unexpected behavior if not handled properly in different parts of the code.\n",
    "#Examples of mutable data types in Python:\n",
    "\n",
    "#list\n",
    "#dict (dictionary)\n",
    "#set"
   ]
  },
  {
   "cell_type": "code",
   "execution_count": 106,
   "id": "11a3c43e-09e7-4ee6-b2d3-47bbf3cf43d3",
   "metadata": {},
   "outputs": [
    {
     "name": "stdout",
     "output_type": "stream",
     "text": [
      "[1, 2, 3, 4]\n",
      "{'name': 'John', 'age': 31}\n",
      "{4, 5, 6, 7}\n"
     ]
    }
   ],
   "source": [
    "list_a = [1, 2, 3]\n",
    "dict_a = {\"name\": \"John\", \"age\": 30}\n",
    "set_a = {4, 5, 6}\n",
    "\n",
    "# Modifying the mutable objects\n",
    "list_a.append(4) \n",
    "dict_a[\"age\"] = 31 \n",
    "set_a.add(7)  \n",
    "\n",
    "print(list_a) \n",
    "print(dict_a)  \n",
    "print(set_a)  \n"
   ]
  },
  {
   "cell_type": "code",
   "execution_count": null,
   "id": "47622085-11ad-41f0-a553-a78447d9cf52",
   "metadata": {},
   "outputs": [],
   "source": []
  }
 ],
 "metadata": {
  "kernelspec": {
   "display_name": "Python 3 (ipykernel)",
   "language": "python",
   "name": "python3"
  },
  "language_info": {
   "codemirror_mode": {
    "name": "ipython",
    "version": 3
   },
   "file_extension": ".py",
   "mimetype": "text/x-python",
   "name": "python",
   "nbconvert_exporter": "python",
   "pygments_lexer": "ipython3",
   "version": "3.10.8"
  }
 },
 "nbformat": 4,
 "nbformat_minor": 5
}
